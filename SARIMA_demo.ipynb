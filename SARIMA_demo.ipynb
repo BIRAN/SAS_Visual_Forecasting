{
  "nbformat": 4,
  "nbformat_minor": 0,
  "metadata": {
    "colab": {
      "name": "SARIMA_demo.ipynb",
      "version": "0.3.2",
      "provenance": [],
      "collapsed_sections": [],
      "include_colab_link": true
    },
    "kernelspec": {
      "name": "python3",
      "display_name": "Python 3"
    }
  },
  "cells": [
    {
      "cell_type": "markdown",
      "metadata": {
        "id": "view-in-github",
        "colab_type": "text"
      },
      "source": [
        "<a href=\"https://colab.research.google.com/github/BIRAN/SAS_Visual_Forecasting/blob/master/SARIMA_demo.ipynb\" target=\"_parent\"><img src=\"https://colab.research.google.com/assets/colab-badge.svg\" alt=\"Open In Colab\"/></a>"
      ]
    },
    {
      "cell_type": "markdown",
      "metadata": {
        "id": "FtaYKyOZUX9i",
        "colab_type": "text"
      },
      "source": [
        "# ARIMA model\n",
        "\n",
        "ARIMA is an acronym that stands for AutoRegressive Integrated Moving Average. It is a generalization of the simpler AutoRegressive Moving Average and adds the notion of integration.\n",
        "\n",
        "*This acronym is descriptive, capturing the key aspects of the model itself. Briefly, they are:*\n",
        "\n",
        "1.   **AR**: **Autoregression**. A model that uses the dependent relationship between an observation and some number of lagged observations.\n",
        "2.   **I**: **Integrated**. The use of differencing of raw observations (e.g. subtracting an observation from an observation at the previous time step) in order to make the time series stationary.\n",
        "3. **MA**: **Moving Average**. A model that uses the dependency between an observation and a residual error from a moving average model applied to lagged observations.\n"
      ]
    },
    {
      "cell_type": "code",
      "metadata": {
        "id": "_ucWvbvfA4FM",
        "colab_type": "code",
        "colab": {}
      },
      "source": [
        "from pandas import read_csv\n",
        "import pandas as pd\n",
        "import numpy as np\n",
        "import time\n",
        "from scipy.stats import norm\n",
        "import statsmodels.api as sm\n",
        "import matplotlib.pyplot as plt\n",
        "from datetime import datetime\n",
        "import requests\n",
        "from io import BytesIO\n",
        "\n",
        "%matplotlib inline"
      ],
      "execution_count": 0,
      "outputs": []
    },
    {
      "cell_type": "code",
      "metadata": {
        "id": "SP5N-X5YBEUC",
        "colab_type": "code",
        "colab": {}
      },
      "source": [
        "def parser(x):\n",
        "    return datetime.strptime(x, '%Y-%m-%d')\n",
        "\n",
        "url = 'https://raw.githubusercontent.com/BIRAN/SAS_Visual_Forecasting/master/statistical_method/air_date.csv'\n",
        "series = pd.read_csv(url, header=0, parse_dates=[0], index_col=0, squeeze=True, date_parser=parser)"
      ],
      "execution_count": 0,
      "outputs": []
    },
    {
      "cell_type": "code",
      "metadata": {
        "id": "xL4IpAOcBtN5",
        "colab_type": "code",
        "colab": {
          "base_uri": "https://localhost:8080/",
          "height": 414
        },
        "outputId": "b70fbe93-2e69-4019-ff3e-f93e22ccd407"
      },
      "source": [
        "print(series.head())\n",
        "series.plot()\n",
        "plt.title('International Airline Passengers')\n",
        "plt.show()"
      ],
      "execution_count": 12,
      "outputs": [
        {
          "output_type": "stream",
          "text": [
            "DATE\n",
            "1949-01-01    112\n",
            "1949-02-01    118\n",
            "1949-03-01    132\n",
            "1949-04-01    129\n",
            "1949-05-01    121\n",
            "Name: AIR, dtype: int64\n"
          ],
          "name": "stdout"
        },
        {
          "output_type": "display_data",
          "data": {
            "image/png": "[encoded data removed]",
            "text/plain": [
              "<Figure size 432x288 with 1 Axes>"
            ]
          },
          "metadata": {
            "tags": []
          }
        }
      ]
    },
    {
      "cell_type": "code",
      "metadata": {
        "id": "mX91SzYOBudY",
        "colab_type": "code",
        "colab": {
          "base_uri": "https://localhost:8080/",
          "height": 374
        },
        "outputId": "c20e8ad4-e5f4-4645-ce41-e18e9a7150dc"
      },
      "source": [
        "# SARIMA model test\n",
        "# 12/03/2018\n",
        "\n",
        "# International Airline Passengers\n",
        "# dataset is the Box-Jenkins Series-G\n",
        "# we talk the log, b/c it is multiplicative seasonality\n",
        "data= series\n",
        "df = np.log(data)\n",
        "\n",
        "df1=df.diff(periods=1)\n",
        "df1_12=df1.diff(periods=12)\n",
        "df1_12.mean()     # same as SAS proc arima output\n",
        "df1_12.std()      # same as SAS proc arima output\n",
        "data= df1_12\n",
        "\n",
        "\n",
        "my_order = (0, 1, 1)\n",
        "my_seasonal_order = (0, 1, 1, 12)\n",
        "number_iteration = 10\n",
        "\n",
        "\n",
        "# Aim: calculate the running time\n",
        "start_time = time.time()\n",
        "for i in range(0,number_iteration):\n",
        "    sm.tsa.statespace.SARIMAX(df, order=my_order, seasonal_order=my_seasonal_order).fit().aic\n",
        "    i=i+1\n",
        "\n",
        "\n",
        "time.time() - start_time"
      ],
      "execution_count": 4,
      "outputs": [
        {
          "output_type": "stream",
          "text": [
            "/usr/local/lib/python3.6/dist-packages/statsmodels/tsa/base/tsa_model.py:165: ValueWarning: No frequency information was provided, so inferred frequency MS will be used.\n",
            "  % freq, ValueWarning)\n",
            "/usr/local/lib/python3.6/dist-packages/statsmodels/tsa/base/tsa_model.py:165: ValueWarning: No frequency information was provided, so inferred frequency MS will be used.\n",
            "  % freq, ValueWarning)\n",
            "/usr/local/lib/python3.6/dist-packages/statsmodels/tsa/base/tsa_model.py:165: ValueWarning: No frequency information was provided, so inferred frequency MS will be used.\n",
            "  % freq, ValueWarning)\n",
            "/usr/local/lib/python3.6/dist-packages/statsmodels/tsa/base/tsa_model.py:165: ValueWarning: No frequency information was provided, so inferred frequency MS will be used.\n",
            "  % freq, ValueWarning)\n",
            "/usr/local/lib/python3.6/dist-packages/statsmodels/tsa/base/tsa_model.py:165: ValueWarning: No frequency information was provided, so inferred frequency MS will be used.\n",
            "  % freq, ValueWarning)\n",
            "/usr/local/lib/python3.6/dist-packages/statsmodels/tsa/base/tsa_model.py:165: ValueWarning: No frequency information was provided, so inferred frequency MS will be used.\n",
            "  % freq, ValueWarning)\n",
            "/usr/local/lib/python3.6/dist-packages/statsmodels/tsa/base/tsa_model.py:165: ValueWarning: No frequency information was provided, so inferred frequency MS will be used.\n",
            "  % freq, ValueWarning)\n",
            "/usr/local/lib/python3.6/dist-packages/statsmodels/tsa/base/tsa_model.py:165: ValueWarning: No frequency information was provided, so inferred frequency MS will be used.\n",
            "  % freq, ValueWarning)\n",
            "/usr/local/lib/python3.6/dist-packages/statsmodels/tsa/base/tsa_model.py:165: ValueWarning: No frequency information was provided, so inferred frequency MS will be used.\n",
            "  % freq, ValueWarning)\n",
            "/usr/local/lib/python3.6/dist-packages/statsmodels/tsa/base/tsa_model.py:165: ValueWarning: No frequency information was provided, so inferred frequency MS will be used.\n",
            "  % freq, ValueWarning)\n"
          ],
          "name": "stderr"
        },
        {
          "output_type": "execute_result",
          "data": {
            "text/plain": [
              "7.48949122428894"
            ]
          },
          "metadata": {
            "tags": []
          },
          "execution_count": 4
        }
      ]
    },
    {
      "cell_type": "code",
      "metadata": {
        "id": "vwKubD3nDUMO",
        "colab_type": "code",
        "colab": {
          "base_uri": "https://localhost:8080/",
          "height": 459
        },
        "outputId": "97b04bba-4e4e-4128-9b54-2d61bd9f2509"
      },
      "source": [
        "model = sm.tsa.statespace.SARIMAX(df, order=my_order, seasonal_order=my_seasonal_order)\n",
        "model_fit = model.fit()\n",
        "print(model_fit.summary())"
      ],
      "execution_count": 5,
      "outputs": [
        {
          "output_type": "stream",
          "text": [
            "/usr/local/lib/python3.6/dist-packages/statsmodels/tsa/base/tsa_model.py:165: ValueWarning: No frequency information was provided, so inferred frequency MS will be used.\n",
            "  % freq, ValueWarning)\n"
          ],
          "name": "stderr"
        },
        {
          "output_type": "stream",
          "text": [
            "                                 Statespace Model Results                                 \n",
            "==========================================================================================\n",
            "Dep. Variable:                                AIR   No. Observations:                  144\n",
            "Model:             SARIMAX(0, 1, 1)x(0, 1, 1, 12)   Log Likelihood                 244.686\n",
            "Date:                            Mon, 12 Aug 2019   AIC                           -483.371\n",
            "Time:                                    19:23:09   BIC                           -474.746\n",
            "Sample:                                01-01-1949   HQIC                          -479.866\n",
            "                                     - 12-01-1960                                         \n",
            "Covariance Type:                              opg                                         \n",
            "==============================================================================\n",
            "                 coef    std err          z      P>|z|      [0.025      0.975]\n",
            "------------------------------------------------------------------------------\n",
            "ma.L1         -0.4140      0.073     -5.666      0.000      -0.557      -0.271\n",
            "ma.S.L12      -0.5518      0.097     -5.711      0.000      -0.741      -0.362\n",
            "sigma2         0.0013      0.000      9.110      0.000       0.001       0.002\n",
            "===================================================================================\n",
            "Ljung-Box (Q):                       37.09   Jarque-Bera (JB):                 1.93\n",
            "Prob(Q):                              0.60   Prob(JB):                         0.38\n",
            "Heteroskedasticity (H):               0.58   Skew:                             0.02\n",
            "Prob(H) (two-sided):                  0.07   Kurtosis:                         3.59\n",
            "===================================================================================\n",
            "\n",
            "Warnings:\n",
            "[1] Covariance matrix calculated using the outer product of gradients (complex-step).\n"
          ],
          "name": "stdout"
        }
      ]
    },
    {
      "cell_type": "code",
      "metadata": {
        "id": "H2dhPyOoF6e7",
        "colab_type": "code",
        "colab": {}
      },
      "source": [
        "model?"
      ],
      "execution_count": 0,
      "outputs": []
    },
    {
      "cell_type": "code",
      "metadata": {
        "id": "phLVc_bKGRm0",
        "colab_type": "code",
        "colab": {}
      },
      "source": [
        "# Two ways to make predictions\n",
        "\n",
        "forecast_horizon1 = model_fit.forecast(12)\n",
        "\n",
        "forecast_horizon2 = model_fit.predict(start=144, end=156)"
      ],
      "execution_count": 0,
      "outputs": []
    },
    {
      "cell_type": "code",
      "metadata": {
        "id": "1W876EYuHl3D",
        "colab_type": "code",
        "colab": {}
      },
      "source": [
        "# b/c we took log at the beginning\n",
        "# we need to transform it back\n",
        "predictions = np.exp(forecast_horizon1)"
      ],
      "execution_count": 0,
      "outputs": []
    },
    {
      "cell_type": "code",
      "metadata": {
        "id": "nEgWZZL8RUg0",
        "colab_type": "code",
        "colab": {
          "base_uri": "https://localhost:8080/",
          "height": 295
        },
        "outputId": "045d8ac2-1c96-4b66-f475-dcd9c4a097d0"
      },
      "source": [
        "series_predictions= series.append(predictions)\n",
        "series.plot()\n",
        "predictions.plot()\n",
        "\n",
        "plt.title('International Airline Passengers')\n",
        "plt.show()"
      ],
      "execution_count": 16,
      "outputs": [
        {
          "output_type": "display_data",
          "data": {
            "image/png": "[encoded data removed]",
            "text/plain": [
              "<Figure size 432x288 with 1 Axes>"
            ]
          },
          "metadata": {
            "tags": []
          }
        }
      ]
    },
    {
      "cell_type": "markdown",
      "metadata": {
        "id": "exOFC59YU6Vr",
        "colab_type": "text"
      },
      "source": [
        "Other analysis, such as ACF, PACF, residual analysis should be mentioned in this notebook. However, the aim of it was to comparing the running time of ARIMA packages in different programming languages. Hence, they were not listed in the first version and may be added later."
      ]
    },
    {
      "cell_type": "code",
      "metadata": {
        "id": "10u17b-aVQCW",
        "colab_type": "code",
        "colab": {}
      },
      "source": [
        ""
      ],
      "execution_count": 0,
      "outputs": []
    }
  ]
}