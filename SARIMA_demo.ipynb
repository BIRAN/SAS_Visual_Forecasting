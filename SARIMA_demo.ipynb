{
  "nbformat": 4,
  "nbformat_minor": 0,
  "metadata": {
    "colab": {
      "name": "SARIMA_demo.ipynb",
      "version": "0.3.2",
      "provenance": [],
      "include_colab_link": true
    },
    "kernelspec": {
      "name": "python3",
      "display_name": "Python 3"
    }
  },
  "cells": [
    {
      "cell_type": "markdown",
      "metadata": {
        "id": "view-in-github",
        "colab_type": "text"
      },
      "source": [
        "<a href=\"https://colab.research.google.com/github/BIRAN/SAS_Visual_Forecasting/blob/master/SARIMA_demo.ipynb\" target=\"_parent\"><img src=\"https://colab.research.google.com/assets/colab-badge.svg\" alt=\"Open In Colab\"/></a>"
      ]
    },
    {
      "cell_type": "code",
      "metadata": {
        "id": "_ucWvbvfA4FM",
        "colab_type": "code",
        "colab": {}
      },
      "source": [
        "from pandas import read_csv\n",
        "import pandas as pd\n",
        "import numpy as np\n",
        "import time\n",
        "from scipy.stats import norm\n",
        "import statsmodels.api as sm\n",
        "import matplotlib.pyplot as plt\n",
        "from datetime import datetime\n",
        "import requests\n",
        "from io import BytesIO\n",
        "\n",
        "%matplotlib inline"
      ],
      "execution_count": 0,
      "outputs": []
    },
    {
      "cell_type": "code",
      "metadata": {
        "id": "SP5N-X5YBEUC",
        "colab_type": "code",
        "colab": {}
      },
      "source": [
        "def parser(x):\n",
        "    return datetime.strptime(x, '%Y-%m-%d')\n",
        "\n",
        "url = 'https://raw.githubusercontent.com/BIRAN/SAS_Visual_Forecasting/master/statistical_method/air_date.csv'\n",
        "series = pd.read_csv(url, header=0, parse_dates=[0], index_col=0, squeeze=True, date_parser=parser)"
      ],
      "execution_count": 0,
      "outputs": []
    },
    {
      "cell_type": "code",
      "metadata": {
        "id": "xL4IpAOcBtN5",
        "colab_type": "code",
        "colab": {
          "base_uri": "https://localhost:8080/",
          "height": 1000
        },
        "outputId": "884ad201-1f95-4756-b165-067e35692900"
      },
      "source": [
        "series"
      ],
      "execution_count": 3,
      "outputs": [
        {
          "output_type": "execute_result",
          "data": {
            "text/plain": [
              "DATE\n",
              "1949-01-01    112\n",
              "1949-02-01    118\n",
              "1949-03-01    132\n",
              "1949-04-01    129\n",
              "1949-05-01    121\n",
              "1949-06-01    135\n",
              "1949-07-01    148\n",
              "1949-08-01    148\n",
              "1949-09-01    136\n",
              "1949-10-01    119\n",
              "1949-11-01    104\n",
              "1949-12-01    118\n",
              "1950-01-01    115\n",
              "1950-02-01    126\n",
              "1950-03-01    141\n",
              "1950-04-01    135\n",
              "1950-05-01    125\n",
              "1950-06-01    149\n",
              "1950-07-01    170\n",
              "1950-08-01    170\n",
              "1950-09-01    158\n",
              "1950-10-01    133\n",
              "1950-11-01    114\n",
              "1950-12-01    140\n",
              "1951-01-01    145\n",
              "1951-02-01    150\n",
              "1951-03-01    178\n",
              "1951-04-01    163\n",
              "1951-05-01    172\n",
              "1951-06-01    178\n",
              "             ... \n",
              "1958-07-01    491\n",
              "1958-08-01    505\n",
              "1958-09-01    404\n",
              "1958-10-01    359\n",
              "1958-11-01    310\n",
              "1958-12-01    337\n",
              "1959-01-01    360\n",
              "1959-02-01    342\n",
              "1959-03-01    406\n",
              "1959-04-01    396\n",
              "1959-05-01    420\n",
              "1959-06-01    472\n",
              "1959-07-01    548\n",
              "1959-08-01    559\n",
              "1959-09-01    463\n",
              "1959-10-01    407\n",
              "1959-11-01    362\n",
              "1959-12-01    405\n",
              "1960-01-01    417\n",
              "1960-02-01    391\n",
              "1960-03-01    419\n",
              "1960-04-01    461\n",
              "1960-05-01    472\n",
              "1960-06-01    535\n",
              "1960-07-01    622\n",
              "1960-08-01    606\n",
              "1960-09-01    508\n",
              "1960-10-01    461\n",
              "1960-11-01    390\n",
              "1960-12-01    432\n",
              "Name: AIR, Length: 144, dtype: int64"
            ]
          },
          "metadata": {
            "tags": []
          },
          "execution_count": 3
        }
      ]
    },
    {
      "cell_type": "code",
      "metadata": {
        "id": "mX91SzYOBudY",
        "colab_type": "code",
        "colab": {
          "base_uri": "https://localhost:8080/",
          "height": 374
        },
        "outputId": "ff691fca-0dc4-4c7b-bd30-8b39eaaf1d1d"
      },
      "source": [
        "# SARIMA model test\n",
        "# 12/03/2018\n",
        "\n",
        "# International Airline Passengers\n",
        "# dataset is the Box-Jenkins Series-G\n",
        "# we talk the log, b/c it is multiplicative seasonality\n",
        "data= series\n",
        "df = np.log(data)\n",
        "\n",
        "df1=df.diff(periods=1)\n",
        "df1_12=df1.diff(periods=12)\n",
        "df1_12.mean()     # same as SAS proc arima output\n",
        "df1_12.std()      # same as SAS proc arima output\n",
        "data= df1_12\n",
        "\n",
        "\n",
        "my_order = (0, 1, 1)\n",
        "my_seasonal_order = (0, 1, 1, 12)\n",
        "number_iteration = 10\n",
        "\n",
        "\n",
        "# Aim: calculate the running time\n",
        "start_time = time.time()\n",
        "for i in range(0,number_iteration):\n",
        "    sm.tsa.statespace.SARIMAX(df, order=my_order, seasonal_order=my_seasonal_order).fit().aic\n",
        "    i=i+1\n",
        "\n",
        "\n",
        "time.time() - start_time"
      ],
      "execution_count": 4,
      "outputs": [
        {
          "output_type": "stream",
          "text": [
            "/usr/local/lib/python3.6/dist-packages/statsmodels/tsa/base/tsa_model.py:165: ValueWarning: No frequency information was provided, so inferred frequency MS will be used.\n",
            "  % freq, ValueWarning)\n",
            "/usr/local/lib/python3.6/dist-packages/statsmodels/tsa/base/tsa_model.py:165: ValueWarning: No frequency information was provided, so inferred frequency MS will be used.\n",
            "  % freq, ValueWarning)\n",
            "/usr/local/lib/python3.6/dist-packages/statsmodels/tsa/base/tsa_model.py:165: ValueWarning: No frequency information was provided, so inferred frequency MS will be used.\n",
            "  % freq, ValueWarning)\n",
            "/usr/local/lib/python3.6/dist-packages/statsmodels/tsa/base/tsa_model.py:165: ValueWarning: No frequency information was provided, so inferred frequency MS will be used.\n",
            "  % freq, ValueWarning)\n",
            "/usr/local/lib/python3.6/dist-packages/statsmodels/tsa/base/tsa_model.py:165: ValueWarning: No frequency information was provided, so inferred frequency MS will be used.\n",
            "  % freq, ValueWarning)\n",
            "/usr/local/lib/python3.6/dist-packages/statsmodels/tsa/base/tsa_model.py:165: ValueWarning: No frequency information was provided, so inferred frequency MS will be used.\n",
            "  % freq, ValueWarning)\n",
            "/usr/local/lib/python3.6/dist-packages/statsmodels/tsa/base/tsa_model.py:165: ValueWarning: No frequency information was provided, so inferred frequency MS will be used.\n",
            "  % freq, ValueWarning)\n",
            "/usr/local/lib/python3.6/dist-packages/statsmodels/tsa/base/tsa_model.py:165: ValueWarning: No frequency information was provided, so inferred frequency MS will be used.\n",
            "  % freq, ValueWarning)\n",
            "/usr/local/lib/python3.6/dist-packages/statsmodels/tsa/base/tsa_model.py:165: ValueWarning: No frequency information was provided, so inferred frequency MS will be used.\n",
            "  % freq, ValueWarning)\n",
            "/usr/local/lib/python3.6/dist-packages/statsmodels/tsa/base/tsa_model.py:165: ValueWarning: No frequency information was provided, so inferred frequency MS will be used.\n",
            "  % freq, ValueWarning)\n"
          ],
          "name": "stderr"
        },
        {
          "output_type": "execute_result",
          "data": {
            "text/plain": [
              "7.586121082305908"
            ]
          },
          "metadata": {
            "tags": []
          },
          "execution_count": 4
        }
      ]
    },
    {
      "cell_type": "code",
      "metadata": {
        "id": "vwKubD3nDUMO",
        "colab_type": "code",
        "colab": {
          "base_uri": "https://localhost:8080/",
          "height": 459
        },
        "outputId": "f90a08fa-1a87-4a6b-fbed-4b6f531762b4"
      },
      "source": [
        "model = sm.tsa.statespace.SARIMAX(df, order=my_order, seasonal_order=my_seasonal_order)\n",
        "model_fit = model.fit()\n",
        "print(model_fit.summary())"
      ],
      "execution_count": 5,
      "outputs": [
        {
          "output_type": "stream",
          "text": [
            "/usr/local/lib/python3.6/dist-packages/statsmodels/tsa/base/tsa_model.py:165: ValueWarning: No frequency information was provided, so inferred frequency MS will be used.\n",
            "  % freq, ValueWarning)\n"
          ],
          "name": "stderr"
        },
        {
          "output_type": "stream",
          "text": [
            "                                 Statespace Model Results                                 \n",
            "==========================================================================================\n",
            "Dep. Variable:                                AIR   No. Observations:                  144\n",
            "Model:             SARIMAX(0, 1, 1)x(0, 1, 1, 12)   Log Likelihood                 244.686\n",
            "Date:                            Mon, 12 Aug 2019   AIC                           -483.371\n",
            "Time:                                    18:42:19   BIC                           -474.746\n",
            "Sample:                                01-01-1949   HQIC                          -479.866\n",
            "                                     - 12-01-1960                                         \n",
            "Covariance Type:                              opg                                         \n",
            "==============================================================================\n",
            "                 coef    std err          z      P>|z|      [0.025      0.975]\n",
            "------------------------------------------------------------------------------\n",
            "ma.L1         -0.4140      0.073     -5.666      0.000      -0.557      -0.271\n",
            "ma.S.L12      -0.5518      0.097     -5.711      0.000      -0.741      -0.362\n",
            "sigma2         0.0013      0.000      9.110      0.000       0.001       0.002\n",
            "===================================================================================\n",
            "Ljung-Box (Q):                       37.09   Jarque-Bera (JB):                 1.93\n",
            "Prob(Q):                              0.60   Prob(JB):                         0.38\n",
            "Heteroskedasticity (H):               0.58   Skew:                             0.02\n",
            "Prob(H) (two-sided):                  0.07   Kurtosis:                         3.59\n",
            "===================================================================================\n",
            "\n",
            "Warnings:\n",
            "[1] Covariance matrix calculated using the outer product of gradients (complex-step).\n"
          ],
          "name": "stdout"
        }
      ]
    },
    {
      "cell_type": "code",
      "metadata": {
        "id": "H2dhPyOoF6e7",
        "colab_type": "code",
        "colab": {}
      },
      "source": [
        "model?"
      ],
      "execution_count": 0,
      "outputs": []
    },
    {
      "cell_type": "code",
      "metadata": {
        "id": "phLVc_bKGRm0",
        "colab_type": "code",
        "colab": {}
      },
      "source": [
        "# Two ways to make predictions\n",
        "\n",
        "forecast_horizon1 = model_fit.forecast(12)\n",
        "\n",
        "forecast_horizon2 = model_fit.predict(start=144, end=156)"
      ],
      "execution_count": 0,
      "outputs": []
    },
    {
      "cell_type": "code",
      "metadata": {
        "id": "1W876EYuHl3D",
        "colab_type": "code",
        "colab": {}
      },
      "source": [
        "# b/c we took log at the beginning\n",
        "# we need to transform it back\n",
        "predictions = np.exp(forecast_horizon)"
      ],
      "execution_count": 0,
      "outputs": []
    },
    {
      "cell_type": "code",
      "metadata": {
        "id": "nEgWZZL8RUg0",
        "colab_type": "code",
        "colab": {}
      },
      "source": [
        ""
      ],
      "execution_count": 0,
      "outputs": []
    }
  ]
}