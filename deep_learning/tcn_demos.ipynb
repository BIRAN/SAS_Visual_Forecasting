{
  "nbformat": 4,
  "nbformat_minor": 0,
  "metadata": {
    "colab": {
      "name": "tcn_demos.ipynb",
      "version": "0.3.2",
      "provenance": [],
      "collapsed_sections": [],
      "include_colab_link": true
    },
    "kernelspec": {
      "name": "python3",
      "display_name": "Python 3"
    }
  },
  "cells": [
    {
      "cell_type": "markdown",
      "metadata": {
        "id": "view-in-github",
        "colab_type": "text"
      },
      "source": [
        "<a href=\"https://colab.research.google.com/github/BIRAN/SAS_Visual_Forecasting/blob/master/deep_learning/tcn_demos.ipynb\" target=\"_parent\"><img src=\"https://colab.research.google.com/assets/colab-badge.svg\" alt=\"Open In Colab\"/></a>"
      ]
    },
    {
      "cell_type": "code",
      "metadata": {
        "id": "4wqkoZ9I5C-q",
        "colab_type": "code",
        "colab": {
          "base_uri": "https://localhost:8080/",
          "height": 170
        },
        "outputId": "3b81cbe8-21eb-4118-dbcb-48ce208a272c"
      },
      "source": [
        "!pip install keras-tcn"
      ],
      "execution_count": 1,
      "outputs": [
        {
          "output_type": "stream",
          "text": [
            "Requirement already satisfied: keras-tcn in /usr/local/lib/python3.6/dist-packages (2.8.2)\n",
            "Requirement already satisfied: keras in /usr/local/lib/python3.6/dist-packages (from keras-tcn) (2.2.4)\n",
            "Requirement already satisfied: numpy in /usr/local/lib/python3.6/dist-packages (from keras-tcn) (1.16.4)\n",
            "Requirement already satisfied: keras-preprocessing>=1.0.5 in /usr/local/lib/python3.6/dist-packages (from keras->keras-tcn) (1.1.0)\n",
            "Requirement already satisfied: scipy>=0.14 in /usr/local/lib/python3.6/dist-packages (from keras->keras-tcn) (1.3.1)\n",
            "Requirement already satisfied: pyyaml in /usr/local/lib/python3.6/dist-packages (from keras->keras-tcn) (3.13)\n",
            "Requirement already satisfied: keras-applications>=1.0.6 in /usr/local/lib/python3.6/dist-packages (from keras->keras-tcn) (1.0.8)\n",
            "Requirement already satisfied: h5py in /usr/local/lib/python3.6/dist-packages (from keras->keras-tcn) (2.8.0)\n",
            "Requirement already satisfied: six>=1.9.0 in /usr/local/lib/python3.6/dist-packages (from keras->keras-tcn) (1.12.0)\n"
          ],
          "name": "stdout"
        }
      ]
    },
    {
      "cell_type": "code",
      "metadata": {
        "id": "hVSjpVlnx3_V",
        "colab_type": "code",
        "colab": {
          "base_uri": "https://localhost:8080/",
          "height": 34
        },
        "outputId": "bfbf612d-f0df-4076-8b26-99ebb362e32d"
      },
      "source": [
        "import matplotlib.pyplot as plt\n",
        "import numpy as np\n",
        "import pandas as pd\n",
        "import tensorflow as tf\n",
        "from keras import Input, Model\n",
        "from keras.layers import Dense\n",
        "\n",
        "from tcn import TCN\n",
        "\n",
        "url = 'https://raw.githubusercontent.com/BIRAN/keras-tcn/master/tasks/monthly-milk-production-pounds-p.csv'\n",
        "milk = pd.read_csv(url, index_col=0, parse_dates=True)"
      ],
      "execution_count": 2,
      "outputs": [
        {
          "output_type": "stream",
          "text": [
            "Using TensorFlow backend.\n"
          ],
          "name": "stderr"
        }
      ]
    },
    {
      "cell_type": "code",
      "metadata": {
        "id": "jeiaiXMPyKDt",
        "colab_type": "code",
        "colab": {
          "base_uri": "https://localhost:8080/",
          "height": 136
        },
        "outputId": "f7affb29-77ce-4505-df8b-ca2c03042e28"
      },
      "source": [
        "print(milk.head())"
      ],
      "execution_count": 3,
      "outputs": [
        {
          "output_type": "stream",
          "text": [
            "            milk_production_pounds\n",
            "month                             \n",
            "1962-01-01                     589\n",
            "1962-02-01                     561\n",
            "1962-03-01                     640\n",
            "1962-04-01                     656\n",
            "1962-05-01                     727\n"
          ],
          "name": "stdout"
        }
      ]
    },
    {
      "cell_type": "code",
      "metadata": {
        "id": "dqiF_JOOy0MU",
        "colab_type": "code",
        "colab": {
          "base_uri": "https://localhost:8080/",
          "height": 51
        },
        "outputId": "7f21b9bf-4b1e-4805-9791-72df22913442"
      },
      "source": [
        "##\n",
        "# It's a very naive (toy) example to show how to do time series forecasting.\n",
        "# - There are no training-testing sets here. Everything is training set for simplicity.\n",
        "# - There is no input/output normalization.\n",
        "# - The model is simple.\n",
        "##\n",
        "lookback_window = 12  # months.\n",
        "\n",
        "milk = milk.values  # just keep np array here for simplicity.\n",
        "\n",
        "x, y = [], []\n",
        "for i in range(lookback_window, len(milk)):\n",
        "    x.append(milk[i - lookback_window:i])\n",
        "    y.append(milk[i])\n",
        "    \n",
        "x = np.array(x)\n",
        "y = np.array(y)\n",
        "\n",
        "print(x.shape)\n",
        "print(y.shape)"
      ],
      "execution_count": 4,
      "outputs": [
        {
          "output_type": "stream",
          "text": [
            "(156, 12, 1)\n",
            "(156, 1)\n"
          ],
          "name": "stdout"
        }
      ]
    },
    {
      "cell_type": "code",
      "metadata": {
        "id": "SL41hvlLCZbh",
        "colab_type": "code",
        "colab": {}
      },
      "source": [
        "# add callbacks \n",
        "\n",
        "class myCallback(tf.keras.callbacks.Callback):\n",
        "  def on_epoch_end(self, epoch, logs={}):\n",
        "    if(logs.get('loss')<20):\n",
        "      print(\"\\nReached high accuracy so cancelling training!\")\n",
        "      self.model.stop_training = True\n",
        "\n",
        "\n",
        "callbacks = myCallback()"
      ],
      "execution_count": 0,
      "outputs": []
    },
    {
      "cell_type": "code",
      "metadata": {
        "id": "yDT8kHyUCXUy",
        "colab_type": "code",
        "colab": {
          "base_uri": "https://localhost:8080/",
          "height": 1000
        },
        "outputId": "01155690-a8d7-4e27-a17e-08225e61701e"
      },
      "source": [
        "i = Input(shape=(lookback_window, 1))\n",
        "m = TCN()(i)\n",
        "m = Dense(1, activation='linear')(m)\n",
        "\n",
        "model = Model(inputs=[i], outputs=[m])\n",
        "\n",
        "model.summary()"
      ],
      "execution_count": 6,
      "outputs": [
        {
          "output_type": "stream",
          "text": [
            "WARNING: Logging before flag parsing goes to stderr.\n",
            "W0815 15:11:40.732051 139838907565952 deprecation_wrapper.py:119] From /usr/local/lib/python3.6/dist-packages/keras/backend/tensorflow_backend.py:74: The name tf.get_default_graph is deprecated. Please use tf.compat.v1.get_default_graph instead.\n",
            "\n",
            "W0815 15:11:40.750784 139838907565952 deprecation_wrapper.py:119] From /usr/local/lib/python3.6/dist-packages/keras/backend/tensorflow_backend.py:517: The name tf.placeholder is deprecated. Please use tf.compat.v1.placeholder instead.\n",
            "\n",
            "W0815 15:11:40.755143 139838907565952 deprecation_wrapper.py:119] From /usr/local/lib/python3.6/dist-packages/keras/backend/tensorflow_backend.py:4185: The name tf.truncated_normal is deprecated. Please use tf.random.truncated_normal instead.\n",
            "\n",
            "W0815 15:11:40.816406 139838907565952 deprecation_wrapper.py:119] From /usr/local/lib/python3.6/dist-packages/keras/backend/tensorflow_backend.py:4138: The name tf.random_uniform is deprecated. Please use tf.random.uniform instead.\n",
            "\n",
            "W0815 15:11:41.356209 139838907565952 deprecation_wrapper.py:119] From /usr/local/lib/python3.6/dist-packages/keras/optimizers.py:790: The name tf.train.Optimizer is deprecated. Please use tf.compat.v1.train.Optimizer instead.\n",
            "\n"
          ],
          "name": "stderr"
        },
        {
          "output_type": "stream",
          "text": [
            "__________________________________________________________________________________________________\n",
            "Layer (type)                    Output Shape         Param #     Connected to                     \n",
            "==================================================================================================\n",
            "input_1 (InputLayer)            (None, 12, 1)        0                                            \n",
            "__________________________________________________________________________________________________\n",
            "conv1d_1 (Conv1D)               (None, 12, 64)       128         input_1[0][0]                    \n",
            "__________________________________________________________________________________________________\n",
            "conv1d_2 (Conv1D)               (None, 12, 64)       8256        conv1d_1[0][0]                   \n",
            "__________________________________________________________________________________________________\n",
            "activation_1 (Activation)       (None, 12, 64)       0           conv1d_2[0][0]                   \n",
            "__________________________________________________________________________________________________\n",
            "spatial_dropout1d_1 (SpatialDro (None, 12, 64)       0           activation_1[0][0]               \n",
            "__________________________________________________________________________________________________\n",
            "conv1d_3 (Conv1D)               (None, 12, 64)       8256        spatial_dropout1d_1[0][0]        \n",
            "__________________________________________________________________________________________________\n",
            "activation_2 (Activation)       (None, 12, 64)       0           conv1d_3[0][0]                   \n",
            "__________________________________________________________________________________________________\n",
            "spatial_dropout1d_2 (SpatialDro (None, 12, 64)       0           activation_2[0][0]               \n",
            "__________________________________________________________________________________________________\n",
            "conv1d_4 (Conv1D)               (None, 12, 64)       4160        conv1d_1[0][0]                   \n",
            "__________________________________________________________________________________________________\n",
            "add_1 (Add)                     (None, 12, 64)       0           conv1d_4[0][0]                   \n",
            "                                                                 spatial_dropout1d_2[0][0]        \n",
            "__________________________________________________________________________________________________\n",
            "activation_3 (Activation)       (None, 12, 64)       0           add_1[0][0]                      \n",
            "__________________________________________________________________________________________________\n",
            "conv1d_5 (Conv1D)               (None, 12, 64)       8256        activation_3[0][0]               \n",
            "__________________________________________________________________________________________________\n",
            "activation_4 (Activation)       (None, 12, 64)       0           conv1d_5[0][0]                   \n",
            "__________________________________________________________________________________________________\n",
            "spatial_dropout1d_3 (SpatialDro (None, 12, 64)       0           activation_4[0][0]               \n",
            "__________________________________________________________________________________________________\n",
            "conv1d_6 (Conv1D)               (None, 12, 64)       8256        spatial_dropout1d_3[0][0]        \n",
            "__________________________________________________________________________________________________\n",
            "activation_5 (Activation)       (None, 12, 64)       0           conv1d_6[0][0]                   \n",
            "__________________________________________________________________________________________________\n",
            "spatial_dropout1d_4 (SpatialDro (None, 12, 64)       0           activation_5[0][0]               \n",
            "__________________________________________________________________________________________________\n",
            "conv1d_7 (Conv1D)               (None, 12, 64)       4160        activation_3[0][0]               \n",
            "__________________________________________________________________________________________________\n",
            "add_2 (Add)                     (None, 12, 64)       0           conv1d_7[0][0]                   \n",
            "                                                                 spatial_dropout1d_4[0][0]        \n",
            "__________________________________________________________________________________________________\n",
            "activation_6 (Activation)       (None, 12, 64)       0           add_2[0][0]                      \n",
            "__________________________________________________________________________________________________\n",
            "conv1d_8 (Conv1D)               (None, 12, 64)       8256        activation_6[0][0]               \n",
            "__________________________________________________________________________________________________\n",
            "activation_7 (Activation)       (None, 12, 64)       0           conv1d_8[0][0]                   \n",
            "__________________________________________________________________________________________________\n",
            "spatial_dropout1d_5 (SpatialDro (None, 12, 64)       0           activation_7[0][0]               \n",
            "__________________________________________________________________________________________________\n",
            "conv1d_9 (Conv1D)               (None, 12, 64)       8256        spatial_dropout1d_5[0][0]        \n",
            "__________________________________________________________________________________________________\n",
            "activation_8 (Activation)       (None, 12, 64)       0           conv1d_9[0][0]                   \n",
            "__________________________________________________________________________________________________\n",
            "spatial_dropout1d_6 (SpatialDro (None, 12, 64)       0           activation_8[0][0]               \n",
            "__________________________________________________________________________________________________\n",
            "conv1d_10 (Conv1D)              (None, 12, 64)       4160        activation_6[0][0]               \n",
            "__________________________________________________________________________________________________\n",
            "add_3 (Add)                     (None, 12, 64)       0           conv1d_10[0][0]                  \n",
            "                                                                 spatial_dropout1d_6[0][0]        \n",
            "__________________________________________________________________________________________________\n",
            "activation_9 (Activation)       (None, 12, 64)       0           add_3[0][0]                      \n",
            "__________________________________________________________________________________________________\n",
            "conv1d_11 (Conv1D)              (None, 12, 64)       8256        activation_9[0][0]               \n",
            "__________________________________________________________________________________________________\n",
            "activation_10 (Activation)      (None, 12, 64)       0           conv1d_11[0][0]                  \n",
            "__________________________________________________________________________________________________\n",
            "spatial_dropout1d_7 (SpatialDro (None, 12, 64)       0           activation_10[0][0]              \n",
            "__________________________________________________________________________________________________\n",
            "conv1d_12 (Conv1D)              (None, 12, 64)       8256        spatial_dropout1d_7[0][0]        \n",
            "__________________________________________________________________________________________________\n",
            "activation_11 (Activation)      (None, 12, 64)       0           conv1d_12[0][0]                  \n",
            "__________________________________________________________________________________________________\n",
            "spatial_dropout1d_8 (SpatialDro (None, 12, 64)       0           activation_11[0][0]              \n",
            "__________________________________________________________________________________________________\n",
            "conv1d_13 (Conv1D)              (None, 12, 64)       4160        activation_9[0][0]               \n",
            "__________________________________________________________________________________________________\n",
            "add_4 (Add)                     (None, 12, 64)       0           conv1d_13[0][0]                  \n",
            "                                                                 spatial_dropout1d_8[0][0]        \n",
            "__________________________________________________________________________________________________\n",
            "activation_12 (Activation)      (None, 12, 64)       0           add_4[0][0]                      \n",
            "__________________________________________________________________________________________________\n",
            "conv1d_14 (Conv1D)              (None, 12, 64)       8256        activation_12[0][0]              \n",
            "__________________________________________________________________________________________________\n",
            "activation_13 (Activation)      (None, 12, 64)       0           conv1d_14[0][0]                  \n",
            "__________________________________________________________________________________________________\n",
            "spatial_dropout1d_9 (SpatialDro (None, 12, 64)       0           activation_13[0][0]              \n",
            "__________________________________________________________________________________________________\n",
            "conv1d_15 (Conv1D)              (None, 12, 64)       8256        spatial_dropout1d_9[0][0]        \n",
            "__________________________________________________________________________________________________\n",
            "activation_14 (Activation)      (None, 12, 64)       0           conv1d_15[0][0]                  \n",
            "__________________________________________________________________________________________________\n",
            "spatial_dropout1d_10 (SpatialDr (None, 12, 64)       0           activation_14[0][0]              \n",
            "__________________________________________________________________________________________________\n",
            "conv1d_16 (Conv1D)              (None, 12, 64)       4160        activation_12[0][0]              \n",
            "__________________________________________________________________________________________________\n",
            "add_5 (Add)                     (None, 12, 64)       0           conv1d_16[0][0]                  \n",
            "                                                                 spatial_dropout1d_10[0][0]       \n",
            "__________________________________________________________________________________________________\n",
            "activation_15 (Activation)      (None, 12, 64)       0           add_5[0][0]                      \n",
            "__________________________________________________________________________________________________\n",
            "conv1d_17 (Conv1D)              (None, 12, 64)       8256        activation_15[0][0]              \n",
            "__________________________________________________________________________________________________\n",
            "activation_16 (Activation)      (None, 12, 64)       0           conv1d_17[0][0]                  \n",
            "__________________________________________________________________________________________________\n",
            "spatial_dropout1d_11 (SpatialDr (None, 12, 64)       0           activation_16[0][0]              \n",
            "__________________________________________________________________________________________________\n",
            "conv1d_18 (Conv1D)              (None, 12, 64)       8256        spatial_dropout1d_11[0][0]       \n",
            "__________________________________________________________________________________________________\n",
            "activation_17 (Activation)      (None, 12, 64)       0           conv1d_18[0][0]                  \n",
            "__________________________________________________________________________________________________\n",
            "spatial_dropout1d_12 (SpatialDr (None, 12, 64)       0           activation_17[0][0]              \n",
            "__________________________________________________________________________________________________\n",
            "add_7 (Add)                     (None, 12, 64)       0           spatial_dropout1d_2[0][0]        \n",
            "                                                                 spatial_dropout1d_4[0][0]        \n",
            "                                                                 spatial_dropout1d_6[0][0]        \n",
            "                                                                 spatial_dropout1d_8[0][0]        \n",
            "                                                                 spatial_dropout1d_10[0][0]       \n",
            "                                                                 spatial_dropout1d_12[0][0]       \n",
            "__________________________________________________________________________________________________\n",
            "lambda_1 (Lambda)               (None, 64)           0           add_7[0][0]                      \n",
            "__________________________________________________________________________________________________\n",
            "dense_1 (Dense)                 (None, 1)            65          lambda_1[0][0]                   \n",
            "==================================================================================================\n",
            "Total params: 120,065\n",
            "Trainable params: 120,065\n",
            "Non-trainable params: 0\n",
            "__________________________________________________________________________________________________\n",
            "Train...\n"
          ],
          "name": "stdout"
        },
        {
          "output_type": "stream",
          "text": [
            "W0815 15:11:41.990592 139838907565952 deprecation_wrapper.py:119] From /usr/local/lib/python3.6/dist-packages/keras/backend/tensorflow_backend.py:986: The name tf.assign_add is deprecated. Please use tf.compat.v1.assign_add instead.\n",
            "\n"
          ],
          "name": "stderr"
        },
        {
          "output_type": "stream",
          "text": [
            "Epoch 1/300\n",
            " - 1s - loss: 4208.8006\n",
            "Epoch 2/300\n",
            " - 0s - loss: 1443.9459\n",
            "Epoch 3/300\n",
            " - 0s - loss: 1299.5113\n",
            "Epoch 4/300\n",
            " - 0s - loss: 1580.6245\n",
            "Epoch 5/300\n",
            " - 0s - loss: 1188.9159\n",
            "Epoch 6/300\n",
            " - 0s - loss: 773.1348\n",
            "Epoch 7/300\n",
            " - 0s - loss: 386.4376\n",
            "Epoch 8/300\n",
            " - 0s - loss: 721.2585\n",
            "Epoch 9/300\n",
            " - 0s - loss: 545.4288\n",
            "Epoch 10/300\n",
            " - 0s - loss: 431.0598\n",
            "Epoch 11/300\n",
            " - 0s - loss: 451.3704\n",
            "Epoch 12/300\n",
            " - 0s - loss: 465.7436\n",
            "Epoch 13/300\n",
            " - 0s - loss: 270.4517\n",
            "Epoch 14/300\n",
            " - 0s - loss: 193.1518\n",
            "Epoch 15/300\n",
            " - 0s - loss: 107.7688\n",
            "Epoch 16/300\n",
            " - 0s - loss: 180.6778\n",
            "Epoch 17/300\n",
            " - 0s - loss: 171.4618\n",
            "Epoch 18/300\n",
            " - 0s - loss: 120.0292\n",
            "Epoch 19/300\n",
            " - 0s - loss: 175.9497\n",
            "Epoch 20/300\n",
            " - 0s - loss: 109.0000\n",
            "Epoch 21/300\n",
            " - 0s - loss: 84.8660\n",
            "Epoch 22/300\n",
            " - 0s - loss: 251.6077\n",
            "Epoch 23/300\n",
            " - 0s - loss: 505.1559\n",
            "Epoch 24/300\n",
            " - 0s - loss: 672.5785\n",
            "Epoch 25/300\n",
            " - 0s - loss: 350.6734\n",
            "Epoch 26/300\n",
            " - 0s - loss: 122.2265\n",
            "Epoch 27/300\n",
            " - 0s - loss: 259.1877\n",
            "Epoch 28/300\n",
            " - 0s - loss: 126.0806\n",
            "Epoch 29/300\n",
            " - 0s - loss: 199.5855\n",
            "Epoch 30/300\n",
            " - 0s - loss: 200.5118\n",
            "Epoch 31/300\n",
            " - 0s - loss: 210.5562\n",
            "Epoch 32/300\n",
            " - 0s - loss: 109.6688\n",
            "Epoch 33/300\n",
            " - 0s - loss: 79.8740\n",
            "Epoch 34/300\n",
            " - 0s - loss: 256.6244\n",
            "Epoch 35/300\n",
            " - 0s - loss: 515.2478\n",
            "Epoch 36/300\n",
            " - 0s - loss: 628.4169\n",
            "Epoch 37/300\n",
            " - 0s - loss: 212.2539\n",
            "Epoch 38/300\n",
            " - 0s - loss: 176.9081\n",
            "Epoch 39/300\n",
            " - 0s - loss: 134.1271\n",
            "Epoch 40/300\n",
            " - 0s - loss: 141.9872\n",
            "Epoch 41/300\n",
            " - 0s - loss: 123.3334\n",
            "Epoch 42/300\n",
            " - 0s - loss: 132.6463\n",
            "Epoch 43/300\n",
            " - 0s - loss: 80.0118\n",
            "Epoch 44/300\n",
            " - 0s - loss: 57.1052\n",
            "Epoch 45/300\n",
            " - 0s - loss: 72.1921\n",
            "Epoch 46/300\n",
            " - 0s - loss: 153.8043\n",
            "Epoch 47/300\n",
            " - 0s - loss: 226.2398\n",
            "Epoch 48/300\n",
            " - 0s - loss: 225.0093\n",
            "Epoch 49/300\n",
            " - 0s - loss: 302.7342\n",
            "Epoch 50/300\n",
            " - 0s - loss: 431.7958\n",
            "Epoch 51/300\n",
            " - 0s - loss: 220.8160\n",
            "Epoch 52/300\n",
            " - 0s - loss: 262.8961\n",
            "Epoch 53/300\n",
            " - 0s - loss: 272.3933\n",
            "Epoch 54/300\n",
            " - 0s - loss: 170.4761\n",
            "Epoch 55/300\n",
            " - 0s - loss: 249.8008\n",
            "Epoch 56/300\n",
            " - 0s - loss: 163.8311\n",
            "Epoch 57/300\n",
            " - 0s - loss: 191.2258\n",
            "Epoch 58/300\n",
            " - 0s - loss: 176.4718\n",
            "Epoch 59/300\n",
            " - 0s - loss: 141.2057\n",
            "Epoch 60/300\n",
            " - 0s - loss: 85.5144\n",
            "Epoch 61/300\n",
            " - 0s - loss: 80.3698\n",
            "Epoch 62/300\n",
            " - 0s - loss: 99.6907\n",
            "Epoch 63/300\n",
            " - 0s - loss: 63.9496\n",
            "Epoch 64/300\n",
            " - 0s - loss: 101.0800\n",
            "Epoch 65/300\n",
            " - 0s - loss: 122.5787\n",
            "Epoch 66/300\n",
            " - 0s - loss: 158.1975\n",
            "Epoch 67/300\n",
            " - 0s - loss: 149.4371\n",
            "Epoch 68/300\n",
            " - 0s - loss: 141.7732\n",
            "Epoch 69/300\n",
            " - 0s - loss: 129.2914\n",
            "Epoch 70/300\n",
            " - 0s - loss: 117.1830\n",
            "Epoch 71/300\n",
            " - 0s - loss: 131.2546\n",
            "Epoch 72/300\n",
            " - 0s - loss: 94.7900\n",
            "Epoch 73/300\n",
            " - 0s - loss: 139.1973\n",
            "Epoch 74/300\n",
            " - 0s - loss: 85.4249\n",
            "Epoch 75/300\n",
            " - 0s - loss: 73.0756\n",
            "Epoch 76/300\n",
            " - 0s - loss: 68.3959\n",
            "Epoch 77/300\n",
            " - 0s - loss: 75.5279\n",
            "Epoch 78/300\n",
            " - 0s - loss: 53.1844\n",
            "Epoch 79/300\n",
            " - 0s - loss: 62.2708\n",
            "Epoch 80/300\n",
            " - 0s - loss: 63.9284\n",
            "Epoch 81/300\n",
            " - 0s - loss: 66.9438\n",
            "Epoch 82/300\n",
            " - 0s - loss: 64.5769\n",
            "Epoch 83/300\n",
            " - 0s - loss: 57.8683\n",
            "Epoch 84/300\n",
            " - 0s - loss: 33.7687\n",
            "Epoch 85/300\n",
            " - 0s - loss: 53.7045\n",
            "Epoch 86/300\n",
            " - 0s - loss: 39.6950\n",
            "Epoch 87/300\n",
            " - 0s - loss: 56.0299\n",
            "Epoch 88/300\n",
            " - 0s - loss: 52.1392\n",
            "Epoch 89/300\n",
            " - 0s - loss: 45.8035\n",
            "Epoch 90/300\n",
            " - 0s - loss: 52.0913\n",
            "Epoch 91/300\n",
            " - 0s - loss: 42.9952\n",
            "Epoch 92/300\n",
            " - 0s - loss: 57.6242\n",
            "Epoch 93/300\n",
            " - 0s - loss: 60.2839\n",
            "Epoch 94/300\n",
            " - 0s - loss: 32.2841\n",
            "Epoch 95/300\n",
            " - 0s - loss: 21.0367\n",
            "Epoch 96/300\n",
            " - 0s - loss: 33.2422\n",
            "Epoch 97/300\n",
            " - 0s - loss: 74.8454\n",
            "Epoch 98/300\n",
            " - 0s - loss: 111.9435\n",
            "Epoch 99/300\n",
            " - 0s - loss: 87.4944\n",
            "Epoch 100/300\n",
            " - 0s - loss: 89.4312\n",
            "Epoch 101/300\n",
            " - 0s - loss: 88.2788\n",
            "Epoch 102/300\n",
            " - 0s - loss: 97.3957\n",
            "Epoch 103/300\n",
            " - 0s - loss: 79.1699\n",
            "Epoch 104/300\n",
            " - 0s - loss: 59.5482\n",
            "Epoch 105/300\n",
            " - 0s - loss: 66.4717\n",
            "Epoch 106/300\n",
            " - 0s - loss: 124.2507\n",
            "Epoch 107/300\n",
            " - 0s - loss: 176.3916\n",
            "Epoch 108/300\n",
            " - 0s - loss: 119.0243\n",
            "Epoch 109/300\n",
            " - 0s - loss: 136.1616\n",
            "Epoch 110/300\n",
            " - 0s - loss: 54.7270\n",
            "Epoch 111/300\n",
            " - 0s - loss: 19.4096\n",
            "\n",
            "Reached high accuracy so cancelling training!\n"
          ],
          "name": "stdout"
        }
      ]
    },
    {
      "cell_type": "code",
      "metadata": {
        "id": "nvECWtWb3-iw",
        "colab_type": "code",
        "colab": {}
      },
      "source": [
        "model.compile('adam', 'mae')\n",
        "print('Train...')\n",
        "history = model.fit(x, y, epochs=300, verbose=2, callbacks=[callbacks])"
      ],
      "execution_count": 0,
      "outputs": []
    },
    {
      "cell_type": "code",
      "metadata": {
        "id": "pZcbJUIlvyhD",
        "colab_type": "code",
        "colab": {
          "base_uri": "https://localhost:8080/",
          "height": 607
        },
        "outputId": "012663c4-3990-452b-d2e0-c4317588adbc"
      },
      "source": [
        "loss=history.history['loss']\n",
        "epochs=range(len(loss)) # Get number of epochs\n",
        "\n",
        "#------------------------------------------------\n",
        "# Plot Loss\n",
        "#------------------------------------------------\n",
        "\n",
        "plt.plot(epochs, loss, 'b')\n",
        "plt.title('MAE and Loss')\n",
        "plt.xlabel(\"Epochs\")\n",
        "plt.ylabel(\"Accuracy\")\n",
        "plt.legend([\"MAE\", \"Loss\"])\n",
        "\n",
        "plt.figure()\n",
        "\n",
        "epochs_zoom = epochs[80:]\n",
        "\n",
        "loss_zoom = loss[80:]\n",
        "\n",
        "#------------------------------------------------\n",
        "# Plot Zoomed MAE and Loss\n",
        "#------------------------------------------------\n",
        "\n",
        "plt.plot(epochs_zoom, loss_zoom, 'b')\n",
        "plt.title('MAE and Loss')\n",
        "plt.xlabel(\"Epochs\")\n",
        "plt.ylabel(\"Accuracy\")\n",
        "plt.legend([\"MAE\", \"Loss\"])\n",
        "\n",
        "plt.figure()\n"
      ],
      "execution_count": 16,
      "outputs": [
        {
          "output_type": "execute_result",
          "data": {
            "text/plain": [
              "<Figure size 432x288 with 0 Axes>"
            ]
          },
          "metadata": {
            "tags": []
          },
          "execution_count": 16
        },
        {
          "output_type": "display_data",
          "data": {
            "image/png": "[encoded data removed]",
            "text/plain": [
              "<Figure size 432x288 with 1 Axes>"
            ]
          },
          "metadata": {
            "tags": []
          }
        },
        {
          "output_type": "display_data",
          "data": {
            "image/png": "[encoded data removed]",
            "text/plain": [
              "<Figure size 432x288 with 1 Axes>"
            ]
          },
          "metadata": {
            "tags": []
          }
        },
        {
          "output_type": "display_data",
          "data": {
            "text/plain": [
              "<Figure size 432x288 with 0 Axes>"
            ]
          },
          "metadata": {
            "tags": []
          }
        }
      ]
    },
    {
      "cell_type": "code",
      "metadata": {
        "id": "ukD4KMyO6Kim",
        "colab_type": "code",
        "colab": {
          "base_uri": "https://localhost:8080/",
          "height": 281
        },
        "outputId": "26350487-f4ae-4ba6-e413-8a368c13e6a2"
      },
      "source": [
        "p = model.predict(x)\n",
        "\n",
        "plt.plot(p)\n",
        "plt.plot(y)\n",
        "plt.title('Monthly Milk Production (in pounds)')\n",
        "plt.legend(['predicted', 'actual'])\n",
        "plt.show()"
      ],
      "execution_count": 17,
      "outputs": [
        {
          "output_type": "display_data",
          "data": {
            "image/png": "[encoded data removed]",
            "text/plain": [
              "<Figure size 432x288 with 1 Axes>"
            ]
          },
          "metadata": {
            "tags": []
          }
        }
      ]
    },
    {
      "cell_type": "code",
      "metadata": {
        "id": "lIDE80Zz7DAf",
        "colab_type": "code",
        "colab": {}
      },
      "source": [
        "# plot the model\n",
        "\n",
        "from keras.utils.vis_utils import plot_model\n",
        "plot_model(model, to_file='model-TCN.png', show_shapes=True)\n"
      ],
      "execution_count": 0,
      "outputs": []
    }
  ]
}