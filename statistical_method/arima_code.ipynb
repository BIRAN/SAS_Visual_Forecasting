{
 "cells": [
  {
   "cell_type": "code",
   "execution_count": 9,
   "metadata": {},
   "outputs": [
    {
     "name": "stderr",
     "output_type": "stream",
     "text": [
      "C:\\Users\\ranbix\\AppData\\Local\\Continuum\\anaconda3\\lib\\site-packages\\ipykernel_launcher.py:3: FutureWarning: The signature of `Series.to_csv` was aligned to that of `DataFrame.to_csv`, and argument 'header' will change its default value from False to True: please pass an explicit value to suppress this warning.\n",
      "  This is separate from the ipykernel package so we can avoid doing imports until\n"
     ]
    }
   ],
   "source": [
    "series1440 = read_csv('new_1440_data.csv', header=0, parse_dates=['DATE'], index_col=0, squeeze=True, usecols=['DATE','AIR'])\n",
    "\n",
    "series1440.to_csv('out1440.csv')"
   ]
  },
  {
   "cell_type": "code",
   "execution_count": 10,
   "metadata": {},
   "outputs": [
    {
     "data": {
      "text/plain": [
       "85.77200841903687"
      ]
     },
     "execution_count": 10,
     "metadata": {},
     "output_type": "execute_result"
    }
   ],
   "source": [
    "from pandas import read_csv\n",
    "from pandas import datetime\n",
    "from matplotlib import pyplot\n",
    "import time\n",
    "%matplotlib inline\n",
    "import numpy as np\n",
    "import pandas as pd\n",
    "from scipy.stats import norm\n",
    "import statsmodels.api as sm\n",
    "import matplotlib.pyplot as plt\n",
    "from datetime import datetime\n",
    "import requests\n",
    "from io import BytesIO\n",
    "\n",
    "\n",
    "\n",
    "\n",
    "def parser(x):\n",
    "    return datetime.strptime(x, '%Y-%m-%d')\n",
    "series7200 = read_csv('out1440.csv', header=0, parse_dates=[0], squeeze=True,date_parser=parser)\n",
    "\n",
    "\n",
    "\n",
    "\n",
    "\n",
    "# SARIMA model test\n",
    "# 12/03/2018\n",
    "data= series7200[\"air\"]\n",
    "df = np.log(data)\n",
    "df1=df.diff(periods=1) \n",
    "df1_12=df1.diff(periods=12)\n",
    "data= df1_12\n",
    "my_order = (0, 1, 1)\n",
    "my_seasonal_order = (0, 1, 1, 12)\n",
    "\n",
    "start_time = time.time()\n",
    "for i in range(0,100):\n",
    "    sm.tsa.statespace.SARIMAX(df, order=my_order, seasonal_order=my_seasonal_order).fit().aic\n",
    "    i=i+1\n",
    "\n",
    "\n",
    "time.time() - start_time"
   ]
  },
  {
   "cell_type": "code",
   "execution_count": 6,
   "metadata": {},
   "outputs": [
    {
     "data": {
      "text/plain": [
       "0       1.120000e+02\n",
       "1       1.180000e+02\n",
       "2       1.320000e+02\n",
       "3       1.290000e+02\n",
       "4       1.210000e+02\n",
       "5       1.350000e+02\n",
       "6       1.480000e+02\n",
       "7       1.480000e+02\n",
       "8       1.360000e+02\n",
       "9       1.190000e+02\n",
       "10      1.040000e+02\n",
       "11      1.180000e+02\n",
       "12      1.150000e+02\n",
       "13      1.260000e+02\n",
       "14      1.410000e+02\n",
       "15      1.350000e+02\n",
       "16      1.250000e+02\n",
       "17      1.490000e+02\n",
       "18      1.700000e+02\n",
       "19      1.700000e+02\n",
       "20      1.580000e+02\n",
       "21      1.330000e+02\n",
       "22      1.140000e+02\n",
       "23      1.400000e+02\n",
       "24      1.450000e+02\n",
       "25      1.500000e+02\n",
       "26      1.780000e+02\n",
       "27      1.630000e+02\n",
       "28      1.720000e+02\n",
       "29      1.780000e+02\n",
       "            ...     \n",
       "7170    1.902763e+27\n",
       "7171    1.894433e+27\n",
       "7172    1.585202e+27\n",
       "7173    1.412020e+27\n",
       "7174    1.220793e+27\n",
       "7175    1.355321e+27\n",
       "7176    1.408392e+27\n",
       "7177    1.331143e+27\n",
       "7178    1.497770e+27\n",
       "7179    1.539662e+27\n",
       "7180    1.591725e+27\n",
       "7181    1.824017e+27\n",
       "7182    2.095006e+27\n",
       "7183    2.085834e+27\n",
       "7184    1.745360e+27\n",
       "7185    1.554681e+27\n",
       "7186    1.344134e+27\n",
       "7187    1.492254e+27\n",
       "7188    1.550686e+27\n",
       "7189    1.465633e+27\n",
       "7190    1.649095e+27\n",
       "7191    1.695220e+27\n",
       "7192    1.752543e+27\n",
       "7193    2.008304e+27\n",
       "7194    2.306671e+27\n",
       "7195    2.296573e+27\n",
       "7196    1.921700e+27\n",
       "7197    1.711756e+27\n",
       "7198    1.479937e+27\n",
       "7199    1.643021e+27\n",
       "Name: air, Length: 7200, dtype: float64"
      ]
     },
     "execution_count": 6,
     "metadata": {},
     "output_type": "execute_result"
    }
   ],
   "source": [
    "series7200[\"air\"]"
   ]
  },
  {
   "cell_type": "code",
   "execution_count": null,
   "metadata": {},
   "outputs": [],
   "source": []
  }
 ],
 "metadata": {
  "kernelspec": {
   "display_name": "Python 3",
   "language": "python",
   "name": "python3"
  },
  "language_info": {
   "codemirror_mode": {
    "name": "ipython",
    "version": 3
   },
   "file_extension": ".py",
   "mimetype": "text/x-python",
   "name": "python",
   "nbconvert_exporter": "python",
   "pygments_lexer": "ipython3",
   "version": "3.6.4"
  }
 },
 "nbformat": 4,
 "nbformat_minor": 2
}
