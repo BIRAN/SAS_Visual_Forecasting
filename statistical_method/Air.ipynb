{
 "cells": [
  {
   "cell_type": "code",
   "execution_count": 5,
   "metadata": {},
   "outputs": [
    {
     "ename": "ValueError",
     "evalue": "unconverted data remains: 49",
     "output_type": "error",
     "traceback": [
      "\u001b[1;31m---------------------------------------------------------------------------\u001b[0m",
      "\u001b[1;31mTypeError\u001b[0m                                 Traceback (most recent call last)",
      "\u001b[1;32m~\\AppData\\Local\\Continuum\\anaconda3\\lib\\site-packages\\pandas\\io\\parsers.py\u001b[0m in \u001b[0;36mconverter\u001b[1;34m(*date_cols)\u001b[0m\n\u001b[0;32m   3172\u001b[0m                 result = tools.to_datetime(\n\u001b[1;32m-> 3173\u001b[1;33m                     date_parser(*date_cols), errors='ignore')\n\u001b[0m\u001b[0;32m   3174\u001b[0m                 \u001b[1;32mif\u001b[0m \u001b[0misinstance\u001b[0m\u001b[1;33m(\u001b[0m\u001b[0mresult\u001b[0m\u001b[1;33m,\u001b[0m \u001b[0mdatetime\u001b[0m\u001b[1;33m.\u001b[0m\u001b[0mdatetime\u001b[0m\u001b[1;33m)\u001b[0m\u001b[1;33m:\u001b[0m\u001b[1;33m\u001b[0m\u001b[0m\n",
      "\u001b[1;32m<ipython-input-5-6a670b1d1f2e>\u001b[0m in \u001b[0;36mparser\u001b[1;34m(x)\u001b[0m\n\u001b[0;32m      7\u001b[0m \u001b[1;32mdef\u001b[0m \u001b[0mparser\u001b[0m\u001b[1;33m(\u001b[0m\u001b[0mx\u001b[0m\u001b[1;33m)\u001b[0m\u001b[1;33m:\u001b[0m\u001b[1;33m\u001b[0m\u001b[0m\n\u001b[1;32m----> 8\u001b[1;33m     \u001b[1;32mreturn\u001b[0m \u001b[0mdatetime\u001b[0m\u001b[1;33m.\u001b[0m\u001b[0mstrptime\u001b[0m\u001b[1;33m(\u001b[0m\u001b[0mx\u001b[0m\u001b[1;33m,\u001b[0m \u001b[1;34m'%m/%d/%y'\u001b[0m\u001b[1;33m)\u001b[0m\u001b[1;33m\u001b[0m\u001b[0m\n\u001b[0m\u001b[0;32m      9\u001b[0m \u001b[1;33m\u001b[0m\u001b[0m\n",
      "\u001b[1;31mTypeError\u001b[0m: strptime() argument 1 must be str, not numpy.ndarray",
      "\nDuring handling of the above exception, another exception occurred:\n",
      "\u001b[1;31mValueError\u001b[0m                                Traceback (most recent call last)",
      "\u001b[1;32m~\\AppData\\Local\\Continuum\\anaconda3\\lib\\site-packages\\pandas\\io\\parsers.py\u001b[0m in \u001b[0;36mconverter\u001b[1;34m(*date_cols)\u001b[0m\n\u001b[0;32m   3181\u001b[0m                                                 \u001b[0mparser\u001b[0m\u001b[1;33m=\u001b[0m\u001b[0mdate_parser\u001b[0m\u001b[1;33m,\u001b[0m\u001b[1;33m\u001b[0m\u001b[0m\n\u001b[1;32m-> 3182\u001b[1;33m                                                 dayfirst=dayfirst),\n\u001b[0m\u001b[0;32m   3183\u001b[0m                         errors='ignore')\n",
      "\u001b[1;32mpandas\\_libs\\tslibs\\parsing.pyx\u001b[0m in \u001b[0;36mpandas._libs.tslibs.parsing.try_parse_dates\u001b[1;34m()\u001b[0m\n",
      "\u001b[1;32mpandas\\_libs\\tslibs\\parsing.pyx\u001b[0m in \u001b[0;36mpandas._libs.tslibs.parsing.try_parse_dates\u001b[1;34m()\u001b[0m\n",
      "\u001b[1;32m<ipython-input-5-6a670b1d1f2e>\u001b[0m in \u001b[0;36mparser\u001b[1;34m(x)\u001b[0m\n\u001b[0;32m      7\u001b[0m \u001b[1;32mdef\u001b[0m \u001b[0mparser\u001b[0m\u001b[1;33m(\u001b[0m\u001b[0mx\u001b[0m\u001b[1;33m)\u001b[0m\u001b[1;33m:\u001b[0m\u001b[1;33m\u001b[0m\u001b[0m\n\u001b[1;32m----> 8\u001b[1;33m     \u001b[1;32mreturn\u001b[0m \u001b[0mdatetime\u001b[0m\u001b[1;33m.\u001b[0m\u001b[0mstrptime\u001b[0m\u001b[1;33m(\u001b[0m\u001b[0mx\u001b[0m\u001b[1;33m,\u001b[0m \u001b[1;34m'%m/%d/%y'\u001b[0m\u001b[1;33m)\u001b[0m\u001b[1;33m\u001b[0m\u001b[0m\n\u001b[0m\u001b[0;32m      9\u001b[0m \u001b[1;33m\u001b[0m\u001b[0m\n",
      "\u001b[1;32m~\\AppData\\Local\\Continuum\\anaconda3\\lib\\_strptime.py\u001b[0m in \u001b[0;36m_strptime_datetime\u001b[1;34m(cls, data_string, format)\u001b[0m\n\u001b[0;32m    564\u001b[0m     format string.\"\"\"\n\u001b[1;32m--> 565\u001b[1;33m     \u001b[0mtt\u001b[0m\u001b[1;33m,\u001b[0m \u001b[0mfraction\u001b[0m \u001b[1;33m=\u001b[0m \u001b[0m_strptime\u001b[0m\u001b[1;33m(\u001b[0m\u001b[0mdata_string\u001b[0m\u001b[1;33m,\u001b[0m \u001b[0mformat\u001b[0m\u001b[1;33m)\u001b[0m\u001b[1;33m\u001b[0m\u001b[0m\n\u001b[0m\u001b[0;32m    566\u001b[0m     \u001b[0mtzname\u001b[0m\u001b[1;33m,\u001b[0m \u001b[0mgmtoff\u001b[0m \u001b[1;33m=\u001b[0m \u001b[0mtt\u001b[0m\u001b[1;33m[\u001b[0m\u001b[1;33m-\u001b[0m\u001b[1;36m2\u001b[0m\u001b[1;33m:\u001b[0m\u001b[1;33m]\u001b[0m\u001b[1;33m\u001b[0m\u001b[0m\n",
      "\u001b[1;32m~\\AppData\\Local\\Continuum\\anaconda3\\lib\\_strptime.py\u001b[0m in \u001b[0;36m_strptime\u001b[1;34m(data_string, format)\u001b[0m\n\u001b[0;32m    364\u001b[0m         raise ValueError(\"unconverted data remains: %s\" %\n\u001b[1;32m--> 365\u001b[1;33m                           data_string[found.end():])\n\u001b[0m\u001b[0;32m    366\u001b[0m \u001b[1;33m\u001b[0m\u001b[0m\n",
      "\u001b[1;31mValueError\u001b[0m: unconverted data remains: 49",
      "\nDuring handling of the above exception, another exception occurred:\n",
      "\u001b[1;31mValueError\u001b[0m                                Traceback (most recent call last)",
      "\u001b[1;32m<ipython-input-5-6a670b1d1f2e>\u001b[0m in \u001b[0;36m<module>\u001b[1;34m()\u001b[0m\n\u001b[0;32m      8\u001b[0m     \u001b[1;32mreturn\u001b[0m \u001b[0mdatetime\u001b[0m\u001b[1;33m.\u001b[0m\u001b[0mstrptime\u001b[0m\u001b[1;33m(\u001b[0m\u001b[0mx\u001b[0m\u001b[1;33m,\u001b[0m \u001b[1;34m'%m/%d/%y'\u001b[0m\u001b[1;33m)\u001b[0m\u001b[1;33m\u001b[0m\u001b[0m\n\u001b[0;32m      9\u001b[0m \u001b[1;33m\u001b[0m\u001b[0m\n\u001b[1;32m---> 10\u001b[1;33m \u001b[0mseries\u001b[0m \u001b[1;33m=\u001b[0m \u001b[0mread_csv\u001b[0m\u001b[1;33m(\u001b[0m\u001b[1;34m'out7200.csv'\u001b[0m\u001b[1;33m,\u001b[0m \u001b[0mheader\u001b[0m\u001b[1;33m=\u001b[0m\u001b[1;36m0\u001b[0m\u001b[1;33m,\u001b[0m \u001b[0mparse_dates\u001b[0m\u001b[1;33m=\u001b[0m\u001b[1;33m[\u001b[0m\u001b[1;36m0\u001b[0m\u001b[1;33m]\u001b[0m\u001b[1;33m,\u001b[0m \u001b[0mindex_col\u001b[0m\u001b[1;33m=\u001b[0m\u001b[1;36m0\u001b[0m\u001b[1;33m,\u001b[0m \u001b[0msqueeze\u001b[0m\u001b[1;33m=\u001b[0m\u001b[1;32mTrue\u001b[0m\u001b[1;33m,\u001b[0m \u001b[0mdate_parser\u001b[0m\u001b[1;33m=\u001b[0m\u001b[0mparser\u001b[0m\u001b[1;33m)\u001b[0m\u001b[1;33m\u001b[0m\u001b[0m\n\u001b[0m\u001b[0;32m     11\u001b[0m \u001b[1;33m\u001b[0m\u001b[0m\n\u001b[0;32m     12\u001b[0m \u001b[0mprint\u001b[0m\u001b[1;33m(\u001b[0m\u001b[0mseries\u001b[0m\u001b[1;33m.\u001b[0m\u001b[0mhead\u001b[0m\u001b[1;33m(\u001b[0m\u001b[1;33m)\u001b[0m\u001b[1;33m)\u001b[0m\u001b[1;33m\u001b[0m\u001b[0m\n",
      "\u001b[1;32m~\\AppData\\Local\\Continuum\\anaconda3\\lib\\site-packages\\pandas\\io\\parsers.py\u001b[0m in \u001b[0;36mparser_f\u001b[1;34m(filepath_or_buffer, sep, delimiter, header, names, index_col, usecols, squeeze, prefix, mangle_dupe_cols, dtype, engine, converters, true_values, false_values, skipinitialspace, skiprows, skipfooter, nrows, na_values, keep_default_na, na_filter, verbose, skip_blank_lines, parse_dates, infer_datetime_format, keep_date_col, date_parser, dayfirst, iterator, chunksize, compression, thousands, decimal, lineterminator, quotechar, quoting, doublequote, escapechar, comment, encoding, dialect, tupleize_cols, error_bad_lines, warn_bad_lines, delim_whitespace, low_memory, memory_map, float_precision)\u001b[0m\n\u001b[0;32m    695\u001b[0m                     skip_blank_lines=skip_blank_lines)\n\u001b[0;32m    696\u001b[0m \u001b[1;33m\u001b[0m\u001b[0m\n\u001b[1;32m--> 697\u001b[1;33m         \u001b[1;32mreturn\u001b[0m \u001b[0m_read\u001b[0m\u001b[1;33m(\u001b[0m\u001b[0mfilepath_or_buffer\u001b[0m\u001b[1;33m,\u001b[0m \u001b[0mkwds\u001b[0m\u001b[1;33m)\u001b[0m\u001b[1;33m\u001b[0m\u001b[0m\n\u001b[0m\u001b[0;32m    698\u001b[0m \u001b[1;33m\u001b[0m\u001b[0m\n\u001b[0;32m    699\u001b[0m     \u001b[0mparser_f\u001b[0m\u001b[1;33m.\u001b[0m\u001b[0m__name__\u001b[0m \u001b[1;33m=\u001b[0m \u001b[0mname\u001b[0m\u001b[1;33m\u001b[0m\u001b[0m\n",
      "\u001b[1;32m~\\AppData\\Local\\Continuum\\anaconda3\\lib\\site-packages\\pandas\\io\\parsers.py\u001b[0m in \u001b[0;36m_read\u001b[1;34m(filepath_or_buffer, kwds)\u001b[0m\n\u001b[0;32m    428\u001b[0m \u001b[1;33m\u001b[0m\u001b[0m\n\u001b[0;32m    429\u001b[0m     \u001b[1;32mtry\u001b[0m\u001b[1;33m:\u001b[0m\u001b[1;33m\u001b[0m\u001b[0m\n\u001b[1;32m--> 430\u001b[1;33m         \u001b[0mdata\u001b[0m \u001b[1;33m=\u001b[0m \u001b[0mparser\u001b[0m\u001b[1;33m.\u001b[0m\u001b[0mread\u001b[0m\u001b[1;33m(\u001b[0m\u001b[0mnrows\u001b[0m\u001b[1;33m)\u001b[0m\u001b[1;33m\u001b[0m\u001b[0m\n\u001b[0m\u001b[0;32m    431\u001b[0m     \u001b[1;32mfinally\u001b[0m\u001b[1;33m:\u001b[0m\u001b[1;33m\u001b[0m\u001b[0m\n\u001b[0;32m    432\u001b[0m         \u001b[0mparser\u001b[0m\u001b[1;33m.\u001b[0m\u001b[0mclose\u001b[0m\u001b[1;33m(\u001b[0m\u001b[1;33m)\u001b[0m\u001b[1;33m\u001b[0m\u001b[0m\n",
      "\u001b[1;32m~\\AppData\\Local\\Continuum\\anaconda3\\lib\\site-packages\\pandas\\io\\parsers.py\u001b[0m in \u001b[0;36mread\u001b[1;34m(self, nrows)\u001b[0m\n\u001b[0;32m   1132\u001b[0m     \u001b[1;32mdef\u001b[0m \u001b[0mread\u001b[0m\u001b[1;33m(\u001b[0m\u001b[0mself\u001b[0m\u001b[1;33m,\u001b[0m \u001b[0mnrows\u001b[0m\u001b[1;33m=\u001b[0m\u001b[1;32mNone\u001b[0m\u001b[1;33m)\u001b[0m\u001b[1;33m:\u001b[0m\u001b[1;33m\u001b[0m\u001b[0m\n\u001b[0;32m   1133\u001b[0m         \u001b[0mnrows\u001b[0m \u001b[1;33m=\u001b[0m \u001b[0m_validate_integer\u001b[0m\u001b[1;33m(\u001b[0m\u001b[1;34m'nrows'\u001b[0m\u001b[1;33m,\u001b[0m \u001b[0mnrows\u001b[0m\u001b[1;33m)\u001b[0m\u001b[1;33m\u001b[0m\u001b[0m\n\u001b[1;32m-> 1134\u001b[1;33m         \u001b[0mret\u001b[0m \u001b[1;33m=\u001b[0m \u001b[0mself\u001b[0m\u001b[1;33m.\u001b[0m\u001b[0m_engine\u001b[0m\u001b[1;33m.\u001b[0m\u001b[0mread\u001b[0m\u001b[1;33m(\u001b[0m\u001b[0mnrows\u001b[0m\u001b[1;33m)\u001b[0m\u001b[1;33m\u001b[0m\u001b[0m\n\u001b[0m\u001b[0;32m   1135\u001b[0m \u001b[1;33m\u001b[0m\u001b[0m\n\u001b[0;32m   1136\u001b[0m         \u001b[1;31m# May alter columns / col_dict\u001b[0m\u001b[1;33m\u001b[0m\u001b[1;33m\u001b[0m\u001b[0m\n",
      "\u001b[1;32m~\\AppData\\Local\\Continuum\\anaconda3\\lib\\site-packages\\pandas\\io\\parsers.py\u001b[0m in \u001b[0;36mread\u001b[1;34m(self, nrows)\u001b[0m\n\u001b[0;32m   2062\u001b[0m \u001b[1;33m\u001b[0m\u001b[0m\n\u001b[0;32m   2063\u001b[0m             \u001b[0mnames\u001b[0m\u001b[1;33m,\u001b[0m \u001b[0mdata\u001b[0m \u001b[1;33m=\u001b[0m \u001b[0mself\u001b[0m\u001b[1;33m.\u001b[0m\u001b[0m_do_date_conversions\u001b[0m\u001b[1;33m(\u001b[0m\u001b[0mnames\u001b[0m\u001b[1;33m,\u001b[0m \u001b[0mdata\u001b[0m\u001b[1;33m)\u001b[0m\u001b[1;33m\u001b[0m\u001b[0m\n\u001b[1;32m-> 2064\u001b[1;33m             \u001b[0mindex\u001b[0m\u001b[1;33m,\u001b[0m \u001b[0mnames\u001b[0m \u001b[1;33m=\u001b[0m \u001b[0mself\u001b[0m\u001b[1;33m.\u001b[0m\u001b[0m_make_index\u001b[0m\u001b[1;33m(\u001b[0m\u001b[0mdata\u001b[0m\u001b[1;33m,\u001b[0m \u001b[0malldata\u001b[0m\u001b[1;33m,\u001b[0m \u001b[0mnames\u001b[0m\u001b[1;33m)\u001b[0m\u001b[1;33m\u001b[0m\u001b[0m\n\u001b[0m\u001b[0;32m   2065\u001b[0m \u001b[1;33m\u001b[0m\u001b[0m\n\u001b[0;32m   2066\u001b[0m         \u001b[1;31m# maybe create a mi on the columns\u001b[0m\u001b[1;33m\u001b[0m\u001b[1;33m\u001b[0m\u001b[0m\n",
      "\u001b[1;32m~\\AppData\\Local\\Continuum\\anaconda3\\lib\\site-packages\\pandas\\io\\parsers.py\u001b[0m in \u001b[0;36m_make_index\u001b[1;34m(self, data, alldata, columns, indexnamerow)\u001b[0m\n\u001b[0;32m   1535\u001b[0m         \u001b[1;32melif\u001b[0m \u001b[1;32mnot\u001b[0m \u001b[0mself\u001b[0m\u001b[1;33m.\u001b[0m\u001b[0m_has_complex_date_col\u001b[0m\u001b[1;33m:\u001b[0m\u001b[1;33m\u001b[0m\u001b[0m\n\u001b[0;32m   1536\u001b[0m             \u001b[0mindex\u001b[0m \u001b[1;33m=\u001b[0m \u001b[0mself\u001b[0m\u001b[1;33m.\u001b[0m\u001b[0m_get_simple_index\u001b[0m\u001b[1;33m(\u001b[0m\u001b[0malldata\u001b[0m\u001b[1;33m,\u001b[0m \u001b[0mcolumns\u001b[0m\u001b[1;33m)\u001b[0m\u001b[1;33m\u001b[0m\u001b[0m\n\u001b[1;32m-> 1537\u001b[1;33m             \u001b[0mindex\u001b[0m \u001b[1;33m=\u001b[0m \u001b[0mself\u001b[0m\u001b[1;33m.\u001b[0m\u001b[0m_agg_index\u001b[0m\u001b[1;33m(\u001b[0m\u001b[0mindex\u001b[0m\u001b[1;33m)\u001b[0m\u001b[1;33m\u001b[0m\u001b[0m\n\u001b[0m\u001b[0;32m   1538\u001b[0m         \u001b[1;32melif\u001b[0m \u001b[0mself\u001b[0m\u001b[1;33m.\u001b[0m\u001b[0m_has_complex_date_col\u001b[0m\u001b[1;33m:\u001b[0m\u001b[1;33m\u001b[0m\u001b[0m\n\u001b[0;32m   1539\u001b[0m             \u001b[1;32mif\u001b[0m \u001b[1;32mnot\u001b[0m \u001b[0mself\u001b[0m\u001b[1;33m.\u001b[0m\u001b[0m_name_processed\u001b[0m\u001b[1;33m:\u001b[0m\u001b[1;33m\u001b[0m\u001b[0m\n",
      "\u001b[1;32m~\\AppData\\Local\\Continuum\\anaconda3\\lib\\site-packages\\pandas\\io\\parsers.py\u001b[0m in \u001b[0;36m_agg_index\u001b[1;34m(self, index, try_parse_dates)\u001b[0m\n\u001b[0;32m   1614\u001b[0m \u001b[1;33m\u001b[0m\u001b[0m\n\u001b[0;32m   1615\u001b[0m             \u001b[1;32mif\u001b[0m \u001b[0mtry_parse_dates\u001b[0m \u001b[1;32mand\u001b[0m \u001b[0mself\u001b[0m\u001b[1;33m.\u001b[0m\u001b[0m_should_parse_dates\u001b[0m\u001b[1;33m(\u001b[0m\u001b[0mi\u001b[0m\u001b[1;33m)\u001b[0m\u001b[1;33m:\u001b[0m\u001b[1;33m\u001b[0m\u001b[0m\n\u001b[1;32m-> 1616\u001b[1;33m                 \u001b[0marr\u001b[0m \u001b[1;33m=\u001b[0m \u001b[0mself\u001b[0m\u001b[1;33m.\u001b[0m\u001b[0m_date_conv\u001b[0m\u001b[1;33m(\u001b[0m\u001b[0marr\u001b[0m\u001b[1;33m)\u001b[0m\u001b[1;33m\u001b[0m\u001b[0m\n\u001b[0m\u001b[0;32m   1617\u001b[0m \u001b[1;33m\u001b[0m\u001b[0m\n\u001b[0;32m   1618\u001b[0m             \u001b[1;32mif\u001b[0m \u001b[0mself\u001b[0m\u001b[1;33m.\u001b[0m\u001b[0mna_filter\u001b[0m\u001b[1;33m:\u001b[0m\u001b[1;33m\u001b[0m\u001b[0m\n",
      "\u001b[1;32m~\\AppData\\Local\\Continuum\\anaconda3\\lib\\site-packages\\pandas\\io\\parsers.py\u001b[0m in \u001b[0;36mconverter\u001b[1;34m(*date_cols)\u001b[0m\n\u001b[0;32m   3183\u001b[0m                         errors='ignore')\n\u001b[0;32m   3184\u001b[0m                 \u001b[1;32mexcept\u001b[0m \u001b[0mException\u001b[0m\u001b[1;33m:\u001b[0m\u001b[1;33m\u001b[0m\u001b[0m\n\u001b[1;32m-> 3185\u001b[1;33m                     \u001b[1;32mreturn\u001b[0m \u001b[0mgeneric_parser\u001b[0m\u001b[1;33m(\u001b[0m\u001b[0mdate_parser\u001b[0m\u001b[1;33m,\u001b[0m \u001b[1;33m*\u001b[0m\u001b[0mdate_cols\u001b[0m\u001b[1;33m)\u001b[0m\u001b[1;33m\u001b[0m\u001b[0m\n\u001b[0m\u001b[0;32m   3186\u001b[0m \u001b[1;33m\u001b[0m\u001b[0m\n\u001b[0;32m   3187\u001b[0m     \u001b[1;32mreturn\u001b[0m \u001b[0mconverter\u001b[0m\u001b[1;33m\u001b[0m\u001b[0m\n",
      "\u001b[1;32m~\\AppData\\Local\\Continuum\\anaconda3\\lib\\site-packages\\pandas\\io\\date_converters.py\u001b[0m in \u001b[0;36mgeneric_parser\u001b[1;34m(parse_func, *cols)\u001b[0m\n\u001b[0;32m     38\u001b[0m     \u001b[1;32mfor\u001b[0m \u001b[0mi\u001b[0m \u001b[1;32min\u001b[0m \u001b[0mrange\u001b[0m\u001b[1;33m(\u001b[0m\u001b[0mN\u001b[0m\u001b[1;33m)\u001b[0m\u001b[1;33m:\u001b[0m\u001b[1;33m\u001b[0m\u001b[0m\n\u001b[0;32m     39\u001b[0m         \u001b[0margs\u001b[0m \u001b[1;33m=\u001b[0m \u001b[1;33m[\u001b[0m\u001b[0mc\u001b[0m\u001b[1;33m[\u001b[0m\u001b[0mi\u001b[0m\u001b[1;33m]\u001b[0m \u001b[1;32mfor\u001b[0m \u001b[0mc\u001b[0m \u001b[1;32min\u001b[0m \u001b[0mcols\u001b[0m\u001b[1;33m]\u001b[0m\u001b[1;33m\u001b[0m\u001b[0m\n\u001b[1;32m---> 40\u001b[1;33m         \u001b[0mresults\u001b[0m\u001b[1;33m[\u001b[0m\u001b[0mi\u001b[0m\u001b[1;33m]\u001b[0m \u001b[1;33m=\u001b[0m \u001b[0mparse_func\u001b[0m\u001b[1;33m(\u001b[0m\u001b[1;33m*\u001b[0m\u001b[0margs\u001b[0m\u001b[1;33m)\u001b[0m\u001b[1;33m\u001b[0m\u001b[0m\n\u001b[0m\u001b[0;32m     41\u001b[0m \u001b[1;33m\u001b[0m\u001b[0m\n\u001b[0;32m     42\u001b[0m     \u001b[1;32mreturn\u001b[0m \u001b[0mresults\u001b[0m\u001b[1;33m\u001b[0m\u001b[0m\n",
      "\u001b[1;32m<ipython-input-5-6a670b1d1f2e>\u001b[0m in \u001b[0;36mparser\u001b[1;34m(x)\u001b[0m\n\u001b[0;32m      6\u001b[0m \u001b[1;33m\u001b[0m\u001b[0m\n\u001b[0;32m      7\u001b[0m \u001b[1;32mdef\u001b[0m \u001b[0mparser\u001b[0m\u001b[1;33m(\u001b[0m\u001b[0mx\u001b[0m\u001b[1;33m)\u001b[0m\u001b[1;33m:\u001b[0m\u001b[1;33m\u001b[0m\u001b[0m\n\u001b[1;32m----> 8\u001b[1;33m     \u001b[1;32mreturn\u001b[0m \u001b[0mdatetime\u001b[0m\u001b[1;33m.\u001b[0m\u001b[0mstrptime\u001b[0m\u001b[1;33m(\u001b[0m\u001b[0mx\u001b[0m\u001b[1;33m,\u001b[0m \u001b[1;34m'%m/%d/%y'\u001b[0m\u001b[1;33m)\u001b[0m\u001b[1;33m\u001b[0m\u001b[0m\n\u001b[0m\u001b[0;32m      9\u001b[0m \u001b[1;33m\u001b[0m\u001b[0m\n\u001b[0;32m     10\u001b[0m \u001b[0mseries\u001b[0m \u001b[1;33m=\u001b[0m \u001b[0mread_csv\u001b[0m\u001b[1;33m(\u001b[0m\u001b[1;34m'out7200.csv'\u001b[0m\u001b[1;33m,\u001b[0m \u001b[0mheader\u001b[0m\u001b[1;33m=\u001b[0m\u001b[1;36m0\u001b[0m\u001b[1;33m,\u001b[0m \u001b[0mparse_dates\u001b[0m\u001b[1;33m=\u001b[0m\u001b[1;33m[\u001b[0m\u001b[1;36m0\u001b[0m\u001b[1;33m]\u001b[0m\u001b[1;33m,\u001b[0m \u001b[0mindex_col\u001b[0m\u001b[1;33m=\u001b[0m\u001b[1;36m0\u001b[0m\u001b[1;33m,\u001b[0m \u001b[0msqueeze\u001b[0m\u001b[1;33m=\u001b[0m\u001b[1;32mTrue\u001b[0m\u001b[1;33m,\u001b[0m \u001b[0mdate_parser\u001b[0m\u001b[1;33m=\u001b[0m\u001b[0mparser\u001b[0m\u001b[1;33m)\u001b[0m\u001b[1;33m\u001b[0m\u001b[0m\n",
      "\u001b[1;32m~\\AppData\\Local\\Continuum\\anaconda3\\lib\\_strptime.py\u001b[0m in \u001b[0;36m_strptime_datetime\u001b[1;34m(cls, data_string, format)\u001b[0m\n\u001b[0;32m    563\u001b[0m     \"\"\"Return a class cls instance based on the input string and the\n\u001b[0;32m    564\u001b[0m     format string.\"\"\"\n\u001b[1;32m--> 565\u001b[1;33m     \u001b[0mtt\u001b[0m\u001b[1;33m,\u001b[0m \u001b[0mfraction\u001b[0m \u001b[1;33m=\u001b[0m \u001b[0m_strptime\u001b[0m\u001b[1;33m(\u001b[0m\u001b[0mdata_string\u001b[0m\u001b[1;33m,\u001b[0m \u001b[0mformat\u001b[0m\u001b[1;33m)\u001b[0m\u001b[1;33m\u001b[0m\u001b[0m\n\u001b[0m\u001b[0;32m    566\u001b[0m     \u001b[0mtzname\u001b[0m\u001b[1;33m,\u001b[0m \u001b[0mgmtoff\u001b[0m \u001b[1;33m=\u001b[0m \u001b[0mtt\u001b[0m\u001b[1;33m[\u001b[0m\u001b[1;33m-\u001b[0m\u001b[1;36m2\u001b[0m\u001b[1;33m:\u001b[0m\u001b[1;33m]\u001b[0m\u001b[1;33m\u001b[0m\u001b[0m\n\u001b[0;32m    567\u001b[0m     \u001b[0margs\u001b[0m \u001b[1;33m=\u001b[0m \u001b[0mtt\u001b[0m\u001b[1;33m[\u001b[0m\u001b[1;33m:\u001b[0m\u001b[1;36m6\u001b[0m\u001b[1;33m]\u001b[0m \u001b[1;33m+\u001b[0m \u001b[1;33m(\u001b[0m\u001b[0mfraction\u001b[0m\u001b[1;33m,\u001b[0m\u001b[1;33m)\u001b[0m\u001b[1;33m\u001b[0m\u001b[0m\n",
      "\u001b[1;32m~\\AppData\\Local\\Continuum\\anaconda3\\lib\\_strptime.py\u001b[0m in \u001b[0;36m_strptime\u001b[1;34m(data_string, format)\u001b[0m\n\u001b[0;32m    363\u001b[0m     \u001b[1;32mif\u001b[0m \u001b[0mlen\u001b[0m\u001b[1;33m(\u001b[0m\u001b[0mdata_string\u001b[0m\u001b[1;33m)\u001b[0m \u001b[1;33m!=\u001b[0m \u001b[0mfound\u001b[0m\u001b[1;33m.\u001b[0m\u001b[0mend\u001b[0m\u001b[1;33m(\u001b[0m\u001b[1;33m)\u001b[0m\u001b[1;33m:\u001b[0m\u001b[1;33m\u001b[0m\u001b[0m\n\u001b[0;32m    364\u001b[0m         raise ValueError(\"unconverted data remains: %s\" %\n\u001b[1;32m--> 365\u001b[1;33m                           data_string[found.end():])\n\u001b[0m\u001b[0;32m    366\u001b[0m \u001b[1;33m\u001b[0m\u001b[0m\n\u001b[0;32m    367\u001b[0m     \u001b[0miso_year\u001b[0m \u001b[1;33m=\u001b[0m \u001b[0myear\u001b[0m \u001b[1;33m=\u001b[0m \u001b[1;32mNone\u001b[0m\u001b[1;33m\u001b[0m\u001b[0m\n",
      "\u001b[1;31mValueError\u001b[0m: unconverted data remains: 49"
     ]
    }
   ],
   "source": [
    "from pandas import read_csv\n",
    "from pandas import datetime\n",
    "from matplotlib import pyplot\n",
    "import time\n",
    "import pandas\n",
    "\n",
    "def parser(x):\n",
    "    return datetime.strptime('19'+x, '%Y-%m')\n",
    " \n",
    "series = read_csv('air1.csv', header=0, parse_dates=[0], index_col=0, squeeze=True, date_parser=parser)\n",
    "\n",
    "print(series.head())\n",
    "series.plot()\n",
    "pyplot.show()"
   ]
  },
  {
   "cell_type": "code",
   "execution_count": 128,
   "metadata": {},
   "outputs": [
    {
     "data": {
      "text/plain": [
       "month\n",
       "1949-01-01    112.0\n",
       "1949-02-01    118.0\n",
       "1949-03-01    132.0\n",
       "1949-04-01    129.0\n",
       "1949-05-01    121.0\n",
       "1949-06-01    135.0\n",
       "1949-07-01    148.0\n",
       "1949-08-01    148.0\n",
       "1949-09-01    136.0\n",
       "1949-10-01    119.0\n",
       "1949-11-01    104.0\n",
       "1949-12-01    118.0\n",
       "1950-01-01    115.0\n",
       "1950-02-01    126.0\n",
       "1950-03-01    141.0\n",
       "1950-04-01    135.0\n",
       "1950-05-01    125.0\n",
       "1950-06-01    149.0\n",
       "1950-07-01    170.0\n",
       "1950-08-01    170.0\n",
       "1950-09-01    158.0\n",
       "1950-10-01    133.0\n",
       "1950-11-01    114.0\n",
       "1950-12-01    140.0\n",
       "1951-01-01    145.0\n",
       "1951-02-01    150.0\n",
       "1951-03-01    178.0\n",
       "1951-04-01    163.0\n",
       "1951-05-01    172.0\n",
       "1951-06-01    178.0\n",
       "              ...  \n",
       "1958-07-01    491.0\n",
       "1958-08-01    505.0\n",
       "1958-09-01    404.0\n",
       "1958-10-01    359.0\n",
       "1958-11-01    310.0\n",
       "1958-12-01    337.0\n",
       "1959-01-01    360.0\n",
       "1959-02-01    342.0\n",
       "1959-03-01    406.0\n",
       "1959-04-01    396.0\n",
       "1959-05-01    420.0\n",
       "1959-06-01    472.0\n",
       "1959-07-01    548.0\n",
       "1959-08-01    559.0\n",
       "1959-09-01    463.0\n",
       "1959-10-01    407.0\n",
       "1959-11-01    362.0\n",
       "1959-12-01    405.0\n",
       "1960-01-01    417.0\n",
       "1960-02-01    391.0\n",
       "1960-03-01    419.0\n",
       "1960-04-01    461.0\n",
       "1960-05-01    472.0\n",
       "1960-06-01    535.0\n",
       "1960-07-01    622.0\n",
       "1960-08-01    606.0\n",
       "1960-09-01    508.0\n",
       "1960-10-01    461.0\n",
       "1960-11-01    390.0\n",
       "1960-12-01    432.0\n",
       "Name: sales, Length: 144, dtype: float64"
      ]
     },
     "execution_count": 128,
     "metadata": {},
     "output_type": "execute_result"
    }
   ],
   "source": [
    "def parser(x):\n",
    "    return datetime.strptime('19'+x, '%Y-%m')\n",
    " \n",
    "series = read_csv('air1.csv', header=0, parse_dates=[0], index_col=0, squeeze=True, date_parser=parser)\n",
    "series"
   ]
  },
  {
   "cell_type": "code",
   "execution_count": 85,
   "metadata": {},
   "outputs": [
    {
     "data": {
      "text/plain": [
       "33.72159004211426"
      ]
     },
     "execution_count": 85,
     "metadata": {},
     "output_type": "execute_result"
    }
   ],
   "source": [
    "%matplotlib inline\n",
    "import numpy as np\n",
    "import pandas as pd\n",
    "from scipy.stats import norm\n",
    "import statsmodels.api as sm\n",
    "import matplotlib.pyplot as plt\n",
    "from datetime import datetime\n",
    "import requests\n",
    "from io import BytesIO\n",
    "\n",
    "\n",
    "# SARIMA model test\n",
    "# 12/03/2018\n",
    "data= series\n",
    "df = np.log(data)\n",
    "df1=df.diff(periods=1)\n",
    "df1_12=df1.diff(periods=12)\n",
    "data= df1_12\n",
    "my_order = (0, 1, 1)\n",
    "my_seasonal_order = (0, 1, 1, 12)\n",
    "\n",
    "start_time = time.time()\n",
    "for i in range(0,100):\n",
    "    sm.tsa.statespace.SARIMAX(df, order=my_order, seasonal_order=my_seasonal_order).fit().aic\n",
    "    i=i+1\n",
    "\n",
    "\n",
    "time.time() - start_time"
   ]
  },
  {
   "cell_type": "code",
   "execution_count": 77,
   "metadata": {},
   "outputs": [
    {
     "data": {
      "text/plain": [
       "<statsmodels.tsa.statespace.sarimax.SARIMAX at 0x28263957518>"
      ]
     },
     "execution_count": 77,
     "metadata": {},
     "output_type": "execute_result"
    }
   ],
   "source": [
    "sm.tsa.statespace.SARIMAX(df, order=my_order, seasonal_order=my_seasonal_order)"
   ]
  },
  {
   "cell_type": "code",
   "execution_count": 80,
   "metadata": {},
   "outputs": [
    {
     "data": {
      "text/plain": [
       "-483.3929617877098"
      ]
     },
     "execution_count": 80,
     "metadata": {},
     "output_type": "execute_result"
    }
   ],
   "source": [
    "model_fit.aic"
   ]
  },
  {
   "cell_type": "code",
   "execution_count": 45,
   "metadata": {},
   "outputs": [
    {
     "name": "stdout",
     "output_type": "stream",
     "text": [
      "                                 Statespace Model Results                                 \n",
      "==========================================================================================\n",
      "Dep. Variable:                              sales   No. Observations:                  144\n",
      "Model:             SARIMAX(0, 1, 1)x(0, 1, 1, 12)   Log Likelihood                 244.696\n",
      "Date:                            Fri, 11 Jan 2019   AIC                           -483.393\n",
      "Time:                                    13:55:10   BIC                           -474.484\n",
      "Sample:                                01-01-1949   HQIC                          -479.773\n",
      "                                     - 12-01-1960                                         \n",
      "Covariance Type:                              opg                                         \n",
      "==============================================================================\n",
      "                 coef    std err          z      P>|z|      [0.025      0.975]\n",
      "------------------------------------------------------------------------------\n",
      "ma.L1         -0.4016      0.073     -5.501      0.000      -0.545      -0.259\n",
      "ma.S.L12      -0.5570      0.096     -5.786      0.000      -0.746      -0.368\n",
      "sigma2         0.0013      0.000      9.122      0.000       0.001       0.002\n",
      "===================================================================================\n",
      "Ljung-Box (Q):                       37.38   Jarque-Bera (JB):                 1.90\n",
      "Prob(Q):                              0.59   Prob(JB):                         0.39\n",
      "Heteroskedasticity (H):               0.58   Skew:                             0.02\n",
      "Prob(H) (two-sided):                  0.08   Kurtosis:                         3.59\n",
      "===================================================================================\n",
      "\n",
      "Warnings:\n",
      "[1] Covariance matrix calculated using the outer product of gradients (complex-step).\n"
     ]
    }
   ],
   "source": [
    "model_fit=model.fit()\n",
    "# yhat = model_fit.forecast()\n",
    "# yhat\n",
    "\n",
    "print(model_fit.summary())"
   ]
  },
  {
   "cell_type": "code",
   "execution_count": 88,
   "metadata": {},
   "outputs": [
    {
     "name": "stdout",
     "output_type": "stream",
     "text": [
      "                                 Statespace Model Results                                 \n",
      "==========================================================================================\n",
      "Dep. Variable:                              sales   No. Observations:                  144\n",
      "Model:             SARIMAX(0, 1, 1)x(0, 1, 1, 12)   Log Likelihood                 244.696\n",
      "Date:                            Thu, 17 Jan 2019   AIC                           -483.393\n",
      "Time:                                    13:20:47   BIC                           -474.484\n",
      "Sample:                                01-01-1949   HQIC                          -479.773\n",
      "                                     - 12-01-1960                                         \n",
      "Covariance Type:                              opg                                         \n",
      "==============================================================================\n",
      "                 coef    std err          z      P>|z|      [0.025      0.975]\n",
      "------------------------------------------------------------------------------\n",
      "ma.L1         -0.4016      0.073     -5.501      0.000      -0.545      -0.259\n",
      "ma.S.L12      -0.5570      0.096     -5.786      0.000      -0.746      -0.368\n",
      "sigma2         0.0013      0.000      9.122      0.000       0.001       0.002\n",
      "===================================================================================\n",
      "Ljung-Box (Q):                       37.38   Jarque-Bera (JB):                 1.90\n",
      "Prob(Q):                              0.59   Prob(JB):                         0.39\n",
      "Heteroskedasticity (H):               0.58   Skew:                             0.02\n",
      "Prob(H) (two-sided):                  0.08   Kurtosis:                         3.59\n",
      "===================================================================================\n",
      "\n",
      "Warnings:\n",
      "[1] Covariance matrix calculated using the outer product of gradients (complex-step).\n"
     ]
    }
   ],
   "source": [
    "model_fit=model.fit()\n",
    "# yhat = model_fit.forecast()\n",
    "# yhat\n",
    "\n",
    "print(model_fit.summary())"
   ]
  },
  {
   "cell_type": "code",
   "execution_count": 24,
   "metadata": {},
   "outputs": [
    {
     "data": {
      "text/plain": [
       "month\n",
       "1949-01-01         NaN\n",
       "1949-02-01         NaN\n",
       "1949-03-01         NaN\n",
       "1949-04-01         NaN\n",
       "1949-05-01         NaN\n",
       "1949-06-01         NaN\n",
       "1949-07-01         NaN\n",
       "1949-08-01         NaN\n",
       "1949-09-01         NaN\n",
       "1949-10-01         NaN\n",
       "1949-11-01         NaN\n",
       "1949-12-01         NaN\n",
       "1950-01-01         NaN\n",
       "1950-02-01    0.056502\n",
       "1950-03-01    0.000520\n",
       "1950-04-01   -0.029569\n",
       "1950-05-01   -0.018667\n",
       "1950-06-01    0.095432\n",
       "1950-07-01    0.057585\n",
       "1950-08-01    0.000000\n",
       "1950-09-01    0.016380\n",
       "1950-10-01   -0.055853\n",
       "1950-11-01   -0.028014\n",
       "1950-12-01    0.114190\n",
       "1951-01-01    0.087779\n",
       "1951-02-01   -0.082880\n",
       "1951-03-01    0.084643\n",
       "1951-04-01   -0.064270\n",
       "1951-05-01    0.188568\n",
       "1951-06-01   -0.203916\n",
       "                ...   \n",
       "1958-07-01    0.034720\n",
       "1958-08-01    0.034369\n",
       "1958-09-01   -0.112861\n",
       "1958-10-01    0.049048\n",
       "1958-11-01   -0.025589\n",
       "1958-12-01   -0.019172\n",
       "1959-01-01    0.078175\n",
       "1959-02-01    0.022507\n",
       "1959-03-01    0.060520\n",
       "1959-04-01    0.020923\n",
       "1959-05-01    0.024007\n",
       "1959-06-01   -0.092648\n",
       "1959-07-01    0.040681\n",
       "1959-08-01   -0.011888\n",
       "1959-09-01    0.050092\n",
       "1959-10-01   -0.015612\n",
       "1959-11-01    0.042677\n",
       "1959-12-01    0.041452\n",
       "1960-01-01   -0.053123\n",
       "1960-02-01   -0.018878\n",
       "1960-03-01   -0.147702\n",
       "1960-04-01    0.173796\n",
       "1960-05-01   -0.050869\n",
       "1960-06-01    0.012355\n",
       "1960-07-01    0.001987\n",
       "1960-08-01   -0.066269\n",
       "1960-09-01    0.017347\n",
       "1960-10-01    0.045922\n",
       "1960-11-01   -0.072254\n",
       "1960-12-01   -0.014375\n",
       "Name: sales, Length: 144, dtype: float64"
      ]
     },
     "execution_count": 24,
     "metadata": {},
     "output_type": "execute_result"
    }
   ],
   "source": [
    "data"
   ]
  },
  {
   "cell_type": "code",
   "execution_count": 25,
   "metadata": {},
   "outputs": [
    {
     "name": "stdout",
     "output_type": "stream",
     "text": [
      "                                 Statespace Model Results                                 \n",
      "==========================================================================================\n",
      "Dep. Variable:                              sales   No. Observations:                  144\n",
      "Model:             SARIMAX(0, 1, 1)x(0, 1, 1, 12)   Log Likelihood                  28.931\n",
      "Date:                            Fri, 11 Jan 2019   AIC                            -49.862\n",
      "Time:                                    13:30:14   BIC                            -37.983\n",
      "Sample:                                01-01-1949   HQIC                           -45.035\n",
      "                                     - 12-01-1960                                         \n",
      "Covariance Type:                              opg                                         \n",
      "==============================================================================\n",
      "                 coef    std err          z      P>|z|      [0.025      0.975]\n",
      "------------------------------------------------------------------------------\n",
      "intercept    3.95e-05      0.000      0.276      0.783      -0.000       0.000\n",
      "ma.L1         -0.9913      0.519     -1.910      0.056      -2.008       0.026\n",
      "ma.S.L12      -0.9996    100.286     -0.010      0.992    -197.557     195.558\n",
      "sigma2         0.0048      0.478      0.010      0.992      -0.933       0.942\n",
      "===================================================================================\n",
      "Ljung-Box (Q):                       83.02   Jarque-Bera (JB):                16.07\n",
      "Prob(Q):                              0.00   Prob(JB):                         0.00\n",
      "Heteroskedasticity (H):               0.39   Skew:                             0.07\n",
      "Prob(H) (two-sided):                  0.00   Kurtosis:                         4.71\n",
      "===================================================================================\n",
      "\n",
      "Warnings:\n",
      "[1] Covariance matrix calculated using the outer product of gradients (complex-step).\n"
     ]
    }
   ],
   "source": [
    "mod = sm.tsa.statespace.SARIMAX(data, trend='c', order=(0,1,1), seasonal_order=(0,1,1,12))\n",
    "results = mod.fit()\n",
    "print(results.summary())\n"
   ]
  },
  {
   "cell_type": "code",
   "execution_count": 17,
   "metadata": {},
   "outputs": [
    {
     "name": "stderr",
     "output_type": "stream",
     "text": [
      "C:\\Users\\ranbix\\AppData\\Local\\Continuum\\anaconda3\\lib\\site-packages\\ipykernel_launcher.py:2: FutureWarning: 'pandas.tools.plotting.autocorrelation_plot' is deprecated, import 'pandas.plotting.autocorrelation_plot' instead.\n",
      "  \n"
     ]
    },
    {
     "data": {
      "image/png": "[encoded data removed]",
      "text/plain": [
       "<matplotlib.figure.Figure at 0x2717911a7b8>"
      ]
     },
     "metadata": {},
     "output_type": "display_data"
    }
   ],
   "source": [
    "from pandas.tools.plotting import autocorrelation_plot\n",
    "autocorrelation_plot(series)\n",
    "pyplot.show()"
   ]
  },
  {
   "cell_type": "code",
   "execution_count": 14,
   "metadata": {},
   "outputs": [
    {
     "name": "stderr",
     "output_type": "stream",
     "text": [
      "C:\\Users\\ranbix\\AppData\\Local\\Continuum\\anaconda3\\lib\\site-packages\\statsmodels\\tsa\\kalmanf\\kalmanfilter.py:646: FutureWarning: Conversion of the second argument of issubdtype from `float` to `np.floating` is deprecated. In future, it will be treated as `np.float64 == np.dtype(float).type`.\n",
      "  if issubdtype(paramsdtype, float):\n",
      "C:\\Users\\ranbix\\AppData\\Local\\Continuum\\anaconda3\\lib\\site-packages\\statsmodels\\tsa\\kalmanf\\kalmanfilter.py:650: FutureWarning: Conversion of the second argument of issubdtype from `complex` to `np.complexfloating` is deprecated. In future, it will be treated as `np.complex128 == np.dtype(complex).type`.\n",
      "  elif issubdtype(paramsdtype, complex):\n",
      "C:\\Users\\ranbix\\AppData\\Local\\Continuum\\anaconda3\\lib\\site-packages\\statsmodels\\base\\model.py:473: HessianInversionWarning: Inverting hessian failed, no bse or cov_params available\n",
      "  'available', HessianInversionWarning)\n"
     ]
    },
    {
     "name": "stdout",
     "output_type": "stream",
     "text": [
      "                              ARMA Model Results                              \n",
      "==============================================================================\n",
      "Dep. Variable:                  sales   No. Observations:                  144\n",
      "Model:                    ARMA(12, 0)   Log Likelihood                -651.328\n",
      "Method:                       css-mle   S.D. of innovations             20.423\n",
      "Date:                Mon, 15 Oct 2018   AIC                           1330.656\n",
      "Time:                        10:57:58   BIC                           1372.233\n",
      "Sample:                    01-01-1949   HQIC                          1347.551\n",
      "                         - 12-01-1960                                         \n",
      "================================================================================\n",
      "                   coef    std err          z      P>|z|      [0.025      0.975]\n",
      "--------------------------------------------------------------------------------\n",
      "const          280.7822        nan        nan        nan         nan         nan\n",
      "ar.L1.sales      1.1059   1.42e-05    7.8e+04      0.000       1.106       1.106\n",
      "ar.L2.sales     -0.6801   1.36e-05  -4.99e+04      0.000      -0.680      -0.680\n",
      "ar.L3.sales      0.5157        nan        nan        nan         nan         nan\n",
      "ar.L4.sales     -0.5639        nan        nan        nan         nan         nan\n",
      "ar.L5.sales      0.6075        nan        nan        nan         nan         nan\n",
      "ar.L6.sales     -0.5297   2.12e-05   -2.5e+04      0.000      -0.530      -0.530\n",
      "ar.L7.sales      0.4946   1.33e-05   3.72e+04      0.000       0.495       0.495\n",
      "ar.L8.sales     -0.6095        nan        nan        nan         nan         nan\n",
      "ar.L9.sales      0.6239        nan        nan        nan         nan         nan\n",
      "ar.L10.sales    -0.6021   2.52e-05  -2.38e+04      0.000      -0.602      -0.602\n",
      "ar.L11.sales     0.7661        nan        nan        nan         nan         nan\n",
      "ar.L12.sales    -0.1284   1.01e-06  -1.27e+05      0.000      -0.128      -0.128\n",
      "                                    Roots                                     \n",
      "==============================================================================\n",
      "                  Real           Imaginary           Modulus         Frequency\n",
      "------------------------------------------------------------------------------\n",
      "AR.1            -0.9231           -0.4547j            1.0290           -0.4271\n",
      "AR.2            -0.9231           +0.4547j            1.0290            0.4271\n",
      "AR.3            -0.5714           -0.8882j            1.0561           -0.3410\n",
      "AR.4            -0.5714           +0.8882j            1.0561            0.3410\n",
      "AR.5            -0.0208           -1.0945j            1.0947           -0.2530\n",
      "AR.6            -0.0208           +1.0945j            1.0947            0.2530\n",
      "AR.7             1.0000           -0.0000j            1.0000           -0.0000\n",
      "AR.8             0.8810           -0.4866j            1.0064           -0.0803\n",
      "AR.9             0.8810           +0.4866j            1.0064            0.0803\n",
      "AR.10            0.5089           -0.8845j            1.0204           -0.1669\n",
      "AR.11            0.5089           +0.8845j            1.0204            0.1669\n",
      "AR.12            5.2172           -0.0000j            5.2172           -0.0000\n",
      "------------------------------------------------------------------------------\n"
     ]
    },
    {
     "name": "stderr",
     "output_type": "stream",
     "text": [
      "C:\\Users\\ranbix\\AppData\\Local\\Continuum\\anaconda3\\lib\\site-packages\\statsmodels\\tsa\\arima_model.py:1441: RuntimeWarning: invalid value encountered in sqrt\n",
      "  return np.sqrt(np.diag(-inv(hess)))\n",
      "C:\\Users\\ranbix\\AppData\\Local\\Continuum\\anaconda3\\lib\\site-packages\\scipy\\stats\\_distn_infrastructure.py:879: RuntimeWarning: invalid value encountered in greater\n",
      "  return (self.a < x) & (x < self.b)\n",
      "C:\\Users\\ranbix\\AppData\\Local\\Continuum\\anaconda3\\lib\\site-packages\\scipy\\stats\\_distn_infrastructure.py:879: RuntimeWarning: invalid value encountered in less\n",
      "  return (self.a < x) & (x < self.b)\n",
      "C:\\Users\\ranbix\\AppData\\Local\\Continuum\\anaconda3\\lib\\site-packages\\scipy\\stats\\_distn_infrastructure.py:1821: RuntimeWarning: invalid value encountered in less_equal\n",
      "  cond2 = cond0 & (x <= self.a)\n",
      "C:\\Users\\ranbix\\AppData\\Local\\Continuum\\anaconda3\\lib\\site-packages\\statsmodels\\tsa\\kalmanf\\kalmanfilter.py:577: FutureWarning: Conversion of the second argument of issubdtype from `float` to `np.floating` is deprecated. In future, it will be treated as `np.float64 == np.dtype(float).type`.\n",
      "  if issubdtype(paramsdtype, float):\n"
     ]
    },
    {
     "data": {
      "image/png": "[encoded data removed]",
      "text/plain": [
       "<matplotlib.figure.Figure at 0x16bc3c6f518>"
      ]
     },
     "metadata": {},
     "output_type": "display_data"
    },
    {
     "data": {
      "image/png": "[encoded data removed]",
      "text/plain": [
       "<matplotlib.figure.Figure at 0x16bc3cc2780>"
      ]
     },
     "metadata": {},
     "output_type": "display_data"
    },
    {
     "name": "stdout",
     "output_type": "stream",
     "text": [
      "                0\n",
      "count  144.000000\n",
      "mean     8.704692\n",
      "std     23.380843\n",
      "min   -168.782165\n",
      "25%     -3.618866\n",
      "50%      9.552613\n",
      "75%     22.065127\n",
      "max     55.637698\n"
     ]
    }
   ],
   "source": [
    "from pandas import DataFrame\n",
    "from statsmodels.tsa.arima_model import ARIMA\n",
    "\n",
    "model = ARIMA(series, order=(12,0,0))\n",
    "model_fit = model.fit(disp=0)\n",
    "print(model_fit.summary())\n",
    "# plot residual errors\n",
    "residuals = DataFrame(model_fit.resid)\n",
    "residuals.plot()\n",
    "pyplot.show()\n",
    "residuals.plot(kind='kde')\n",
    "pyplot.show()\n",
    "print(residuals.describe())"
   ]
  },
  {
   "cell_type": "code",
   "execution_count": 17,
   "metadata": {},
   "outputs": [
    {
     "name": "stderr",
     "output_type": "stream",
     "text": [
      "C:\\Users\\ranbix\\AppData\\Local\\Continuum\\anaconda3\\lib\\site-packages\\statsmodels\\tsa\\kalmanf\\kalmanfilter.py:646: FutureWarning: Conversion of the second argument of issubdtype from `float` to `np.floating` is deprecated. In future, it will be treated as `np.float64 == np.dtype(float).type`.\n",
      "  if issubdtype(paramsdtype, float):\n",
      "C:\\Users\\ranbix\\AppData\\Local\\Continuum\\anaconda3\\lib\\site-packages\\statsmodels\\tsa\\kalmanf\\kalmanfilter.py:650: FutureWarning: Conversion of the second argument of issubdtype from `complex` to `np.complexfloating` is deprecated. In future, it will be treated as `np.complex128 == np.dtype(complex).type`.\n",
      "  elif issubdtype(paramsdtype, complex):\n",
      "C:\\Users\\ranbix\\AppData\\Local\\Continuum\\anaconda3\\lib\\site-packages\\statsmodels\\tsa\\kalmanf\\kalmanfilter.py:577: FutureWarning: Conversion of the second argument of issubdtype from `float` to `np.floating` is deprecated. In future, it will be treated as `np.float64 == np.dtype(float).type`.\n",
      "  if issubdtype(paramsdtype, float):\n"
     ]
    },
    {
     "name": "stdout",
     "output_type": "stream",
     "text": [
      "predicted=375.997342, expected=360.000000\n",
      "predicted=362.817093, expected=342.000000\n",
      "predicted=344.588733, expected=406.000000\n",
      "predicted=434.104610, expected=396.000000\n",
      "predicted=383.658765, expected=420.000000\n"
     ]
    },
    {
     "name": "stderr",
     "output_type": "stream",
     "text": [
      "C:\\Users\\ranbix\\AppData\\Local\\Continuum\\anaconda3\\lib\\site-packages\\statsmodels\\base\\model.py:496: ConvergenceWarning: Maximum Likelihood optimization failed to converge. Check mle_retvals\n",
      "  \"Check mle_retvals\", ConvergenceWarning)\n"
     ]
    },
    {
     "name": "stdout",
     "output_type": "stream",
     "text": [
      "predicted=430.027579, expected=472.000000\n",
      "predicted=445.137917, expected=548.000000\n"
     ]
    },
    {
     "name": "stderr",
     "output_type": "stream",
     "text": [
      "C:\\Users\\ranbix\\AppData\\Local\\Continuum\\anaconda3\\lib\\site-packages\\statsmodels\\base\\model.py:496: ConvergenceWarning: Maximum Likelihood optimization failed to converge. Check mle_retvals\n",
      "  \"Check mle_retvals\", ConvergenceWarning)\n"
     ]
    },
    {
     "name": "stdout",
     "output_type": "stream",
     "text": [
      "predicted=563.667113, expected=559.000000\n"
     ]
    },
    {
     "name": "stderr",
     "output_type": "stream",
     "text": [
      "C:\\Users\\ranbix\\AppData\\Local\\Continuum\\anaconda3\\lib\\site-packages\\statsmodels\\base\\model.py:473: HessianInversionWarning: Inverting hessian failed, no bse or cov_params available\n",
      "  'available', HessianInversionWarning)\n"
     ]
    },
    {
     "name": "stdout",
     "output_type": "stream",
     "text": [
      "predicted=531.454551, expected=463.000000\n",
      "predicted=403.795312, expected=407.000000\n",
      "predicted=389.178313, expected=362.000000\n",
      "predicted=359.148596, expected=405.000000\n",
      "predicted=444.856721, expected=417.000000\n",
      "predicted=411.212776, expected=391.000000\n",
      "predicted=395.487888, expected=419.000000\n",
      "predicted=432.802386, expected=461.000000\n",
      "predicted=484.430326, expected=472.000000\n",
      "predicted=464.546121, expected=535.000000\n",
      "predicted=523.759816, expected=622.000000\n",
      "predicted=628.020333, expected=606.000000\n"
     ]
    },
    {
     "name": "stderr",
     "output_type": "stream",
     "text": [
      "C:\\Users\\ranbix\\AppData\\Local\\Continuum\\anaconda3\\lib\\site-packages\\statsmodels\\base\\model.py:496: ConvergenceWarning: Maximum Likelihood optimization failed to converge. Check mle_retvals\n",
      "  \"Check mle_retvals\", ConvergenceWarning)\n"
     ]
    },
    {
     "name": "stdout",
     "output_type": "stream",
     "text": [
      "predicted=579.822622, expected=508.000000\n",
      "predicted=443.241807, expected=461.000000\n",
      "predicted=446.354725, expected=390.000000\n",
      "predicted=379.892367, expected=432.000000\n",
      "Test MSE: 2345.263\n"
     ]
    },
    {
     "data": {
      "image/png": "[encoded data removed]",
      "text/plain": [
       "<matplotlib.figure.Figure at 0x16bc3c21908>"
      ]
     },
     "metadata": {},
     "output_type": "display_data"
    }
   ],
   "source": [
    "from statsmodels.tsa.arima_model import ARIMA\n",
    "from sklearn.metrics import mean_squared_error\n",
    "\n",
    "X = series.values\n",
    "size = int(len(X) * 10/12)\n",
    "train, test = X[0:size], X[size:len(X)]\n",
    "history = [x for x in train]\n",
    "predictions = list()\n",
    "for t in range(len(test)):\n",
    "\tmodel = ARIMA(history, order=(8,0,0))\n",
    "\tmodel_fit = model.fit(disp=0)\n",
    "\toutput = model_fit.forecast()\n",
    "\tyhat = output[0]\n",
    "\tpredictions.append(yhat)\n",
    "\tobs = test[t]\n",
    "\thistory.append(obs)\n",
    "\tprint('predicted=%f, expected=%f' % (yhat, obs))\n",
    "error = mean_squared_error(test, predictions)\n",
    "print('Test MSE: %.3f' % error)\n",
    "# plot\n",
    "pyplot.plot(test)\n",
    "pyplot.plot(predictions, color='red')\n",
    "pyplot.show()"
   ]
  },
  {
   "cell_type": "code",
   "execution_count": 20,
   "metadata": {},
   "outputs": [],
   "source": [
    "\n",
    "# evaluate combinations of p, d and q values for an ARIMA model\n",
    "def evaluate_models(dataset, p_values, d_values, q_values):\n",
    "\tdataset = dataset.astype('float32')\n",
    "\tbest_score, best_cfg = float(\"inf\"), None\n",
    "\tfor p in p_values:\n",
    "\t\tfor d in d_values:\n",
    "\t\t\tfor q in q_values:\n",
    "\t\t\t\torder = (p,d,q)\n",
    "\t\t\t\ttry:\n",
    "\t\t\t\t\tmse = evaluate_arima_model(dataset, order)\n",
    "\t\t\t\t\tif mse < best_score:\n",
    "\t\t\t\t\t\tbest_score, best_cfg = mse, order\n",
    "\t\t\t\t\tprint('ARIMA%s MSE=%.3f' % (order,mse))\n",
    "\t\t\t\texcept:\n",
    "\t\t\t\t\tcontinue\n",
    "\tprint('Best ARIMA%s MSE=%.3f' % (best_cfg, best_score))"
   ]
  },
  {
   "cell_type": "code",
   "execution_count": 22,
   "metadata": {},
   "outputs": [
    {
     "name": "stdout",
     "output_type": "stream",
     "text": [
      "ARIMA(0, 0, 0) MSE=32412.886\n",
      "ARIMA(0, 0, 1) MSE=9556.885\n",
      "ARIMA(0, 1, 0) MSE=2295.610\n",
      "ARIMA(0, 1, 1) MSE=2048.259\n",
      "ARIMA(0, 1, 2) MSE=2175.944\n",
      "ARIMA(0, 2, 0) MSE=3143.040\n",
      "ARIMA(0, 2, 1) MSE=2366.082\n",
      "ARIMA(0, 2, 2) MSE=2100.234\n",
      "ARIMA(1, 0, 0) MSE=2335.659\n",
      "ARIMA(1, 0, 1) MSE=2081.401\n",
      "ARIMA(1, 0, 2) MSE=2179.986\n",
      "ARIMA(1, 1, 0) MSE=2098.206\n",
      "ARIMA(1, 1, 1) MSE=2097.060\n",
      "ARIMA(1, 2, 0) MSE=3091.786\n",
      "ARIMA(2, 0, 0) MSE=2118.484\n",
      "ARIMA(2, 0, 1) MSE=2039.008\n",
      "ARIMA(2, 1, 0) MSE=2040.894\n",
      "ARIMA(2, 1, 1) MSE=1531.997\n",
      "ARIMA(2, 1, 2) MSE=1607.598\n",
      "ARIMA(2, 2, 0) MSE=2996.243\n",
      "ARIMA(2, 2, 2) MSE=2058.033\n",
      "ARIMA(4, 0, 0) MSE=2050.653\n",
      "ARIMA(4, 1, 0) MSE=1949.787\n",
      "ARIMA(4, 1, 1) MSE=1597.781\n",
      "ARIMA(4, 1, 2) MSE=1611.965\n",
      "ARIMA(4, 2, 0) MSE=2593.199\n",
      "ARIMA(6, 0, 0) MSE=2025.621\n",
      "ARIMA(6, 1, 0) MSE=1930.784\n",
      "ARIMA(6, 1, 1) MSE=1396.318\n",
      "ARIMA(6, 2, 0) MSE=2617.920\n",
      "ARIMA(6, 2, 1) MSE=1982.599\n",
      "ARIMA(8, 0, 0) MSE=2005.762\n",
      "ARIMA(8, 1, 0) MSE=1395.844\n",
      "ARIMA(8, 2, 0) MSE=2330.149\n",
      "Best ARIMA(8, 1, 0) MSE=1395.844\n"
     ]
    }
   ],
   "source": [
    "import warnings\n",
    "from pandas import read_csv\n",
    "from pandas import datetime\n",
    "from statsmodels.tsa.arima_model import ARIMA\n",
    "from sklearn.metrics import mean_squared_error\n",
    " \n",
    "# evaluate an ARIMA model for a given order (p,d,q)\n",
    "def evaluate_arima_model(X, arima_order):\n",
    "\t# prepare training dataset\n",
    "\ttrain_size = int(len(X) * 0.66)\n",
    "\ttrain, test = X[0:train_size], X[train_size:]\n",
    "\thistory = [x for x in train]\n",
    "\t# make predictions\n",
    "\tpredictions = list()\n",
    "\tfor t in range(len(test)):\n",
    "\t\tmodel = ARIMA(history, order=arima_order)\n",
    "\t\tmodel_fit = model.fit(disp=0)\n",
    "\t\tyhat = model_fit.forecast()[0]\n",
    "\t\tpredictions.append(yhat)\n",
    "\t\thistory.append(test[t])\n",
    "\t# calculate out of sample error\n",
    "\terror = mean_squared_error(test, predictions)\n",
    "\treturn error\n",
    " \n",
    "# evaluate combinations of p, d and q values for an ARIMA model\n",
    "def evaluate_models(dataset, p_values, d_values, q_values):\n",
    "\tdataset = dataset.astype('float32')\n",
    "\tbest_score, best_cfg = float(\"inf\"), None\n",
    "\tfor p in p_values:\n",
    "\t\tfor d in d_values:\n",
    "\t\t\tfor q in q_values:\n",
    "\t\t\t\torder = (p,d,q)\n",
    "\t\t\t\ttry:\n",
    "\t\t\t\t\tmse = evaluate_arima_model(dataset, order)\n",
    "\t\t\t\t\tif mse < best_score:\n",
    "\t\t\t\t\t\tbest_score, best_cfg = mse, order\n",
    "\t\t\t\t\tprint('ARIMA%s MSE=%.3f' % (order,mse))\n",
    "\t\t\t\texcept:\n",
    "\t\t\t\t\tcontinue\n",
    "\tprint('Best ARIMA%s MSE=%.3f' % (best_cfg, best_score))\n",
    " \n",
    "# load dataset\n",
    "def parser(x):\n",
    "    return datetime.strptime('19'+x, '%Y-%m')\n",
    " \n",
    "series = read_csv('air1.csv', header=0, parse_dates=[0], index_col=0, squeeze=True, date_parser=parser)\n",
    "# evaluate parameters\n",
    "p_values = [0, 1, 2, 4, 6, 8, 10]\n",
    "d_values = range(0, 3)\n",
    "q_values = range(0, 3)\n",
    "warnings.filterwarnings(\"ignore\")\n",
    "evaluate_models(series.values, p_values, d_values, q_values)"
   ]
  },
  {
   "cell_type": "code",
   "execution_count": 23,
   "metadata": {},
   "outputs": [
    {
     "name": "stdout",
     "output_type": "stream",
     "text": [
      "Best ARIMANone MSE=inf\n"
     ]
    }
   ],
   "source": [
    "p_values = [10,11,12]\n",
    "d_values = range(0, 3)\n",
    "q_values = range(0, 3)\n",
    "warnings.filterwarnings(\"ignore\")\n",
    "evaluate_models(series.values, p_values, d_values, q_values)"
   ]
  },
  {
   "cell_type": "code",
   "execution_count": 90,
   "metadata": {},
   "outputs": [
    {
     "ename": "ValueError",
     "evalue": "time data '191' does not match format '%Y-%m'",
     "output_type": "error",
     "traceback": [
      "\u001b[1;31m---------------------------------------------------------------------------\u001b[0m",
      "\u001b[1;31mTypeError\u001b[0m                                 Traceback (most recent call last)",
      "\u001b[1;32m~\\AppData\\Local\\Continuum\\anaconda3\\lib\\site-packages\\pandas\\io\\parsers.py\u001b[0m in \u001b[0;36mconverter\u001b[1;34m(*date_cols)\u001b[0m\n\u001b[0;32m   3029\u001b[0m                 result = tools.to_datetime(\n\u001b[1;32m-> 3030\u001b[1;33m                     date_parser(*date_cols), errors='ignore')\n\u001b[0m\u001b[0;32m   3031\u001b[0m                 \u001b[1;32mif\u001b[0m \u001b[0misinstance\u001b[0m\u001b[1;33m(\u001b[0m\u001b[0mresult\u001b[0m\u001b[1;33m,\u001b[0m \u001b[0mdatetime\u001b[0m\u001b[1;33m.\u001b[0m\u001b[0mdatetime\u001b[0m\u001b[1;33m)\u001b[0m\u001b[1;33m:\u001b[0m\u001b[1;33m\u001b[0m\u001b[0m\n",
      "\u001b[1;32m<ipython-input-90-e2d9dca51274>\u001b[0m in \u001b[0;36mparser\u001b[1;34m(x)\u001b[0m\n\u001b[0;32m      7\u001b[0m \u001b[1;32mdef\u001b[0m \u001b[0mparser\u001b[0m\u001b[1;33m(\u001b[0m\u001b[0mx\u001b[0m\u001b[1;33m)\u001b[0m\u001b[1;33m:\u001b[0m\u001b[1;33m\u001b[0m\u001b[0m\n\u001b[1;32m----> 8\u001b[1;33m     \u001b[1;32mreturn\u001b[0m \u001b[0mdatetime\u001b[0m\u001b[1;33m.\u001b[0m\u001b[0mstrptime\u001b[0m\u001b[1;33m(\u001b[0m\u001b[1;34m'19'\u001b[0m\u001b[1;33m+\u001b[0m\u001b[0mx\u001b[0m\u001b[1;33m,\u001b[0m \u001b[1;34m'%Y-%m'\u001b[0m\u001b[1;33m)\u001b[0m\u001b[1;33m\u001b[0m\u001b[0m\n\u001b[0m\u001b[0;32m      9\u001b[0m \u001b[1;33m\u001b[0m\u001b[0m\n",
      "\u001b[1;31mTypeError\u001b[0m: strptime() argument 1 must be str, not numpy.ndarray",
      "\nDuring handling of the above exception, another exception occurred:\n",
      "\u001b[1;31mValueError\u001b[0m                                Traceback (most recent call last)",
      "\u001b[1;32m~\\AppData\\Local\\Continuum\\anaconda3\\lib\\site-packages\\pandas\\io\\parsers.py\u001b[0m in \u001b[0;36mconverter\u001b[1;34m(*date_cols)\u001b[0m\n\u001b[0;32m   3038\u001b[0m                                                 \u001b[0mparser\u001b[0m\u001b[1;33m=\u001b[0m\u001b[0mdate_parser\u001b[0m\u001b[1;33m,\u001b[0m\u001b[1;33m\u001b[0m\u001b[0m\n\u001b[1;32m-> 3039\u001b[1;33m                                                 dayfirst=dayfirst),\n\u001b[0m\u001b[0;32m   3040\u001b[0m                         errors='ignore')\n",
      "\u001b[1;32mpandas/_libs/tslibs/parsing.pyx\u001b[0m in \u001b[0;36mpandas._libs.tslibs.parsing.try_parse_dates\u001b[1;34m()\u001b[0m\n",
      "\u001b[1;32mpandas/_libs/tslibs/parsing.pyx\u001b[0m in \u001b[0;36mpandas._libs.tslibs.parsing.try_parse_dates\u001b[1;34m()\u001b[0m\n",
      "\u001b[1;32m<ipython-input-90-e2d9dca51274>\u001b[0m in \u001b[0;36mparser\u001b[1;34m(x)\u001b[0m\n\u001b[0;32m      7\u001b[0m \u001b[1;32mdef\u001b[0m \u001b[0mparser\u001b[0m\u001b[1;33m(\u001b[0m\u001b[0mx\u001b[0m\u001b[1;33m)\u001b[0m\u001b[1;33m:\u001b[0m\u001b[1;33m\u001b[0m\u001b[0m\n\u001b[1;32m----> 8\u001b[1;33m     \u001b[1;32mreturn\u001b[0m \u001b[0mdatetime\u001b[0m\u001b[1;33m.\u001b[0m\u001b[0mstrptime\u001b[0m\u001b[1;33m(\u001b[0m\u001b[1;34m'19'\u001b[0m\u001b[1;33m+\u001b[0m\u001b[0mx\u001b[0m\u001b[1;33m,\u001b[0m \u001b[1;34m'%Y-%m'\u001b[0m\u001b[1;33m)\u001b[0m\u001b[1;33m\u001b[0m\u001b[0m\n\u001b[0m\u001b[0;32m      9\u001b[0m \u001b[1;33m\u001b[0m\u001b[0m\n",
      "\u001b[1;32m~\\AppData\\Local\\Continuum\\anaconda3\\lib\\_strptime.py\u001b[0m in \u001b[0;36m_strptime_datetime\u001b[1;34m(cls, data_string, format)\u001b[0m\n\u001b[0;32m    564\u001b[0m     format string.\"\"\"\n\u001b[1;32m--> 565\u001b[1;33m     \u001b[0mtt\u001b[0m\u001b[1;33m,\u001b[0m \u001b[0mfraction\u001b[0m \u001b[1;33m=\u001b[0m \u001b[0m_strptime\u001b[0m\u001b[1;33m(\u001b[0m\u001b[0mdata_string\u001b[0m\u001b[1;33m,\u001b[0m \u001b[0mformat\u001b[0m\u001b[1;33m)\u001b[0m\u001b[1;33m\u001b[0m\u001b[0m\n\u001b[0m\u001b[0;32m    566\u001b[0m     \u001b[0mtzname\u001b[0m\u001b[1;33m,\u001b[0m \u001b[0mgmtoff\u001b[0m \u001b[1;33m=\u001b[0m \u001b[0mtt\u001b[0m\u001b[1;33m[\u001b[0m\u001b[1;33m-\u001b[0m\u001b[1;36m2\u001b[0m\u001b[1;33m:\u001b[0m\u001b[1;33m]\u001b[0m\u001b[1;33m\u001b[0m\u001b[0m\n",
      "\u001b[1;32m~\\AppData\\Local\\Continuum\\anaconda3\\lib\\_strptime.py\u001b[0m in \u001b[0;36m_strptime\u001b[1;34m(data_string, format)\u001b[0m\n\u001b[0;32m    361\u001b[0m         raise ValueError(\"time data %r does not match format %r\" %\n\u001b[1;32m--> 362\u001b[1;33m                          (data_string, format))\n\u001b[0m\u001b[0;32m    363\u001b[0m     \u001b[1;32mif\u001b[0m \u001b[0mlen\u001b[0m\u001b[1;33m(\u001b[0m\u001b[0mdata_string\u001b[0m\u001b[1;33m)\u001b[0m \u001b[1;33m!=\u001b[0m \u001b[0mfound\u001b[0m\u001b[1;33m.\u001b[0m\u001b[0mend\u001b[0m\u001b[1;33m(\u001b[0m\u001b[1;33m)\u001b[0m\u001b[1;33m:\u001b[0m\u001b[1;33m\u001b[0m\u001b[0m\n",
      "\u001b[1;31mValueError\u001b[0m: time data '191' does not match format '%Y-%m'",
      "\nDuring handling of the above exception, another exception occurred:\n",
      "\u001b[1;31mValueError\u001b[0m                                Traceback (most recent call last)",
      "\u001b[1;32m<ipython-input-90-e2d9dca51274>\u001b[0m in \u001b[0;36m<module>\u001b[1;34m()\u001b[0m\n\u001b[0;32m      8\u001b[0m     \u001b[1;32mreturn\u001b[0m \u001b[0mdatetime\u001b[0m\u001b[1;33m.\u001b[0m\u001b[0mstrptime\u001b[0m\u001b[1;33m(\u001b[0m\u001b[1;34m'19'\u001b[0m\u001b[1;33m+\u001b[0m\u001b[0mx\u001b[0m\u001b[1;33m,\u001b[0m \u001b[1;34m'%Y-%m'\u001b[0m\u001b[1;33m)\u001b[0m\u001b[1;33m\u001b[0m\u001b[0m\n\u001b[0;32m      9\u001b[0m \u001b[1;33m\u001b[0m\u001b[0m\n\u001b[1;32m---> 10\u001b[1;33m \u001b[0mseries\u001b[0m \u001b[1;33m=\u001b[0m \u001b[0mread_csv\u001b[0m\u001b[1;33m(\u001b[0m\u001b[1;34m'new_288_data.csv'\u001b[0m\u001b[1;33m,\u001b[0m \u001b[0mheader\u001b[0m\u001b[1;33m=\u001b[0m\u001b[1;36m0\u001b[0m\u001b[1;33m,\u001b[0m \u001b[0mparse_dates\u001b[0m\u001b[1;33m=\u001b[0m\u001b[1;33m[\u001b[0m\u001b[1;36m0\u001b[0m\u001b[1;33m]\u001b[0m\u001b[1;33m,\u001b[0m \u001b[0mindex_col\u001b[0m\u001b[1;33m=\u001b[0m\u001b[1;36m0\u001b[0m\u001b[1;33m,\u001b[0m \u001b[0msqueeze\u001b[0m\u001b[1;33m=\u001b[0m\u001b[1;32mTrue\u001b[0m\u001b[1;33m,\u001b[0m \u001b[0mdate_parser\u001b[0m\u001b[1;33m=\u001b[0m\u001b[0mparser\u001b[0m\u001b[1;33m)\u001b[0m\u001b[1;33m\u001b[0m\u001b[0m\n\u001b[0m\u001b[0;32m     11\u001b[0m \u001b[0mprint\u001b[0m\u001b[1;33m(\u001b[0m\u001b[0mseries\u001b[0m\u001b[1;33m.\u001b[0m\u001b[0mhead\u001b[0m\u001b[1;33m(\u001b[0m\u001b[1;33m)\u001b[0m\u001b[1;33m)\u001b[0m\u001b[1;33m\u001b[0m\u001b[0m\n\u001b[0;32m     12\u001b[0m \u001b[0mseries\u001b[0m\u001b[1;33m.\u001b[0m\u001b[0mplot\u001b[0m\u001b[1;33m(\u001b[0m\u001b[1;33m)\u001b[0m\u001b[1;33m\u001b[0m\u001b[0m\n",
      "\u001b[1;32m~\\AppData\\Local\\Continuum\\anaconda3\\lib\\site-packages\\pandas\\io\\parsers.py\u001b[0m in \u001b[0;36mparser_f\u001b[1;34m(filepath_or_buffer, sep, delimiter, header, names, index_col, usecols, squeeze, prefix, mangle_dupe_cols, dtype, engine, converters, true_values, false_values, skipinitialspace, skiprows, nrows, na_values, keep_default_na, na_filter, verbose, skip_blank_lines, parse_dates, infer_datetime_format, keep_date_col, date_parser, dayfirst, iterator, chunksize, compression, thousands, decimal, lineterminator, quotechar, quoting, escapechar, comment, encoding, dialect, tupleize_cols, error_bad_lines, warn_bad_lines, skipfooter, skip_footer, doublequote, delim_whitespace, as_recarray, compact_ints, use_unsigned, low_memory, buffer_lines, memory_map, float_precision)\u001b[0m\n\u001b[0;32m    707\u001b[0m                     skip_blank_lines=skip_blank_lines)\n\u001b[0;32m    708\u001b[0m \u001b[1;33m\u001b[0m\u001b[0m\n\u001b[1;32m--> 709\u001b[1;33m         \u001b[1;32mreturn\u001b[0m \u001b[0m_read\u001b[0m\u001b[1;33m(\u001b[0m\u001b[0mfilepath_or_buffer\u001b[0m\u001b[1;33m,\u001b[0m \u001b[0mkwds\u001b[0m\u001b[1;33m)\u001b[0m\u001b[1;33m\u001b[0m\u001b[0m\n\u001b[0m\u001b[0;32m    710\u001b[0m \u001b[1;33m\u001b[0m\u001b[0m\n\u001b[0;32m    711\u001b[0m     \u001b[0mparser_f\u001b[0m\u001b[1;33m.\u001b[0m\u001b[0m__name__\u001b[0m \u001b[1;33m=\u001b[0m \u001b[0mname\u001b[0m\u001b[1;33m\u001b[0m\u001b[0m\n",
      "\u001b[1;32m~\\AppData\\Local\\Continuum\\anaconda3\\lib\\site-packages\\pandas\\io\\parsers.py\u001b[0m in \u001b[0;36m_read\u001b[1;34m(filepath_or_buffer, kwds)\u001b[0m\n\u001b[0;32m    453\u001b[0m \u001b[1;33m\u001b[0m\u001b[0m\n\u001b[0;32m    454\u001b[0m     \u001b[1;32mtry\u001b[0m\u001b[1;33m:\u001b[0m\u001b[1;33m\u001b[0m\u001b[0m\n\u001b[1;32m--> 455\u001b[1;33m         \u001b[0mdata\u001b[0m \u001b[1;33m=\u001b[0m \u001b[0mparser\u001b[0m\u001b[1;33m.\u001b[0m\u001b[0mread\u001b[0m\u001b[1;33m(\u001b[0m\u001b[0mnrows\u001b[0m\u001b[1;33m)\u001b[0m\u001b[1;33m\u001b[0m\u001b[0m\n\u001b[0m\u001b[0;32m    456\u001b[0m     \u001b[1;32mfinally\u001b[0m\u001b[1;33m:\u001b[0m\u001b[1;33m\u001b[0m\u001b[0m\n\u001b[0;32m    457\u001b[0m         \u001b[0mparser\u001b[0m\u001b[1;33m.\u001b[0m\u001b[0mclose\u001b[0m\u001b[1;33m(\u001b[0m\u001b[1;33m)\u001b[0m\u001b[1;33m\u001b[0m\u001b[0m\n",
      "\u001b[1;32m~\\AppData\\Local\\Continuum\\anaconda3\\lib\\site-packages\\pandas\\io\\parsers.py\u001b[0m in \u001b[0;36mread\u001b[1;34m(self, nrows)\u001b[0m\n\u001b[0;32m   1067\u001b[0m                 \u001b[1;32mraise\u001b[0m \u001b[0mValueError\u001b[0m\u001b[1;33m(\u001b[0m\u001b[1;34m'skipfooter not supported for iteration'\u001b[0m\u001b[1;33m)\u001b[0m\u001b[1;33m\u001b[0m\u001b[0m\n\u001b[0;32m   1068\u001b[0m \u001b[1;33m\u001b[0m\u001b[0m\n\u001b[1;32m-> 1069\u001b[1;33m         \u001b[0mret\u001b[0m \u001b[1;33m=\u001b[0m \u001b[0mself\u001b[0m\u001b[1;33m.\u001b[0m\u001b[0m_engine\u001b[0m\u001b[1;33m.\u001b[0m\u001b[0mread\u001b[0m\u001b[1;33m(\u001b[0m\u001b[0mnrows\u001b[0m\u001b[1;33m)\u001b[0m\u001b[1;33m\u001b[0m\u001b[0m\n\u001b[0m\u001b[0;32m   1070\u001b[0m \u001b[1;33m\u001b[0m\u001b[0m\n\u001b[0;32m   1071\u001b[0m         \u001b[1;32mif\u001b[0m \u001b[0mself\u001b[0m\u001b[1;33m.\u001b[0m\u001b[0moptions\u001b[0m\u001b[1;33m.\u001b[0m\u001b[0mget\u001b[0m\u001b[1;33m(\u001b[0m\u001b[1;34m'as_recarray'\u001b[0m\u001b[1;33m)\u001b[0m\u001b[1;33m:\u001b[0m\u001b[1;33m\u001b[0m\u001b[0m\n",
      "\u001b[1;32m~\\AppData\\Local\\Continuum\\anaconda3\\lib\\site-packages\\pandas\\io\\parsers.py\u001b[0m in \u001b[0;36mread\u001b[1;34m(self, nrows)\u001b[0m\n\u001b[0;32m   1914\u001b[0m             \u001b[0mdata\u001b[0m \u001b[1;33m=\u001b[0m \u001b[0mdict\u001b[0m\u001b[1;33m(\u001b[0m\u001b[1;33m(\u001b[0m\u001b[0mk\u001b[0m\u001b[1;33m,\u001b[0m \u001b[0mv\u001b[0m\u001b[1;33m)\u001b[0m \u001b[1;32mfor\u001b[0m \u001b[0mk\u001b[0m\u001b[1;33m,\u001b[0m \u001b[1;33m(\u001b[0m\u001b[0mi\u001b[0m\u001b[1;33m,\u001b[0m \u001b[0mv\u001b[0m\u001b[1;33m)\u001b[0m \u001b[1;32min\u001b[0m \u001b[0mzip\u001b[0m\u001b[1;33m(\u001b[0m\u001b[0mnames\u001b[0m\u001b[1;33m,\u001b[0m \u001b[0mdata\u001b[0m\u001b[1;33m)\u001b[0m\u001b[1;33m)\u001b[0m\u001b[1;33m\u001b[0m\u001b[0m\n\u001b[0;32m   1915\u001b[0m \u001b[1;33m\u001b[0m\u001b[0m\n\u001b[1;32m-> 1916\u001b[1;33m             \u001b[0mnames\u001b[0m\u001b[1;33m,\u001b[0m \u001b[0mdata\u001b[0m \u001b[1;33m=\u001b[0m \u001b[0mself\u001b[0m\u001b[1;33m.\u001b[0m\u001b[0m_do_date_conversions\u001b[0m\u001b[1;33m(\u001b[0m\u001b[0mnames\u001b[0m\u001b[1;33m,\u001b[0m \u001b[0mdata\u001b[0m\u001b[1;33m)\u001b[0m\u001b[1;33m\u001b[0m\u001b[0m\n\u001b[0m\u001b[0;32m   1917\u001b[0m             \u001b[0mindex\u001b[0m\u001b[1;33m,\u001b[0m \u001b[0mnames\u001b[0m \u001b[1;33m=\u001b[0m \u001b[0mself\u001b[0m\u001b[1;33m.\u001b[0m\u001b[0m_make_index\u001b[0m\u001b[1;33m(\u001b[0m\u001b[0mdata\u001b[0m\u001b[1;33m,\u001b[0m \u001b[0malldata\u001b[0m\u001b[1;33m,\u001b[0m \u001b[0mnames\u001b[0m\u001b[1;33m)\u001b[0m\u001b[1;33m\u001b[0m\u001b[0m\n\u001b[0;32m   1918\u001b[0m \u001b[1;33m\u001b[0m\u001b[0m\n",
      "\u001b[1;32m~\\AppData\\Local\\Continuum\\anaconda3\\lib\\site-packages\\pandas\\io\\parsers.py\u001b[0m in \u001b[0;36m_do_date_conversions\u001b[1;34m(self, names, data)\u001b[0m\n\u001b[0;32m   1665\u001b[0m             data, names = _process_date_conversion(\n\u001b[0;32m   1666\u001b[0m                 \u001b[0mdata\u001b[0m\u001b[1;33m,\u001b[0m \u001b[0mself\u001b[0m\u001b[1;33m.\u001b[0m\u001b[0m_date_conv\u001b[0m\u001b[1;33m,\u001b[0m \u001b[0mself\u001b[0m\u001b[1;33m.\u001b[0m\u001b[0mparse_dates\u001b[0m\u001b[1;33m,\u001b[0m \u001b[0mself\u001b[0m\u001b[1;33m.\u001b[0m\u001b[0mindex_col\u001b[0m\u001b[1;33m,\u001b[0m\u001b[1;33m\u001b[0m\u001b[0m\n\u001b[1;32m-> 1667\u001b[1;33m                 self.index_names, names, keep_date_col=self.keep_date_col)\n\u001b[0m\u001b[0;32m   1668\u001b[0m \u001b[1;33m\u001b[0m\u001b[0m\n\u001b[0;32m   1669\u001b[0m         \u001b[1;32mreturn\u001b[0m \u001b[0mnames\u001b[0m\u001b[1;33m,\u001b[0m \u001b[0mdata\u001b[0m\u001b[1;33m\u001b[0m\u001b[0m\n",
      "\u001b[1;32m~\\AppData\\Local\\Continuum\\anaconda3\\lib\\site-packages\\pandas\\io\\parsers.py\u001b[0m in \u001b[0;36m_process_date_conversion\u001b[1;34m(data_dict, converter, parse_spec, index_col, index_names, columns, keep_date_col)\u001b[0m\n\u001b[0;32m   3073\u001b[0m                 \u001b[1;32mif\u001b[0m \u001b[0m_isindex\u001b[0m\u001b[1;33m(\u001b[0m\u001b[0mcolspec\u001b[0m\u001b[1;33m)\u001b[0m\u001b[1;33m:\u001b[0m\u001b[1;33m\u001b[0m\u001b[0m\n\u001b[0;32m   3074\u001b[0m                     \u001b[1;32mcontinue\u001b[0m\u001b[1;33m\u001b[0m\u001b[0m\n\u001b[1;32m-> 3075\u001b[1;33m                 \u001b[0mdata_dict\u001b[0m\u001b[1;33m[\u001b[0m\u001b[0mcolspec\u001b[0m\u001b[1;33m]\u001b[0m \u001b[1;33m=\u001b[0m \u001b[0mconverter\u001b[0m\u001b[1;33m(\u001b[0m\u001b[0mdata_dict\u001b[0m\u001b[1;33m[\u001b[0m\u001b[0mcolspec\u001b[0m\u001b[1;33m]\u001b[0m\u001b[1;33m)\u001b[0m\u001b[1;33m\u001b[0m\u001b[0m\n\u001b[0m\u001b[0;32m   3076\u001b[0m             \u001b[1;32melse\u001b[0m\u001b[1;33m:\u001b[0m\u001b[1;33m\u001b[0m\u001b[0m\n\u001b[0;32m   3077\u001b[0m                 new_name, col, old_names = _try_convert_dates(\n",
      "\u001b[1;32m~\\AppData\\Local\\Continuum\\anaconda3\\lib\\site-packages\\pandas\\io\\parsers.py\u001b[0m in \u001b[0;36mconverter\u001b[1;34m(*date_cols)\u001b[0m\n\u001b[0;32m   3040\u001b[0m                         errors='ignore')\n\u001b[0;32m   3041\u001b[0m                 \u001b[1;32mexcept\u001b[0m \u001b[0mException\u001b[0m\u001b[1;33m:\u001b[0m\u001b[1;33m\u001b[0m\u001b[0m\n\u001b[1;32m-> 3042\u001b[1;33m                     \u001b[1;32mreturn\u001b[0m \u001b[0mgeneric_parser\u001b[0m\u001b[1;33m(\u001b[0m\u001b[0mdate_parser\u001b[0m\u001b[1;33m,\u001b[0m \u001b[1;33m*\u001b[0m\u001b[0mdate_cols\u001b[0m\u001b[1;33m)\u001b[0m\u001b[1;33m\u001b[0m\u001b[0m\n\u001b[0m\u001b[0;32m   3043\u001b[0m \u001b[1;33m\u001b[0m\u001b[0m\n\u001b[0;32m   3044\u001b[0m     \u001b[1;32mreturn\u001b[0m \u001b[0mconverter\u001b[0m\u001b[1;33m\u001b[0m\u001b[0m\n",
      "\u001b[1;32m~\\AppData\\Local\\Continuum\\anaconda3\\lib\\site-packages\\pandas\\io\\date_converters.py\u001b[0m in \u001b[0;36mgeneric_parser\u001b[1;34m(parse_func, *cols)\u001b[0m\n\u001b[0;32m     37\u001b[0m     \u001b[1;32mfor\u001b[0m \u001b[0mi\u001b[0m \u001b[1;32min\u001b[0m \u001b[0mrange\u001b[0m\u001b[1;33m(\u001b[0m\u001b[0mN\u001b[0m\u001b[1;33m)\u001b[0m\u001b[1;33m:\u001b[0m\u001b[1;33m\u001b[0m\u001b[0m\n\u001b[0;32m     38\u001b[0m         \u001b[0margs\u001b[0m \u001b[1;33m=\u001b[0m \u001b[1;33m[\u001b[0m\u001b[0mc\u001b[0m\u001b[1;33m[\u001b[0m\u001b[0mi\u001b[0m\u001b[1;33m]\u001b[0m \u001b[1;32mfor\u001b[0m \u001b[0mc\u001b[0m \u001b[1;32min\u001b[0m \u001b[0mcols\u001b[0m\u001b[1;33m]\u001b[0m\u001b[1;33m\u001b[0m\u001b[0m\n\u001b[1;32m---> 39\u001b[1;33m         \u001b[0mresults\u001b[0m\u001b[1;33m[\u001b[0m\u001b[0mi\u001b[0m\u001b[1;33m]\u001b[0m \u001b[1;33m=\u001b[0m \u001b[0mparse_func\u001b[0m\u001b[1;33m(\u001b[0m\u001b[1;33m*\u001b[0m\u001b[0margs\u001b[0m\u001b[1;33m)\u001b[0m\u001b[1;33m\u001b[0m\u001b[0m\n\u001b[0m\u001b[0;32m     40\u001b[0m \u001b[1;33m\u001b[0m\u001b[0m\n\u001b[0;32m     41\u001b[0m     \u001b[1;32mreturn\u001b[0m \u001b[0mresults\u001b[0m\u001b[1;33m\u001b[0m\u001b[0m\n",
      "\u001b[1;32m<ipython-input-90-e2d9dca51274>\u001b[0m in \u001b[0;36mparser\u001b[1;34m(x)\u001b[0m\n\u001b[0;32m      6\u001b[0m \u001b[1;33m\u001b[0m\u001b[0m\n\u001b[0;32m      7\u001b[0m \u001b[1;32mdef\u001b[0m \u001b[0mparser\u001b[0m\u001b[1;33m(\u001b[0m\u001b[0mx\u001b[0m\u001b[1;33m)\u001b[0m\u001b[1;33m:\u001b[0m\u001b[1;33m\u001b[0m\u001b[0m\n\u001b[1;32m----> 8\u001b[1;33m     \u001b[1;32mreturn\u001b[0m \u001b[0mdatetime\u001b[0m\u001b[1;33m.\u001b[0m\u001b[0mstrptime\u001b[0m\u001b[1;33m(\u001b[0m\u001b[1;34m'19'\u001b[0m\u001b[1;33m+\u001b[0m\u001b[0mx\u001b[0m\u001b[1;33m,\u001b[0m \u001b[1;34m'%Y-%m'\u001b[0m\u001b[1;33m)\u001b[0m\u001b[1;33m\u001b[0m\u001b[0m\n\u001b[0m\u001b[0;32m      9\u001b[0m \u001b[1;33m\u001b[0m\u001b[0m\n\u001b[0;32m     10\u001b[0m \u001b[0mseries\u001b[0m \u001b[1;33m=\u001b[0m \u001b[0mread_csv\u001b[0m\u001b[1;33m(\u001b[0m\u001b[1;34m'new_288_data.csv'\u001b[0m\u001b[1;33m,\u001b[0m \u001b[0mheader\u001b[0m\u001b[1;33m=\u001b[0m\u001b[1;36m0\u001b[0m\u001b[1;33m,\u001b[0m \u001b[0mparse_dates\u001b[0m\u001b[1;33m=\u001b[0m\u001b[1;33m[\u001b[0m\u001b[1;36m0\u001b[0m\u001b[1;33m]\u001b[0m\u001b[1;33m,\u001b[0m \u001b[0mindex_col\u001b[0m\u001b[1;33m=\u001b[0m\u001b[1;36m0\u001b[0m\u001b[1;33m,\u001b[0m \u001b[0msqueeze\u001b[0m\u001b[1;33m=\u001b[0m\u001b[1;32mTrue\u001b[0m\u001b[1;33m,\u001b[0m \u001b[0mdate_parser\u001b[0m\u001b[1;33m=\u001b[0m\u001b[0mparser\u001b[0m\u001b[1;33m)\u001b[0m\u001b[1;33m\u001b[0m\u001b[0m\n",
      "\u001b[1;32m~\\AppData\\Local\\Continuum\\anaconda3\\lib\\_strptime.py\u001b[0m in \u001b[0;36m_strptime_datetime\u001b[1;34m(cls, data_string, format)\u001b[0m\n\u001b[0;32m    563\u001b[0m     \"\"\"Return a class cls instance based on the input string and the\n\u001b[0;32m    564\u001b[0m     format string.\"\"\"\n\u001b[1;32m--> 565\u001b[1;33m     \u001b[0mtt\u001b[0m\u001b[1;33m,\u001b[0m \u001b[0mfraction\u001b[0m \u001b[1;33m=\u001b[0m \u001b[0m_strptime\u001b[0m\u001b[1;33m(\u001b[0m\u001b[0mdata_string\u001b[0m\u001b[1;33m,\u001b[0m \u001b[0mformat\u001b[0m\u001b[1;33m)\u001b[0m\u001b[1;33m\u001b[0m\u001b[0m\n\u001b[0m\u001b[0;32m    566\u001b[0m     \u001b[0mtzname\u001b[0m\u001b[1;33m,\u001b[0m \u001b[0mgmtoff\u001b[0m \u001b[1;33m=\u001b[0m \u001b[0mtt\u001b[0m\u001b[1;33m[\u001b[0m\u001b[1;33m-\u001b[0m\u001b[1;36m2\u001b[0m\u001b[1;33m:\u001b[0m\u001b[1;33m]\u001b[0m\u001b[1;33m\u001b[0m\u001b[0m\n\u001b[0;32m    567\u001b[0m     \u001b[0margs\u001b[0m \u001b[1;33m=\u001b[0m \u001b[0mtt\u001b[0m\u001b[1;33m[\u001b[0m\u001b[1;33m:\u001b[0m\u001b[1;36m6\u001b[0m\u001b[1;33m]\u001b[0m \u001b[1;33m+\u001b[0m \u001b[1;33m(\u001b[0m\u001b[0mfraction\u001b[0m\u001b[1;33m,\u001b[0m\u001b[1;33m)\u001b[0m\u001b[1;33m\u001b[0m\u001b[0m\n",
      "\u001b[1;32m~\\AppData\\Local\\Continuum\\anaconda3\\lib\\_strptime.py\u001b[0m in \u001b[0;36m_strptime\u001b[1;34m(data_string, format)\u001b[0m\n\u001b[0;32m    360\u001b[0m     \u001b[1;32mif\u001b[0m \u001b[1;32mnot\u001b[0m \u001b[0mfound\u001b[0m\u001b[1;33m:\u001b[0m\u001b[1;33m\u001b[0m\u001b[0m\n\u001b[0;32m    361\u001b[0m         raise ValueError(\"time data %r does not match format %r\" %\n\u001b[1;32m--> 362\u001b[1;33m                          (data_string, format))\n\u001b[0m\u001b[0;32m    363\u001b[0m     \u001b[1;32mif\u001b[0m \u001b[0mlen\u001b[0m\u001b[1;33m(\u001b[0m\u001b[0mdata_string\u001b[0m\u001b[1;33m)\u001b[0m \u001b[1;33m!=\u001b[0m \u001b[0mfound\u001b[0m\u001b[1;33m.\u001b[0m\u001b[0mend\u001b[0m\u001b[1;33m(\u001b[0m\u001b[1;33m)\u001b[0m\u001b[1;33m:\u001b[0m\u001b[1;33m\u001b[0m\u001b[0m\n\u001b[0;32m    364\u001b[0m         raise ValueError(\"unconverted data remains: %s\" %\n",
      "\u001b[1;31mValueError\u001b[0m: time data '191' does not match format '%Y-%m'"
     ]
    }
   ],
   "source": [
    "from pandas import read_csv\n",
    "from pandas import datetime\n",
    "from matplotlib import pyplot\n",
    "import time\n",
    "\n",
    "\n",
    "def parser(x):\n",
    "    return datetime.strptime('19'+x, '%Y-%m')\n",
    " \n",
    "series = read_csv('new_288_data.csv', header=0, parse_dates=[0], index_col=0, squeeze=True, date_parser=parser)\n",
    "print(series.head())\n",
    "series.plot()\n",
    "pyplot.show()\n"
   ]
  },
  {
   "cell_type": "code",
   "execution_count": 91,
   "metadata": {},
   "outputs": [
    {
     "data": {
      "text/plain": [
       "pandas.core.series.Series"
      ]
     },
     "execution_count": 91,
     "metadata": {},
     "output_type": "execute_result"
    }
   ],
   "source": [
    "type(series)"
   ]
  },
  {
   "cell_type": "code",
   "execution_count": 144,
   "metadata": {},
   "outputs": [
    {
     "ename": "ValueError",
     "evalue": "time data '191949-01-01' does not match format '%Y-%m'",
     "output_type": "error",
     "traceback": [
      "\u001b[1;31m---------------------------------------------------------------------------\u001b[0m",
      "\u001b[1;31mTypeError\u001b[0m                                 Traceback (most recent call last)",
      "\u001b[1;32m~\\AppData\\Local\\Continuum\\anaconda3\\lib\\site-packages\\pandas\\io\\parsers.py\u001b[0m in \u001b[0;36mconverter\u001b[1;34m(*date_cols)\u001b[0m\n\u001b[0;32m   3029\u001b[0m                 result = tools.to_datetime(\n\u001b[1;32m-> 3030\u001b[1;33m                     date_parser(*date_cols), errors='ignore')\n\u001b[0m\u001b[0;32m   3031\u001b[0m                 \u001b[1;32mif\u001b[0m \u001b[0misinstance\u001b[0m\u001b[1;33m(\u001b[0m\u001b[0mresult\u001b[0m\u001b[1;33m,\u001b[0m \u001b[0mdatetime\u001b[0m\u001b[1;33m.\u001b[0m\u001b[0mdatetime\u001b[0m\u001b[1;33m)\u001b[0m\u001b[1;33m:\u001b[0m\u001b[1;33m\u001b[0m\u001b[0m\n",
      "\u001b[1;32m<ipython-input-128-4a02b0c3e03a>\u001b[0m in \u001b[0;36mparser\u001b[1;34m(x)\u001b[0m\n\u001b[0;32m      1\u001b[0m \u001b[1;32mdef\u001b[0m \u001b[0mparser\u001b[0m\u001b[1;33m(\u001b[0m\u001b[0mx\u001b[0m\u001b[1;33m)\u001b[0m\u001b[1;33m:\u001b[0m\u001b[1;33m\u001b[0m\u001b[0m\n\u001b[1;32m----> 2\u001b[1;33m     \u001b[1;32mreturn\u001b[0m \u001b[0mdatetime\u001b[0m\u001b[1;33m.\u001b[0m\u001b[0mstrptime\u001b[0m\u001b[1;33m(\u001b[0m\u001b[1;34m'19'\u001b[0m\u001b[1;33m+\u001b[0m\u001b[0mx\u001b[0m\u001b[1;33m,\u001b[0m \u001b[1;34m'%Y-%m'\u001b[0m\u001b[1;33m)\u001b[0m\u001b[1;33m\u001b[0m\u001b[0m\n\u001b[0m\u001b[0;32m      3\u001b[0m \u001b[1;33m\u001b[0m\u001b[0m\n",
      "\u001b[1;31mTypeError\u001b[0m: strptime() argument 1 must be str, not numpy.ndarray",
      "\nDuring handling of the above exception, another exception occurred:\n",
      "\u001b[1;31mValueError\u001b[0m                                Traceback (most recent call last)",
      "\u001b[1;32m~\\AppData\\Local\\Continuum\\anaconda3\\lib\\site-packages\\pandas\\io\\parsers.py\u001b[0m in \u001b[0;36mconverter\u001b[1;34m(*date_cols)\u001b[0m\n\u001b[0;32m   3038\u001b[0m                                                 \u001b[0mparser\u001b[0m\u001b[1;33m=\u001b[0m\u001b[0mdate_parser\u001b[0m\u001b[1;33m,\u001b[0m\u001b[1;33m\u001b[0m\u001b[0m\n\u001b[1;32m-> 3039\u001b[1;33m                                                 dayfirst=dayfirst),\n\u001b[0m\u001b[0;32m   3040\u001b[0m                         errors='ignore')\n",
      "\u001b[1;32mpandas/_libs/tslibs/parsing.pyx\u001b[0m in \u001b[0;36mpandas._libs.tslibs.parsing.try_parse_dates\u001b[1;34m()\u001b[0m\n",
      "\u001b[1;32mpandas/_libs/tslibs/parsing.pyx\u001b[0m in \u001b[0;36mpandas._libs.tslibs.parsing.try_parse_dates\u001b[1;34m()\u001b[0m\n",
      "\u001b[1;32m<ipython-input-128-4a02b0c3e03a>\u001b[0m in \u001b[0;36mparser\u001b[1;34m(x)\u001b[0m\n\u001b[0;32m      1\u001b[0m \u001b[1;32mdef\u001b[0m \u001b[0mparser\u001b[0m\u001b[1;33m(\u001b[0m\u001b[0mx\u001b[0m\u001b[1;33m)\u001b[0m\u001b[1;33m:\u001b[0m\u001b[1;33m\u001b[0m\u001b[0m\n\u001b[1;32m----> 2\u001b[1;33m     \u001b[1;32mreturn\u001b[0m \u001b[0mdatetime\u001b[0m\u001b[1;33m.\u001b[0m\u001b[0mstrptime\u001b[0m\u001b[1;33m(\u001b[0m\u001b[1;34m'19'\u001b[0m\u001b[1;33m+\u001b[0m\u001b[0mx\u001b[0m\u001b[1;33m,\u001b[0m \u001b[1;34m'%Y-%m'\u001b[0m\u001b[1;33m)\u001b[0m\u001b[1;33m\u001b[0m\u001b[0m\n\u001b[0m\u001b[0;32m      3\u001b[0m \u001b[1;33m\u001b[0m\u001b[0m\n",
      "\u001b[1;32m~\\AppData\\Local\\Continuum\\anaconda3\\lib\\_strptime.py\u001b[0m in \u001b[0;36m_strptime_datetime\u001b[1;34m(cls, data_string, format)\u001b[0m\n\u001b[0;32m    564\u001b[0m     format string.\"\"\"\n\u001b[1;32m--> 565\u001b[1;33m     \u001b[0mtt\u001b[0m\u001b[1;33m,\u001b[0m \u001b[0mfraction\u001b[0m \u001b[1;33m=\u001b[0m \u001b[0m_strptime\u001b[0m\u001b[1;33m(\u001b[0m\u001b[0mdata_string\u001b[0m\u001b[1;33m,\u001b[0m \u001b[0mformat\u001b[0m\u001b[1;33m)\u001b[0m\u001b[1;33m\u001b[0m\u001b[0m\n\u001b[0m\u001b[0;32m    566\u001b[0m     \u001b[0mtzname\u001b[0m\u001b[1;33m,\u001b[0m \u001b[0mgmtoff\u001b[0m \u001b[1;33m=\u001b[0m \u001b[0mtt\u001b[0m\u001b[1;33m[\u001b[0m\u001b[1;33m-\u001b[0m\u001b[1;36m2\u001b[0m\u001b[1;33m:\u001b[0m\u001b[1;33m]\u001b[0m\u001b[1;33m\u001b[0m\u001b[0m\n",
      "\u001b[1;32m~\\AppData\\Local\\Continuum\\anaconda3\\lib\\_strptime.py\u001b[0m in \u001b[0;36m_strptime\u001b[1;34m(data_string, format)\u001b[0m\n\u001b[0;32m    361\u001b[0m         raise ValueError(\"time data %r does not match format %r\" %\n\u001b[1;32m--> 362\u001b[1;33m                          (data_string, format))\n\u001b[0m\u001b[0;32m    363\u001b[0m     \u001b[1;32mif\u001b[0m \u001b[0mlen\u001b[0m\u001b[1;33m(\u001b[0m\u001b[0mdata_string\u001b[0m\u001b[1;33m)\u001b[0m \u001b[1;33m!=\u001b[0m \u001b[0mfound\u001b[0m\u001b[1;33m.\u001b[0m\u001b[0mend\u001b[0m\u001b[1;33m(\u001b[0m\u001b[1;33m)\u001b[0m\u001b[1;33m:\u001b[0m\u001b[1;33m\u001b[0m\u001b[0m\n",
      "\u001b[1;31mValueError\u001b[0m: time data '191949-01-01' does not match format '%Y-%m'",
      "\nDuring handling of the above exception, another exception occurred:\n",
      "\u001b[1;31mValueError\u001b[0m                                Traceback (most recent call last)",
      "\u001b[1;32m<ipython-input-144-9593fe71c460>\u001b[0m in \u001b[0;36m<module>\u001b[1;34m()\u001b[0m\n\u001b[1;32m----> 1\u001b[1;33m \u001b[0mts288\u001b[0m\u001b[1;33m=\u001b[0m\u001b[0mread_csv\u001b[0m\u001b[1;33m(\u001b[0m\u001b[1;34m'new_288_data.csv'\u001b[0m\u001b[1;33m,\u001b[0m\u001b[0mheader\u001b[0m\u001b[1;33m=\u001b[0m\u001b[1;36m0\u001b[0m\u001b[1;33m,\u001b[0m \u001b[0mparse_dates\u001b[0m\u001b[1;33m=\u001b[0m\u001b[1;33m[\u001b[0m\u001b[1;34m'DATE'\u001b[0m\u001b[1;33m]\u001b[0m\u001b[1;33m,\u001b[0m \u001b[0mindex_col\u001b[0m\u001b[1;33m=\u001b[0m\u001b[1;36m0\u001b[0m\u001b[1;33m,\u001b[0m \u001b[0msqueeze\u001b[0m\u001b[1;33m=\u001b[0m\u001b[1;32mTrue\u001b[0m\u001b[1;33m,\u001b[0m\u001b[0mdate_parser\u001b[0m\u001b[1;33m=\u001b[0m\u001b[0mparser\u001b[0m\u001b[1;33m)\u001b[0m\u001b[1;33m\u001b[0m\u001b[0m\n\u001b[0m\u001b[0;32m      2\u001b[0m \u001b[0mts288\u001b[0m\u001b[1;33m\u001b[0m\u001b[0m\n",
      "\u001b[1;32m~\\AppData\\Local\\Continuum\\anaconda3\\lib\\site-packages\\pandas\\io\\parsers.py\u001b[0m in \u001b[0;36mparser_f\u001b[1;34m(filepath_or_buffer, sep, delimiter, header, names, index_col, usecols, squeeze, prefix, mangle_dupe_cols, dtype, engine, converters, true_values, false_values, skipinitialspace, skiprows, nrows, na_values, keep_default_na, na_filter, verbose, skip_blank_lines, parse_dates, infer_datetime_format, keep_date_col, date_parser, dayfirst, iterator, chunksize, compression, thousands, decimal, lineterminator, quotechar, quoting, escapechar, comment, encoding, dialect, tupleize_cols, error_bad_lines, warn_bad_lines, skipfooter, skip_footer, doublequote, delim_whitespace, as_recarray, compact_ints, use_unsigned, low_memory, buffer_lines, memory_map, float_precision)\u001b[0m\n\u001b[0;32m    707\u001b[0m                     skip_blank_lines=skip_blank_lines)\n\u001b[0;32m    708\u001b[0m \u001b[1;33m\u001b[0m\u001b[0m\n\u001b[1;32m--> 709\u001b[1;33m         \u001b[1;32mreturn\u001b[0m \u001b[0m_read\u001b[0m\u001b[1;33m(\u001b[0m\u001b[0mfilepath_or_buffer\u001b[0m\u001b[1;33m,\u001b[0m \u001b[0mkwds\u001b[0m\u001b[1;33m)\u001b[0m\u001b[1;33m\u001b[0m\u001b[0m\n\u001b[0m\u001b[0;32m    710\u001b[0m \u001b[1;33m\u001b[0m\u001b[0m\n\u001b[0;32m    711\u001b[0m     \u001b[0mparser_f\u001b[0m\u001b[1;33m.\u001b[0m\u001b[0m__name__\u001b[0m \u001b[1;33m=\u001b[0m \u001b[0mname\u001b[0m\u001b[1;33m\u001b[0m\u001b[0m\n",
      "\u001b[1;32m~\\AppData\\Local\\Continuum\\anaconda3\\lib\\site-packages\\pandas\\io\\parsers.py\u001b[0m in \u001b[0;36m_read\u001b[1;34m(filepath_or_buffer, kwds)\u001b[0m\n\u001b[0;32m    453\u001b[0m \u001b[1;33m\u001b[0m\u001b[0m\n\u001b[0;32m    454\u001b[0m     \u001b[1;32mtry\u001b[0m\u001b[1;33m:\u001b[0m\u001b[1;33m\u001b[0m\u001b[0m\n\u001b[1;32m--> 455\u001b[1;33m         \u001b[0mdata\u001b[0m \u001b[1;33m=\u001b[0m \u001b[0mparser\u001b[0m\u001b[1;33m.\u001b[0m\u001b[0mread\u001b[0m\u001b[1;33m(\u001b[0m\u001b[0mnrows\u001b[0m\u001b[1;33m)\u001b[0m\u001b[1;33m\u001b[0m\u001b[0m\n\u001b[0m\u001b[0;32m    456\u001b[0m     \u001b[1;32mfinally\u001b[0m\u001b[1;33m:\u001b[0m\u001b[1;33m\u001b[0m\u001b[0m\n\u001b[0;32m    457\u001b[0m         \u001b[0mparser\u001b[0m\u001b[1;33m.\u001b[0m\u001b[0mclose\u001b[0m\u001b[1;33m(\u001b[0m\u001b[1;33m)\u001b[0m\u001b[1;33m\u001b[0m\u001b[0m\n",
      "\u001b[1;32m~\\AppData\\Local\\Continuum\\anaconda3\\lib\\site-packages\\pandas\\io\\parsers.py\u001b[0m in \u001b[0;36mread\u001b[1;34m(self, nrows)\u001b[0m\n\u001b[0;32m   1067\u001b[0m                 \u001b[1;32mraise\u001b[0m \u001b[0mValueError\u001b[0m\u001b[1;33m(\u001b[0m\u001b[1;34m'skipfooter not supported for iteration'\u001b[0m\u001b[1;33m)\u001b[0m\u001b[1;33m\u001b[0m\u001b[0m\n\u001b[0;32m   1068\u001b[0m \u001b[1;33m\u001b[0m\u001b[0m\n\u001b[1;32m-> 1069\u001b[1;33m         \u001b[0mret\u001b[0m \u001b[1;33m=\u001b[0m \u001b[0mself\u001b[0m\u001b[1;33m.\u001b[0m\u001b[0m_engine\u001b[0m\u001b[1;33m.\u001b[0m\u001b[0mread\u001b[0m\u001b[1;33m(\u001b[0m\u001b[0mnrows\u001b[0m\u001b[1;33m)\u001b[0m\u001b[1;33m\u001b[0m\u001b[0m\n\u001b[0m\u001b[0;32m   1070\u001b[0m \u001b[1;33m\u001b[0m\u001b[0m\n\u001b[0;32m   1071\u001b[0m         \u001b[1;32mif\u001b[0m \u001b[0mself\u001b[0m\u001b[1;33m.\u001b[0m\u001b[0moptions\u001b[0m\u001b[1;33m.\u001b[0m\u001b[0mget\u001b[0m\u001b[1;33m(\u001b[0m\u001b[1;34m'as_recarray'\u001b[0m\u001b[1;33m)\u001b[0m\u001b[1;33m:\u001b[0m\u001b[1;33m\u001b[0m\u001b[0m\n",
      "\u001b[1;32m~\\AppData\\Local\\Continuum\\anaconda3\\lib\\site-packages\\pandas\\io\\parsers.py\u001b[0m in \u001b[0;36mread\u001b[1;34m(self, nrows)\u001b[0m\n\u001b[0;32m   1914\u001b[0m             \u001b[0mdata\u001b[0m \u001b[1;33m=\u001b[0m \u001b[0mdict\u001b[0m\u001b[1;33m(\u001b[0m\u001b[1;33m(\u001b[0m\u001b[0mk\u001b[0m\u001b[1;33m,\u001b[0m \u001b[0mv\u001b[0m\u001b[1;33m)\u001b[0m \u001b[1;32mfor\u001b[0m \u001b[0mk\u001b[0m\u001b[1;33m,\u001b[0m \u001b[1;33m(\u001b[0m\u001b[0mi\u001b[0m\u001b[1;33m,\u001b[0m \u001b[0mv\u001b[0m\u001b[1;33m)\u001b[0m \u001b[1;32min\u001b[0m \u001b[0mzip\u001b[0m\u001b[1;33m(\u001b[0m\u001b[0mnames\u001b[0m\u001b[1;33m,\u001b[0m \u001b[0mdata\u001b[0m\u001b[1;33m)\u001b[0m\u001b[1;33m)\u001b[0m\u001b[1;33m\u001b[0m\u001b[0m\n\u001b[0;32m   1915\u001b[0m \u001b[1;33m\u001b[0m\u001b[0m\n\u001b[1;32m-> 1916\u001b[1;33m             \u001b[0mnames\u001b[0m\u001b[1;33m,\u001b[0m \u001b[0mdata\u001b[0m \u001b[1;33m=\u001b[0m \u001b[0mself\u001b[0m\u001b[1;33m.\u001b[0m\u001b[0m_do_date_conversions\u001b[0m\u001b[1;33m(\u001b[0m\u001b[0mnames\u001b[0m\u001b[1;33m,\u001b[0m \u001b[0mdata\u001b[0m\u001b[1;33m)\u001b[0m\u001b[1;33m\u001b[0m\u001b[0m\n\u001b[0m\u001b[0;32m   1917\u001b[0m             \u001b[0mindex\u001b[0m\u001b[1;33m,\u001b[0m \u001b[0mnames\u001b[0m \u001b[1;33m=\u001b[0m \u001b[0mself\u001b[0m\u001b[1;33m.\u001b[0m\u001b[0m_make_index\u001b[0m\u001b[1;33m(\u001b[0m\u001b[0mdata\u001b[0m\u001b[1;33m,\u001b[0m \u001b[0malldata\u001b[0m\u001b[1;33m,\u001b[0m \u001b[0mnames\u001b[0m\u001b[1;33m)\u001b[0m\u001b[1;33m\u001b[0m\u001b[0m\n\u001b[0;32m   1918\u001b[0m \u001b[1;33m\u001b[0m\u001b[0m\n",
      "\u001b[1;32m~\\AppData\\Local\\Continuum\\anaconda3\\lib\\site-packages\\pandas\\io\\parsers.py\u001b[0m in \u001b[0;36m_do_date_conversions\u001b[1;34m(self, names, data)\u001b[0m\n\u001b[0;32m   1665\u001b[0m             data, names = _process_date_conversion(\n\u001b[0;32m   1666\u001b[0m                 \u001b[0mdata\u001b[0m\u001b[1;33m,\u001b[0m \u001b[0mself\u001b[0m\u001b[1;33m.\u001b[0m\u001b[0m_date_conv\u001b[0m\u001b[1;33m,\u001b[0m \u001b[0mself\u001b[0m\u001b[1;33m.\u001b[0m\u001b[0mparse_dates\u001b[0m\u001b[1;33m,\u001b[0m \u001b[0mself\u001b[0m\u001b[1;33m.\u001b[0m\u001b[0mindex_col\u001b[0m\u001b[1;33m,\u001b[0m\u001b[1;33m\u001b[0m\u001b[0m\n\u001b[1;32m-> 1667\u001b[1;33m                 self.index_names, names, keep_date_col=self.keep_date_col)\n\u001b[0m\u001b[0;32m   1668\u001b[0m \u001b[1;33m\u001b[0m\u001b[0m\n\u001b[0;32m   1669\u001b[0m         \u001b[1;32mreturn\u001b[0m \u001b[0mnames\u001b[0m\u001b[1;33m,\u001b[0m \u001b[0mdata\u001b[0m\u001b[1;33m\u001b[0m\u001b[0m\n",
      "\u001b[1;32m~\\AppData\\Local\\Continuum\\anaconda3\\lib\\site-packages\\pandas\\io\\parsers.py\u001b[0m in \u001b[0;36m_process_date_conversion\u001b[1;34m(data_dict, converter, parse_spec, index_col, index_names, columns, keep_date_col)\u001b[0m\n\u001b[0;32m   3073\u001b[0m                 \u001b[1;32mif\u001b[0m \u001b[0m_isindex\u001b[0m\u001b[1;33m(\u001b[0m\u001b[0mcolspec\u001b[0m\u001b[1;33m)\u001b[0m\u001b[1;33m:\u001b[0m\u001b[1;33m\u001b[0m\u001b[0m\n\u001b[0;32m   3074\u001b[0m                     \u001b[1;32mcontinue\u001b[0m\u001b[1;33m\u001b[0m\u001b[0m\n\u001b[1;32m-> 3075\u001b[1;33m                 \u001b[0mdata_dict\u001b[0m\u001b[1;33m[\u001b[0m\u001b[0mcolspec\u001b[0m\u001b[1;33m]\u001b[0m \u001b[1;33m=\u001b[0m \u001b[0mconverter\u001b[0m\u001b[1;33m(\u001b[0m\u001b[0mdata_dict\u001b[0m\u001b[1;33m[\u001b[0m\u001b[0mcolspec\u001b[0m\u001b[1;33m]\u001b[0m\u001b[1;33m)\u001b[0m\u001b[1;33m\u001b[0m\u001b[0m\n\u001b[0m\u001b[0;32m   3076\u001b[0m             \u001b[1;32melse\u001b[0m\u001b[1;33m:\u001b[0m\u001b[1;33m\u001b[0m\u001b[0m\n\u001b[0;32m   3077\u001b[0m                 new_name, col, old_names = _try_convert_dates(\n",
      "\u001b[1;32m~\\AppData\\Local\\Continuum\\anaconda3\\lib\\site-packages\\pandas\\io\\parsers.py\u001b[0m in \u001b[0;36mconverter\u001b[1;34m(*date_cols)\u001b[0m\n\u001b[0;32m   3040\u001b[0m                         errors='ignore')\n\u001b[0;32m   3041\u001b[0m                 \u001b[1;32mexcept\u001b[0m \u001b[0mException\u001b[0m\u001b[1;33m:\u001b[0m\u001b[1;33m\u001b[0m\u001b[0m\n\u001b[1;32m-> 3042\u001b[1;33m                     \u001b[1;32mreturn\u001b[0m \u001b[0mgeneric_parser\u001b[0m\u001b[1;33m(\u001b[0m\u001b[0mdate_parser\u001b[0m\u001b[1;33m,\u001b[0m \u001b[1;33m*\u001b[0m\u001b[0mdate_cols\u001b[0m\u001b[1;33m)\u001b[0m\u001b[1;33m\u001b[0m\u001b[0m\n\u001b[0m\u001b[0;32m   3043\u001b[0m \u001b[1;33m\u001b[0m\u001b[0m\n\u001b[0;32m   3044\u001b[0m     \u001b[1;32mreturn\u001b[0m \u001b[0mconverter\u001b[0m\u001b[1;33m\u001b[0m\u001b[0m\n",
      "\u001b[1;32m~\\AppData\\Local\\Continuum\\anaconda3\\lib\\site-packages\\pandas\\io\\date_converters.py\u001b[0m in \u001b[0;36mgeneric_parser\u001b[1;34m(parse_func, *cols)\u001b[0m\n\u001b[0;32m     37\u001b[0m     \u001b[1;32mfor\u001b[0m \u001b[0mi\u001b[0m \u001b[1;32min\u001b[0m \u001b[0mrange\u001b[0m\u001b[1;33m(\u001b[0m\u001b[0mN\u001b[0m\u001b[1;33m)\u001b[0m\u001b[1;33m:\u001b[0m\u001b[1;33m\u001b[0m\u001b[0m\n\u001b[0;32m     38\u001b[0m         \u001b[0margs\u001b[0m \u001b[1;33m=\u001b[0m \u001b[1;33m[\u001b[0m\u001b[0mc\u001b[0m\u001b[1;33m[\u001b[0m\u001b[0mi\u001b[0m\u001b[1;33m]\u001b[0m \u001b[1;32mfor\u001b[0m \u001b[0mc\u001b[0m \u001b[1;32min\u001b[0m \u001b[0mcols\u001b[0m\u001b[1;33m]\u001b[0m\u001b[1;33m\u001b[0m\u001b[0m\n\u001b[1;32m---> 39\u001b[1;33m         \u001b[0mresults\u001b[0m\u001b[1;33m[\u001b[0m\u001b[0mi\u001b[0m\u001b[1;33m]\u001b[0m \u001b[1;33m=\u001b[0m \u001b[0mparse_func\u001b[0m\u001b[1;33m(\u001b[0m\u001b[1;33m*\u001b[0m\u001b[0margs\u001b[0m\u001b[1;33m)\u001b[0m\u001b[1;33m\u001b[0m\u001b[0m\n\u001b[0m\u001b[0;32m     40\u001b[0m \u001b[1;33m\u001b[0m\u001b[0m\n\u001b[0;32m     41\u001b[0m     \u001b[1;32mreturn\u001b[0m \u001b[0mresults\u001b[0m\u001b[1;33m\u001b[0m\u001b[0m\n",
      "\u001b[1;32m<ipython-input-128-4a02b0c3e03a>\u001b[0m in \u001b[0;36mparser\u001b[1;34m(x)\u001b[0m\n\u001b[0;32m      1\u001b[0m \u001b[1;32mdef\u001b[0m \u001b[0mparser\u001b[0m\u001b[1;33m(\u001b[0m\u001b[0mx\u001b[0m\u001b[1;33m)\u001b[0m\u001b[1;33m:\u001b[0m\u001b[1;33m\u001b[0m\u001b[0m\n\u001b[1;32m----> 2\u001b[1;33m     \u001b[1;32mreturn\u001b[0m \u001b[0mdatetime\u001b[0m\u001b[1;33m.\u001b[0m\u001b[0mstrptime\u001b[0m\u001b[1;33m(\u001b[0m\u001b[1;34m'19'\u001b[0m\u001b[1;33m+\u001b[0m\u001b[0mx\u001b[0m\u001b[1;33m,\u001b[0m \u001b[1;34m'%Y-%m'\u001b[0m\u001b[1;33m)\u001b[0m\u001b[1;33m\u001b[0m\u001b[0m\n\u001b[0m\u001b[0;32m      3\u001b[0m \u001b[1;33m\u001b[0m\u001b[0m\n\u001b[0;32m      4\u001b[0m \u001b[0mseries\u001b[0m \u001b[1;33m=\u001b[0m \u001b[0mread_csv\u001b[0m\u001b[1;33m(\u001b[0m\u001b[1;34m'air1.csv'\u001b[0m\u001b[1;33m,\u001b[0m \u001b[0mheader\u001b[0m\u001b[1;33m=\u001b[0m\u001b[1;36m0\u001b[0m\u001b[1;33m,\u001b[0m \u001b[0mparse_dates\u001b[0m\u001b[1;33m=\u001b[0m\u001b[1;33m[\u001b[0m\u001b[1;36m0\u001b[0m\u001b[1;33m]\u001b[0m\u001b[1;33m,\u001b[0m \u001b[0mindex_col\u001b[0m\u001b[1;33m=\u001b[0m\u001b[1;36m0\u001b[0m\u001b[1;33m,\u001b[0m \u001b[0msqueeze\u001b[0m\u001b[1;33m=\u001b[0m\u001b[1;32mTrue\u001b[0m\u001b[1;33m,\u001b[0m \u001b[0mdate_parser\u001b[0m\u001b[1;33m=\u001b[0m\u001b[0mparser\u001b[0m\u001b[1;33m)\u001b[0m\u001b[1;33m\u001b[0m\u001b[0m\n\u001b[0;32m      5\u001b[0m \u001b[0mseries\u001b[0m\u001b[1;33m\u001b[0m\u001b[0m\n",
      "\u001b[1;32m~\\AppData\\Local\\Continuum\\anaconda3\\lib\\_strptime.py\u001b[0m in \u001b[0;36m_strptime_datetime\u001b[1;34m(cls, data_string, format)\u001b[0m\n\u001b[0;32m    563\u001b[0m     \"\"\"Return a class cls instance based on the input string and the\n\u001b[0;32m    564\u001b[0m     format string.\"\"\"\n\u001b[1;32m--> 565\u001b[1;33m     \u001b[0mtt\u001b[0m\u001b[1;33m,\u001b[0m \u001b[0mfraction\u001b[0m \u001b[1;33m=\u001b[0m \u001b[0m_strptime\u001b[0m\u001b[1;33m(\u001b[0m\u001b[0mdata_string\u001b[0m\u001b[1;33m,\u001b[0m \u001b[0mformat\u001b[0m\u001b[1;33m)\u001b[0m\u001b[1;33m\u001b[0m\u001b[0m\n\u001b[0m\u001b[0;32m    566\u001b[0m     \u001b[0mtzname\u001b[0m\u001b[1;33m,\u001b[0m \u001b[0mgmtoff\u001b[0m \u001b[1;33m=\u001b[0m \u001b[0mtt\u001b[0m\u001b[1;33m[\u001b[0m\u001b[1;33m-\u001b[0m\u001b[1;36m2\u001b[0m\u001b[1;33m:\u001b[0m\u001b[1;33m]\u001b[0m\u001b[1;33m\u001b[0m\u001b[0m\n\u001b[0;32m    567\u001b[0m     \u001b[0margs\u001b[0m \u001b[1;33m=\u001b[0m \u001b[0mtt\u001b[0m\u001b[1;33m[\u001b[0m\u001b[1;33m:\u001b[0m\u001b[1;36m6\u001b[0m\u001b[1;33m]\u001b[0m \u001b[1;33m+\u001b[0m \u001b[1;33m(\u001b[0m\u001b[0mfraction\u001b[0m\u001b[1;33m,\u001b[0m\u001b[1;33m)\u001b[0m\u001b[1;33m\u001b[0m\u001b[0m\n",
      "\u001b[1;32m~\\AppData\\Local\\Continuum\\anaconda3\\lib\\_strptime.py\u001b[0m in \u001b[0;36m_strptime\u001b[1;34m(data_string, format)\u001b[0m\n\u001b[0;32m    360\u001b[0m     \u001b[1;32mif\u001b[0m \u001b[1;32mnot\u001b[0m \u001b[0mfound\u001b[0m\u001b[1;33m:\u001b[0m\u001b[1;33m\u001b[0m\u001b[0m\n\u001b[0;32m    361\u001b[0m         raise ValueError(\"time data %r does not match format %r\" %\n\u001b[1;32m--> 362\u001b[1;33m                          (data_string, format))\n\u001b[0m\u001b[0;32m    363\u001b[0m     \u001b[1;32mif\u001b[0m \u001b[0mlen\u001b[0m\u001b[1;33m(\u001b[0m\u001b[0mdata_string\u001b[0m\u001b[1;33m)\u001b[0m \u001b[1;33m!=\u001b[0m \u001b[0mfound\u001b[0m\u001b[1;33m.\u001b[0m\u001b[0mend\u001b[0m\u001b[1;33m(\u001b[0m\u001b[1;33m)\u001b[0m\u001b[1;33m:\u001b[0m\u001b[1;33m\u001b[0m\u001b[0m\n\u001b[0;32m    364\u001b[0m         raise ValueError(\"unconverted data remains: %s\" %\n",
      "\u001b[1;31mValueError\u001b[0m: time data '191949-01-01' does not match format '%Y-%m'"
     ]
    }
   ],
   "source": [
    "ts288=read_csv('new_288_data.csv',header=0, parse_dates=['DATE'], index_col=0, squeeze=True,date_parser=parser)\n",
    "ts288"
   ]
  },
  {
   "cell_type": "code",
   "execution_count": 112,
   "metadata": {},
   "outputs": [],
   "source": [
    "series = pd.Series(ts288['AIR'], index=ts288.index)"
   ]
  },
  {
   "cell_type": "code",
   "execution_count": 123,
   "metadata": {},
   "outputs": [
    {
     "name": "stdout",
     "output_type": "stream",
     "text": [
      "           DATE   AIR\n",
      "1    1949-01-01   112\n",
      "2    1949-02-01   118\n",
      "3    1949-03-01   132\n",
      "4    1949-04-01   129\n",
      "5    1949-05-01   121\n",
      "6    1949-06-01   135\n",
      "7    1949-07-01   148\n",
      "8    1949-08-01   148\n",
      "9    1949-09-01   136\n",
      "10   1949-10-01   119\n",
      "11   1949-11-01   104\n",
      "12   1949-12-01   118\n",
      "13   1950-01-01   115\n",
      "14   1950-02-01   126\n",
      "15   1950-03-01   141\n",
      "16   1950-04-01   135\n",
      "17   1950-05-01   125\n",
      "18   1950-06-01   149\n",
      "19   1950-07-01   170\n",
      "20   1950-08-01   170\n",
      "21   1950-09-01   158\n",
      "22   1950-10-01   133\n",
      "23   1950-11-01   114\n",
      "24   1950-12-01   140\n",
      "25   1951-01-01   145\n",
      "26   1951-02-01   150\n",
      "27   1951-03-01   178\n",
      "28   1951-04-01   163\n",
      "29   1951-05-01   172\n",
      "30   1951-06-01   178\n",
      "31   1951-07-01   199\n",
      "32   1951-08-01   199\n",
      "33   1951-09-01   184\n",
      "34   1951-10-01   162\n",
      "35   1951-11-01   146\n",
      "36   1951-12-01   166\n",
      "37   1952-01-01   171\n",
      "38   1952-02-01   180\n",
      "39   1952-03-01   193\n",
      "40   1952-04-01   181\n",
      "41   1952-05-01   183\n",
      "42   1952-06-01   218\n",
      "43   1952-07-01   230\n",
      "44   1952-08-01   242\n",
      "45   1952-09-01   209\n",
      "46   1952-10-01   191\n",
      "47   1952-11-01   172\n",
      "48   1952-12-01   194\n",
      "49   1953-01-01   196\n",
      "50   1953-02-01   196\n",
      "51   1953-03-01   236\n",
      "52   1953-04-01   235\n",
      "53   1953-05-01   229\n",
      "54   1953-06-01   243\n",
      "55   1953-07-01   264\n",
      "56   1953-08-01   272\n",
      "57   1953-09-01   237\n",
      "58   1953-10-01   211\n",
      "59   1953-11-01   180\n",
      "60   1953-12-01   201\n",
      "61   1954-01-01   204\n",
      "62   1954-02-01   188\n",
      "63   1954-03-01   235\n",
      "64   1954-04-01   227\n",
      "65   1954-05-01   234\n",
      "66   1954-06-01   264\n",
      "67   1954-07-01   302\n",
      "68   1954-08-01   293\n",
      "69   1954-09-01   259\n",
      "70   1954-10-01   229\n",
      "71   1954-11-01   203\n",
      "72   1954-12-01   229\n",
      "73   1955-01-01   242\n",
      "74   1955-02-01   233\n",
      "75   1955-03-01   267\n",
      "76   1955-04-01   269\n",
      "77   1955-05-01   270\n",
      "78   1955-06-01   315\n",
      "79   1955-07-01   364\n",
      "80   1955-08-01   347\n",
      "81   1955-09-01   312\n",
      "82   1955-10-01   274\n",
      "83   1955-11-01   237\n",
      "84   1955-12-01   278\n",
      "85   1956-01-01   284\n",
      "86   1956-02-01   277\n",
      "87   1956-03-01   317\n",
      "88   1956-04-01   313\n",
      "89   1956-05-01   318\n",
      "90   1956-06-01   374\n",
      "91   1956-07-01   413\n",
      "92   1956-08-01   405\n",
      "93   1956-09-01   355\n",
      "94   1956-10-01   306\n",
      "95   1956-11-01   271\n",
      "96   1956-12-01   306\n",
      "97   1957-01-01   315\n",
      "98   1957-02-01   301\n",
      "99   1957-03-01   356\n",
      "100  1957-04-01   348\n",
      "101  1957-05-01   355\n",
      "102  1957-06-01   422\n",
      "103  1957-07-01   465\n",
      "104  1957-08-01   467\n",
      "105  1957-09-01   404\n",
      "106  1957-10-01   347\n",
      "107  1957-11-01   305\n",
      "108  1957-12-01   336\n",
      "109  1958-01-01   340\n",
      "110  1958-02-01   318\n",
      "111  1958-03-01   362\n",
      "112  1958-04-01   348\n",
      "113  1958-05-01   363\n",
      "114  1958-06-01   435\n",
      "115  1958-07-01   491\n",
      "116  1958-08-01   505\n",
      "117  1958-09-01   404\n",
      "118  1958-10-01   359\n",
      "119  1958-11-01   310\n",
      "120  1958-12-01   337\n",
      "121  1959-01-01   360\n",
      "122  1959-02-01   342\n",
      "123  1959-03-01   406\n",
      "124  1959-04-01   396\n",
      "125  1959-05-01   420\n",
      "126  1959-06-01   472\n",
      "127  1959-07-01   548\n",
      "128  1959-08-01   559\n",
      "129  1959-09-01   463\n",
      "130  1959-10-01   407\n",
      "131  1959-11-01   362\n",
      "132  1959-12-01   405\n",
      "133  1960-01-01   417\n",
      "134  1960-02-01   391\n",
      "135  1960-03-01   419\n",
      "136  1960-04-01   461\n",
      "137  1960-05-01   472\n",
      "138  1960-06-01   535\n",
      "139  1960-07-01   622\n",
      "140  1960-08-01   606\n",
      "141  1960-09-01   508\n",
      "142  1960-10-01   461\n",
      "143  1960-11-01   390\n",
      "144  1960-12-01   432\n",
      "145  1961-01-01   450\n",
      "146  1961-02-01   426\n",
      "147  1961-03-01   479\n",
      "148  1961-04-01   492\n",
      "149  1961-05-01   509\n",
      "150  1961-06-01   583\n",
      "151  1961-07-01   670\n",
      "152  1961-08-01   667\n",
      "153  1961-09-01   558\n",
      "154  1961-10-01   497\n",
      "155  1961-11-01   430\n",
      "156  1961-12-01   477\n",
      "157  1962-01-01   496\n",
      "158  1962-02-01   469\n",
      "159  1962-03-01   527\n",
      "160  1962-04-01   542\n",
      "161  1962-05-01   560\n",
      "162  1962-06-01   642\n",
      "163  1962-07-01   738\n",
      "164  1962-08-01   734\n",
      "165  1962-09-01   615\n",
      "166  1962-10-01   547\n",
      "167  1962-11-01   473\n",
      "168  1962-12-01   525\n",
      "169  1963-01-01   546\n",
      "170  1963-02-01   516\n",
      "171  1963-03-01   581\n",
      "172  1963-04-01   597\n",
      "173  1963-05-01   617\n",
      "174  1963-06-01   707\n",
      "175  1963-07-01   812\n",
      "176  1963-08-01   809\n",
      "177  1963-09-01   677\n",
      "178  1963-10-01   603\n",
      "179  1963-11-01   521\n",
      "180  1963-12-01   579\n",
      "181  1964-01-01   601\n",
      "182  1964-02-01   568\n",
      "183  1964-03-01   639\n",
      "184  1964-04-01   657\n",
      "185  1964-05-01   679\n",
      "186  1964-06-01   779\n",
      "187  1964-07-01   894\n",
      "188  1964-08-01   890\n",
      "189  1964-09-01   745\n",
      "190  1964-10-01   664\n",
      "191  1964-11-01   574\n",
      "192  1964-12-01   637\n",
      "193  1965-01-01   662\n",
      "194  1965-02-01   626\n",
      "195  1965-03-01   704\n",
      "196  1965-04-01   724\n",
      "197  1965-05-01   748\n",
      "198  1965-06-01   857\n",
      "199  1965-07-01   985\n",
      "200  1965-08-01   980\n",
      "201  1965-09-01   820\n",
      "202  1965-10-01   731\n",
      "203  1965-11-01   632\n",
      "204  1965-12-01   701\n",
      "205  1966-01-01   729\n",
      "206  1966-02-01   689\n",
      "207  1966-03-01   775\n",
      "208  1966-04-01   797\n",
      "209  1966-05-01   824\n",
      "210  1966-06-01   944\n",
      "211  1966-07-01  1084\n",
      "212  1966-08-01  1079\n",
      "213  1966-09-01   903\n",
      "214  1966-10-01   805\n",
      "215  1966-11-01   696\n",
      "216  1966-12-01   772\n",
      "217  1967-01-01   802\n",
      "218  1967-02-01   758\n",
      "219  1967-03-01   853\n",
      "220  1967-04-01   877\n",
      "221  1967-05-01   907\n",
      "222  1967-06-01  1039\n",
      "223  1967-07-01  1194\n",
      "224  1967-08-01  1188\n",
      "225  1967-09-01   994\n",
      "226  1967-10-01   886\n",
      "227  1967-11-01   766\n",
      "228  1967-12-01   850\n",
      "229  1968-01-01   884\n",
      "230  1968-02-01   835\n",
      "231  1968-03-01   940\n",
      "232  1968-04-01   966\n",
      "233  1968-05-01   999\n",
      "234  1968-06-01  1144\n",
      "235  1968-07-01  1314\n",
      "236  1968-08-01  1309\n",
      "237  1968-09-01  1095\n",
      "238  1968-10-01   975\n",
      "239  1968-11-01   843\n",
      "240  1968-12-01   936\n",
      "241  1969-01-01   973\n",
      "242  1969-02-01   919\n",
      "243  1969-03-01  1035\n",
      "244  1969-04-01  1063\n",
      "245  1969-05-01  1099\n",
      "246  1969-06-01  1260\n",
      "247  1969-07-01  1447\n",
      "248  1969-08-01  1441\n",
      "249  1969-09-01  1206\n",
      "250  1969-10-01  1074\n",
      "251  1969-11-01   928\n",
      "252  1969-12-01  1031\n",
      "253  1970-01-01  1071\n",
      "254  1970-02-01  1012\n",
      "255  1970-03-01  1139\n",
      "256  1970-04-01  1171\n",
      "257  1970-05-01  1211\n",
      "258  1970-06-01  1387\n",
      "259  1970-07-01  1593\n",
      "260  1970-08-01  1586\n",
      "261  1970-09-01  1327\n",
      "262  1970-10-01  1182\n",
      "263  1970-11-01  1022\n",
      "264  1970-12-01  1135\n",
      "265  1971-01-01  1179\n",
      "266  1971-02-01  1115\n",
      "267  1971-03-01  1254\n",
      "268  1971-04-01  1289\n",
      "269  1971-05-01  1333\n",
      "270  1971-06-01  1527\n",
      "271  1971-07-01  1754\n",
      "272  1971-08-01  1747\n",
      "273  1971-09-01  1461\n",
      "274  1971-10-01  1302\n",
      "275  1971-11-01  1125\n",
      "276  1971-12-01  1250\n",
      "277  1972-01-01  1298\n",
      "278  1972-02-01  1227\n",
      "279  1972-03-01  1381\n",
      "280  1972-04-01  1419\n",
      "281  1972-05-01  1467\n",
      "282  1972-06-01  1682\n",
      "283  1972-07-01  1931\n",
      "284  1972-08-01  1923\n",
      "285  1972-09-01  1609\n",
      "286  1972-10-01  1433\n",
      "287  1972-11-01  1239\n",
      "288  1972-12-01  1376\n"
     ]
    }
   ],
   "source": [
    "series\n",
    "print(ts288.to_string())"
   ]
  },
  {
   "cell_type": "code",
   "execution_count": 114,
   "metadata": {},
   "outputs": [
    {
     "ename": "ValueError",
     "evalue": "Given a pandas object and the index does not contain dates",
     "output_type": "error",
     "traceback": [
      "\u001b[1;31m---------------------------------------------------------------------------\u001b[0m",
      "\u001b[1;31mValueError\u001b[0m                                Traceback (most recent call last)",
      "\u001b[1;32m~\\AppData\\Local\\Continuum\\anaconda3\\lib\\site-packages\\statsmodels\\tsa\\base\\tsa_model.py\u001b[0m in \u001b[0;36m_init_dates\u001b[1;34m(self, dates, freq)\u001b[0m\n\u001b[0;32m     54\u001b[0m                     \u001b[1;32mif\u001b[0m \u001b[0mis_numeric_dtype\u001b[0m\u001b[1;33m(\u001b[0m\u001b[0mdates\u001b[0m\u001b[1;33m)\u001b[0m\u001b[1;33m:\u001b[0m\u001b[1;33m\u001b[0m\u001b[0m\n\u001b[1;32m---> 55\u001b[1;33m                         \u001b[1;32mraise\u001b[0m \u001b[0mValueError\u001b[0m\u001b[1;33m\u001b[0m\u001b[0m\n\u001b[0m\u001b[0;32m     56\u001b[0m                     \u001b[0mdates\u001b[0m \u001b[1;33m=\u001b[0m \u001b[0mto_datetime\u001b[0m\u001b[1;33m(\u001b[0m\u001b[0mdates\u001b[0m\u001b[1;33m)\u001b[0m\u001b[1;33m\u001b[0m\u001b[0m\n",
      "\u001b[1;31mValueError\u001b[0m: ",
      "\nDuring handling of the above exception, another exception occurred:\n",
      "\u001b[1;31mValueError\u001b[0m                                Traceback (most recent call last)",
      "\u001b[1;32m<ipython-input-114-90a6f49a959b>\u001b[0m in \u001b[0;36m<module>\u001b[1;34m()\u001b[0m\n\u001b[0;32m     22\u001b[0m \u001b[0mstart_time\u001b[0m \u001b[1;33m=\u001b[0m \u001b[0mtime\u001b[0m\u001b[1;33m.\u001b[0m\u001b[0mtime\u001b[0m\u001b[1;33m(\u001b[0m\u001b[1;33m)\u001b[0m\u001b[1;33m\u001b[0m\u001b[0m\n\u001b[0;32m     23\u001b[0m \u001b[1;32mfor\u001b[0m \u001b[0mi\u001b[0m \u001b[1;32min\u001b[0m \u001b[0mrange\u001b[0m\u001b[1;33m(\u001b[0m\u001b[1;36m0\u001b[0m\u001b[1;33m,\u001b[0m\u001b[1;36m100\u001b[0m\u001b[1;33m)\u001b[0m\u001b[1;33m:\u001b[0m\u001b[1;33m\u001b[0m\u001b[0m\n\u001b[1;32m---> 24\u001b[1;33m     \u001b[0msm\u001b[0m\u001b[1;33m.\u001b[0m\u001b[0mtsa\u001b[0m\u001b[1;33m.\u001b[0m\u001b[0mstatespace\u001b[0m\u001b[1;33m.\u001b[0m\u001b[0mSARIMAX\u001b[0m\u001b[1;33m(\u001b[0m\u001b[0mdf\u001b[0m\u001b[1;33m,\u001b[0m \u001b[0morder\u001b[0m\u001b[1;33m=\u001b[0m\u001b[0mmy_order\u001b[0m\u001b[1;33m,\u001b[0m \u001b[0mseasonal_order\u001b[0m\u001b[1;33m=\u001b[0m\u001b[0mmy_seasonal_order\u001b[0m\u001b[1;33m)\u001b[0m\u001b[1;33m.\u001b[0m\u001b[0mfit\u001b[0m\u001b[1;33m(\u001b[0m\u001b[1;33m)\u001b[0m\u001b[1;33m.\u001b[0m\u001b[0maic\u001b[0m\u001b[1;33m\u001b[0m\u001b[0m\n\u001b[0m\u001b[0;32m     25\u001b[0m     \u001b[0mi\u001b[0m\u001b[1;33m=\u001b[0m\u001b[0mi\u001b[0m\u001b[1;33m+\u001b[0m\u001b[1;36m1\u001b[0m\u001b[1;33m\u001b[0m\u001b[0m\n\u001b[0;32m     26\u001b[0m \u001b[1;33m\u001b[0m\u001b[0m\n",
      "\u001b[1;32m~\\AppData\\Local\\Continuum\\anaconda3\\lib\\site-packages\\statsmodels\\tsa\\statespace\\sarimax.py\u001b[0m in \u001b[0;36m__init__\u001b[1;34m(self, endog, exog, order, seasonal_order, trend, measurement_error, time_varying_regression, mle_regression, simple_differencing, enforce_stationarity, enforce_invertibility, hamilton_representation, **kwargs)\u001b[0m\n\u001b[0;32m    508\u001b[0m         \u001b[1;31m# Initialize the statespace\u001b[0m\u001b[1;33m\u001b[0m\u001b[1;33m\u001b[0m\u001b[0m\n\u001b[0;32m    509\u001b[0m         super(SARIMAX, self).__init__(\n\u001b[1;32m--> 510\u001b[1;33m             \u001b[0mendog\u001b[0m\u001b[1;33m,\u001b[0m \u001b[0mexog\u001b[0m\u001b[1;33m=\u001b[0m\u001b[0mexog\u001b[0m\u001b[1;33m,\u001b[0m \u001b[0mk_states\u001b[0m\u001b[1;33m=\u001b[0m\u001b[0mk_states\u001b[0m\u001b[1;33m,\u001b[0m \u001b[0mk_posdef\u001b[0m\u001b[1;33m=\u001b[0m\u001b[0mk_posdef\u001b[0m\u001b[1;33m,\u001b[0m \u001b[1;33m**\u001b[0m\u001b[0mkwargs\u001b[0m\u001b[1;33m\u001b[0m\u001b[0m\n\u001b[0m\u001b[0;32m    511\u001b[0m         )\n\u001b[0;32m    512\u001b[0m \u001b[1;33m\u001b[0m\u001b[0m\n",
      "\u001b[1;32m~\\AppData\\Local\\Continuum\\anaconda3\\lib\\site-packages\\statsmodels\\tsa\\statespace\\mlemodel.py\u001b[0m in \u001b[0;36m__init__\u001b[1;34m(self, endog, k_states, exog, dates, freq, **kwargs)\u001b[0m\n\u001b[0;32m     82\u001b[0m         super(MLEModel, self).__init__(endog=endog, exog=exog,\n\u001b[0;32m     83\u001b[0m                                        \u001b[0mdates\u001b[0m\u001b[1;33m=\u001b[0m\u001b[0mdates\u001b[0m\u001b[1;33m,\u001b[0m \u001b[0mfreq\u001b[0m\u001b[1;33m=\u001b[0m\u001b[0mfreq\u001b[0m\u001b[1;33m,\u001b[0m\u001b[1;33m\u001b[0m\u001b[0m\n\u001b[1;32m---> 84\u001b[1;33m                                        missing='none')\n\u001b[0m\u001b[0;32m     85\u001b[0m \u001b[1;33m\u001b[0m\u001b[0m\n\u001b[0;32m     86\u001b[0m         \u001b[1;31m# Store kwargs to recreate model\u001b[0m\u001b[1;33m\u001b[0m\u001b[1;33m\u001b[0m\u001b[0m\n",
      "\u001b[1;32m~\\AppData\\Local\\Continuum\\anaconda3\\lib\\site-packages\\statsmodels\\tsa\\base\\tsa_model.py\u001b[0m in \u001b[0;36m__init__\u001b[1;34m(self, endog, exog, dates, freq, missing)\u001b[0m\n\u001b[0;32m     42\u001b[0m     \u001b[1;32mdef\u001b[0m \u001b[0m__init__\u001b[0m\u001b[1;33m(\u001b[0m\u001b[0mself\u001b[0m\u001b[1;33m,\u001b[0m \u001b[0mendog\u001b[0m\u001b[1;33m,\u001b[0m \u001b[0mexog\u001b[0m\u001b[1;33m=\u001b[0m\u001b[1;32mNone\u001b[0m\u001b[1;33m,\u001b[0m \u001b[0mdates\u001b[0m\u001b[1;33m=\u001b[0m\u001b[1;32mNone\u001b[0m\u001b[1;33m,\u001b[0m \u001b[0mfreq\u001b[0m\u001b[1;33m=\u001b[0m\u001b[1;32mNone\u001b[0m\u001b[1;33m,\u001b[0m \u001b[0mmissing\u001b[0m\u001b[1;33m=\u001b[0m\u001b[1;34m'none'\u001b[0m\u001b[1;33m)\u001b[0m\u001b[1;33m:\u001b[0m\u001b[1;33m\u001b[0m\u001b[0m\n\u001b[0;32m     43\u001b[0m         \u001b[0msuper\u001b[0m\u001b[1;33m(\u001b[0m\u001b[0mTimeSeriesModel\u001b[0m\u001b[1;33m,\u001b[0m \u001b[0mself\u001b[0m\u001b[1;33m)\u001b[0m\u001b[1;33m.\u001b[0m\u001b[0m__init__\u001b[0m\u001b[1;33m(\u001b[0m\u001b[0mendog\u001b[0m\u001b[1;33m,\u001b[0m \u001b[0mexog\u001b[0m\u001b[1;33m,\u001b[0m \u001b[0mmissing\u001b[0m\u001b[1;33m=\u001b[0m\u001b[0mmissing\u001b[0m\u001b[1;33m)\u001b[0m\u001b[1;33m\u001b[0m\u001b[0m\n\u001b[1;32m---> 44\u001b[1;33m         \u001b[0mself\u001b[0m\u001b[1;33m.\u001b[0m\u001b[0m_init_dates\u001b[0m\u001b[1;33m(\u001b[0m\u001b[0mdates\u001b[0m\u001b[1;33m,\u001b[0m \u001b[0mfreq\u001b[0m\u001b[1;33m)\u001b[0m\u001b[1;33m\u001b[0m\u001b[0m\n\u001b[0m\u001b[0;32m     45\u001b[0m \u001b[1;33m\u001b[0m\u001b[0m\n\u001b[0;32m     46\u001b[0m     \u001b[1;32mdef\u001b[0m \u001b[0m_init_dates\u001b[0m\u001b[1;33m(\u001b[0m\u001b[0mself\u001b[0m\u001b[1;33m,\u001b[0m \u001b[0mdates\u001b[0m\u001b[1;33m,\u001b[0m \u001b[0mfreq\u001b[0m\u001b[1;33m)\u001b[0m\u001b[1;33m:\u001b[0m\u001b[1;33m\u001b[0m\u001b[0m\n",
      "\u001b[1;32m~\\AppData\\Local\\Continuum\\anaconda3\\lib\\site-packages\\statsmodels\\tsa\\base\\tsa_model.py\u001b[0m in \u001b[0;36m_init_dates\u001b[1;34m(self, dates, freq)\u001b[0m\n\u001b[0;32m     56\u001b[0m                     \u001b[0mdates\u001b[0m \u001b[1;33m=\u001b[0m \u001b[0mto_datetime\u001b[0m\u001b[1;33m(\u001b[0m\u001b[0mdates\u001b[0m\u001b[1;33m)\u001b[0m\u001b[1;33m\u001b[0m\u001b[0m\n\u001b[0;32m     57\u001b[0m                 \u001b[1;32mexcept\u001b[0m \u001b[0mValueError\u001b[0m\u001b[1;33m:\u001b[0m\u001b[1;33m\u001b[0m\u001b[0m\n\u001b[1;32m---> 58\u001b[1;33m                     raise ValueError(\"Given a pandas object and the index does \"\n\u001b[0m\u001b[0;32m     59\u001b[0m                                      \"not contain dates\")\n\u001b[0;32m     60\u001b[0m             \u001b[1;32mif\u001b[0m \u001b[1;32mnot\u001b[0m \u001b[0mfreq\u001b[0m\u001b[1;33m:\u001b[0m\u001b[1;33m\u001b[0m\u001b[0m\n",
      "\u001b[1;31mValueError\u001b[0m: Given a pandas object and the index does not contain dates"
     ]
    }
   ],
   "source": [
    "%matplotlib inline\n",
    "import numpy as np\n",
    "import pandas as pd\n",
    "from scipy.stats import norm\n",
    "import statsmodels.api as sm\n",
    "import matplotlib.pyplot as plt\n",
    "from datetime import datetime\n",
    "import requests\n",
    "from io import BytesIO\n",
    "\n",
    "\n",
    "# SARIMA model test\n",
    "# 12/03/2018\n",
    "data= series\n",
    "df = np.log(data)\n",
    "df1=df.diff(periods=1)\n",
    "df1_12=df1.diff(periods=12)\n",
    "data= df1_12\n",
    "my_order = (0, 1, 1)\n",
    "my_seasonal_order = (0, 1, 1, 12)\n",
    "\n",
    "start_time = time.time()\n",
    "for i in range(0,100):\n",
    "    sm.tsa.statespace.SARIMAX(df, order=my_order, seasonal_order=my_seasonal_order).fit().aic\n",
    "    i=i+1\n",
    "\n",
    "\n",
    "time.time() - start_time"
   ]
  },
  {
   "cell_type": "code",
   "execution_count": 2,
   "metadata": {},
   "outputs": [
    {
     "data": {
      "text/html": [
       "<div>\n",
       "<style scoped>\n",
       "    .dataframe tbody tr th:only-of-type {\n",
       "        vertical-align: middle;\n",
       "    }\n",
       "\n",
       "    .dataframe tbody tr th {\n",
       "        vertical-align: top;\n",
       "    }\n",
       "\n",
       "    .dataframe thead th {\n",
       "        text-align: right;\n",
       "    }\n",
       "</style>\n",
       "<table border=\"1\" class=\"dataframe\">\n",
       "  <thead>\n",
       "    <tr style=\"text-align: right;\">\n",
       "      <th></th>\n",
       "      <th>DATE</th>\n",
       "      <th>AIR</th>\n",
       "    </tr>\n",
       "  </thead>\n",
       "  <tbody>\n",
       "    <tr>\n",
       "      <th>0</th>\n",
       "      <td>1949-01-01</td>\n",
       "      <td>112</td>\n",
       "    </tr>\n",
       "    <tr>\n",
       "      <th>1</th>\n",
       "      <td>1949-02-01</td>\n",
       "      <td>118</td>\n",
       "    </tr>\n",
       "    <tr>\n",
       "      <th>2</th>\n",
       "      <td>1949-03-01</td>\n",
       "      <td>132</td>\n",
       "    </tr>\n",
       "    <tr>\n",
       "      <th>3</th>\n",
       "      <td>1949-04-01</td>\n",
       "      <td>129</td>\n",
       "    </tr>\n",
       "    <tr>\n",
       "      <th>4</th>\n",
       "      <td>1949-05-01</td>\n",
       "      <td>121</td>\n",
       "    </tr>\n",
       "    <tr>\n",
       "      <th>5</th>\n",
       "      <td>1949-06-01</td>\n",
       "      <td>135</td>\n",
       "    </tr>\n",
       "    <tr>\n",
       "      <th>6</th>\n",
       "      <td>1949-07-01</td>\n",
       "      <td>148</td>\n",
       "    </tr>\n",
       "    <tr>\n",
       "      <th>7</th>\n",
       "      <td>1949-08-01</td>\n",
       "      <td>148</td>\n",
       "    </tr>\n",
       "    <tr>\n",
       "      <th>8</th>\n",
       "      <td>1949-09-01</td>\n",
       "      <td>136</td>\n",
       "    </tr>\n",
       "    <tr>\n",
       "      <th>9</th>\n",
       "      <td>1949-10-01</td>\n",
       "      <td>119</td>\n",
       "    </tr>\n",
       "    <tr>\n",
       "      <th>10</th>\n",
       "      <td>1949-11-01</td>\n",
       "      <td>104</td>\n",
       "    </tr>\n",
       "    <tr>\n",
       "      <th>11</th>\n",
       "      <td>1949-12-01</td>\n",
       "      <td>118</td>\n",
       "    </tr>\n",
       "    <tr>\n",
       "      <th>12</th>\n",
       "      <td>1950-01-01</td>\n",
       "      <td>115</td>\n",
       "    </tr>\n",
       "    <tr>\n",
       "      <th>13</th>\n",
       "      <td>1950-02-01</td>\n",
       "      <td>126</td>\n",
       "    </tr>\n",
       "    <tr>\n",
       "      <th>14</th>\n",
       "      <td>1950-03-01</td>\n",
       "      <td>141</td>\n",
       "    </tr>\n",
       "    <tr>\n",
       "      <th>15</th>\n",
       "      <td>1950-04-01</td>\n",
       "      <td>135</td>\n",
       "    </tr>\n",
       "    <tr>\n",
       "      <th>16</th>\n",
       "      <td>1950-05-01</td>\n",
       "      <td>125</td>\n",
       "    </tr>\n",
       "    <tr>\n",
       "      <th>17</th>\n",
       "      <td>1950-06-01</td>\n",
       "      <td>149</td>\n",
       "    </tr>\n",
       "    <tr>\n",
       "      <th>18</th>\n",
       "      <td>1950-07-01</td>\n",
       "      <td>170</td>\n",
       "    </tr>\n",
       "    <tr>\n",
       "      <th>19</th>\n",
       "      <td>1950-08-01</td>\n",
       "      <td>170</td>\n",
       "    </tr>\n",
       "    <tr>\n",
       "      <th>20</th>\n",
       "      <td>1950-09-01</td>\n",
       "      <td>158</td>\n",
       "    </tr>\n",
       "    <tr>\n",
       "      <th>21</th>\n",
       "      <td>1950-10-01</td>\n",
       "      <td>133</td>\n",
       "    </tr>\n",
       "    <tr>\n",
       "      <th>22</th>\n",
       "      <td>1950-11-01</td>\n",
       "      <td>114</td>\n",
       "    </tr>\n",
       "    <tr>\n",
       "      <th>23</th>\n",
       "      <td>1950-12-01</td>\n",
       "      <td>140</td>\n",
       "    </tr>\n",
       "    <tr>\n",
       "      <th>24</th>\n",
       "      <td>1951-01-01</td>\n",
       "      <td>145</td>\n",
       "    </tr>\n",
       "    <tr>\n",
       "      <th>25</th>\n",
       "      <td>1951-02-01</td>\n",
       "      <td>150</td>\n",
       "    </tr>\n",
       "    <tr>\n",
       "      <th>26</th>\n",
       "      <td>1951-03-01</td>\n",
       "      <td>178</td>\n",
       "    </tr>\n",
       "    <tr>\n",
       "      <th>27</th>\n",
       "      <td>1951-04-01</td>\n",
       "      <td>163</td>\n",
       "    </tr>\n",
       "    <tr>\n",
       "      <th>28</th>\n",
       "      <td>1951-05-01</td>\n",
       "      <td>172</td>\n",
       "    </tr>\n",
       "    <tr>\n",
       "      <th>29</th>\n",
       "      <td>1951-06-01</td>\n",
       "      <td>178</td>\n",
       "    </tr>\n",
       "    <tr>\n",
       "      <th>...</th>\n",
       "      <td>...</td>\n",
       "      <td>...</td>\n",
       "    </tr>\n",
       "    <tr>\n",
       "      <th>258</th>\n",
       "      <td>1970-07-01</td>\n",
       "      <td>1593</td>\n",
       "    </tr>\n",
       "    <tr>\n",
       "      <th>259</th>\n",
       "      <td>1970-08-01</td>\n",
       "      <td>1586</td>\n",
       "    </tr>\n",
       "    <tr>\n",
       "      <th>260</th>\n",
       "      <td>1970-09-01</td>\n",
       "      <td>1327</td>\n",
       "    </tr>\n",
       "    <tr>\n",
       "      <th>261</th>\n",
       "      <td>1970-10-01</td>\n",
       "      <td>1182</td>\n",
       "    </tr>\n",
       "    <tr>\n",
       "      <th>262</th>\n",
       "      <td>1970-11-01</td>\n",
       "      <td>1022</td>\n",
       "    </tr>\n",
       "    <tr>\n",
       "      <th>263</th>\n",
       "      <td>1970-12-01</td>\n",
       "      <td>1135</td>\n",
       "    </tr>\n",
       "    <tr>\n",
       "      <th>264</th>\n",
       "      <td>1971-01-01</td>\n",
       "      <td>1179</td>\n",
       "    </tr>\n",
       "    <tr>\n",
       "      <th>265</th>\n",
       "      <td>1971-02-01</td>\n",
       "      <td>1115</td>\n",
       "    </tr>\n",
       "    <tr>\n",
       "      <th>266</th>\n",
       "      <td>1971-03-01</td>\n",
       "      <td>1254</td>\n",
       "    </tr>\n",
       "    <tr>\n",
       "      <th>267</th>\n",
       "      <td>1971-04-01</td>\n",
       "      <td>1289</td>\n",
       "    </tr>\n",
       "    <tr>\n",
       "      <th>268</th>\n",
       "      <td>1971-05-01</td>\n",
       "      <td>1333</td>\n",
       "    </tr>\n",
       "    <tr>\n",
       "      <th>269</th>\n",
       "      <td>1971-06-01</td>\n",
       "      <td>1527</td>\n",
       "    </tr>\n",
       "    <tr>\n",
       "      <th>270</th>\n",
       "      <td>1971-07-01</td>\n",
       "      <td>1754</td>\n",
       "    </tr>\n",
       "    <tr>\n",
       "      <th>271</th>\n",
       "      <td>1971-08-01</td>\n",
       "      <td>1747</td>\n",
       "    </tr>\n",
       "    <tr>\n",
       "      <th>272</th>\n",
       "      <td>1971-09-01</td>\n",
       "      <td>1461</td>\n",
       "    </tr>\n",
       "    <tr>\n",
       "      <th>273</th>\n",
       "      <td>1971-10-01</td>\n",
       "      <td>1302</td>\n",
       "    </tr>\n",
       "    <tr>\n",
       "      <th>274</th>\n",
       "      <td>1971-11-01</td>\n",
       "      <td>1125</td>\n",
       "    </tr>\n",
       "    <tr>\n",
       "      <th>275</th>\n",
       "      <td>1971-12-01</td>\n",
       "      <td>1250</td>\n",
       "    </tr>\n",
       "    <tr>\n",
       "      <th>276</th>\n",
       "      <td>1972-01-01</td>\n",
       "      <td>1298</td>\n",
       "    </tr>\n",
       "    <tr>\n",
       "      <th>277</th>\n",
       "      <td>1972-02-01</td>\n",
       "      <td>1227</td>\n",
       "    </tr>\n",
       "    <tr>\n",
       "      <th>278</th>\n",
       "      <td>1972-03-01</td>\n",
       "      <td>1381</td>\n",
       "    </tr>\n",
       "    <tr>\n",
       "      <th>279</th>\n",
       "      <td>1972-04-01</td>\n",
       "      <td>1419</td>\n",
       "    </tr>\n",
       "    <tr>\n",
       "      <th>280</th>\n",
       "      <td>1972-05-01</td>\n",
       "      <td>1467</td>\n",
       "    </tr>\n",
       "    <tr>\n",
       "      <th>281</th>\n",
       "      <td>1972-06-01</td>\n",
       "      <td>1682</td>\n",
       "    </tr>\n",
       "    <tr>\n",
       "      <th>282</th>\n",
       "      <td>1972-07-01</td>\n",
       "      <td>1931</td>\n",
       "    </tr>\n",
       "    <tr>\n",
       "      <th>283</th>\n",
       "      <td>1972-08-01</td>\n",
       "      <td>1923</td>\n",
       "    </tr>\n",
       "    <tr>\n",
       "      <th>284</th>\n",
       "      <td>1972-09-01</td>\n",
       "      <td>1609</td>\n",
       "    </tr>\n",
       "    <tr>\n",
       "      <th>285</th>\n",
       "      <td>1972-10-01</td>\n",
       "      <td>1433</td>\n",
       "    </tr>\n",
       "    <tr>\n",
       "      <th>286</th>\n",
       "      <td>1972-11-01</td>\n",
       "      <td>1239</td>\n",
       "    </tr>\n",
       "    <tr>\n",
       "      <th>287</th>\n",
       "      <td>1972-12-01</td>\n",
       "      <td>1376</td>\n",
       "    </tr>\n",
       "  </tbody>\n",
       "</table>\n",
       "<p>288 rows × 2 columns</p>\n",
       "</div>"
      ],
      "text/plain": [
       "          DATE   AIR\n",
       "0   1949-01-01   112\n",
       "1   1949-02-01   118\n",
       "2   1949-03-01   132\n",
       "3   1949-04-01   129\n",
       "4   1949-05-01   121\n",
       "5   1949-06-01   135\n",
       "6   1949-07-01   148\n",
       "7   1949-08-01   148\n",
       "8   1949-09-01   136\n",
       "9   1949-10-01   119\n",
       "10  1949-11-01   104\n",
       "11  1949-12-01   118\n",
       "12  1950-01-01   115\n",
       "13  1950-02-01   126\n",
       "14  1950-03-01   141\n",
       "15  1950-04-01   135\n",
       "16  1950-05-01   125\n",
       "17  1950-06-01   149\n",
       "18  1950-07-01   170\n",
       "19  1950-08-01   170\n",
       "20  1950-09-01   158\n",
       "21  1950-10-01   133\n",
       "22  1950-11-01   114\n",
       "23  1950-12-01   140\n",
       "24  1951-01-01   145\n",
       "25  1951-02-01   150\n",
       "26  1951-03-01   178\n",
       "27  1951-04-01   163\n",
       "28  1951-05-01   172\n",
       "29  1951-06-01   178\n",
       "..         ...   ...\n",
       "258 1970-07-01  1593\n",
       "259 1970-08-01  1586\n",
       "260 1970-09-01  1327\n",
       "261 1970-10-01  1182\n",
       "262 1970-11-01  1022\n",
       "263 1970-12-01  1135\n",
       "264 1971-01-01  1179\n",
       "265 1971-02-01  1115\n",
       "266 1971-03-01  1254\n",
       "267 1971-04-01  1289\n",
       "268 1971-05-01  1333\n",
       "269 1971-06-01  1527\n",
       "270 1971-07-01  1754\n",
       "271 1971-08-01  1747\n",
       "272 1971-09-01  1461\n",
       "273 1971-10-01  1302\n",
       "274 1971-11-01  1125\n",
       "275 1971-12-01  1250\n",
       "276 1972-01-01  1298\n",
       "277 1972-02-01  1227\n",
       "278 1972-03-01  1381\n",
       "279 1972-04-01  1419\n",
       "280 1972-05-01  1467\n",
       "281 1972-06-01  1682\n",
       "282 1972-07-01  1931\n",
       "283 1972-08-01  1923\n",
       "284 1972-09-01  1609\n",
       "285 1972-10-01  1433\n",
       "286 1972-11-01  1239\n",
       "287 1972-12-01  1376\n",
       "\n",
       "[288 rows x 2 columns]"
      ]
     },
     "execution_count": 2,
     "metadata": {},
     "output_type": "execute_result"
    }
   ],
   "source": [
    "ts288=read_csv('new_288_data.csv', parse_dates=['DATE'], usecols=['DATE','AIR'],squeeze=True)\n",
    "ts288"
   ]
  },
  {
   "cell_type": "code",
   "execution_count": 3,
   "metadata": {},
   "outputs": [
    {
     "name": "stderr",
     "output_type": "stream",
     "text": [
      "C:\\Users\\ranbix\\AppData\\Local\\Continuum\\anaconda3\\lib\\site-packages\\ipykernel_launcher.py:3: FutureWarning: The signature of `Series.to_csv` was aligned to that of `DataFrame.to_csv`, and argument 'header' will change its default value from False to True: please pass an explicit value to suppress this warning.\n",
      "  This is separate from the ipykernel package so we can avoid doing imports until\n"
     ]
    }
   ],
   "source": [
    "series288 = read_csv('new_288_data.csv', header=0, parse_dates=['DATE'], index_col=0, squeeze=True, usecols=['DATE','AIR'])\n",
    "series288\n",
    "series288.to_csv('out288.csv')"
   ]
  },
  {
   "cell_type": "code",
   "execution_count": 165,
   "metadata": {},
   "outputs": [
    {
     "data": {
      "text/plain": [
       "DATE\n",
       "1949-01-01     112\n",
       "1949-02-01     118\n",
       "1949-03-01     132\n",
       "1949-04-01     129\n",
       "1949-05-01     121\n",
       "1949-06-01     135\n",
       "1949-07-01     148\n",
       "1949-08-01     148\n",
       "1949-09-01     136\n",
       "1949-10-01     119\n",
       "1949-11-01     104\n",
       "1949-12-01     118\n",
       "1950-01-01     115\n",
       "1950-02-01     126\n",
       "1950-03-01     141\n",
       "1950-04-01     135\n",
       "1950-05-01     125\n",
       "1950-06-01     149\n",
       "1950-07-01     170\n",
       "1950-08-01     170\n",
       "1950-09-01     158\n",
       "1950-10-01     133\n",
       "1950-11-01     114\n",
       "1950-12-01     140\n",
       "1951-01-01     145\n",
       "1951-02-01     150\n",
       "1951-03-01     178\n",
       "1951-04-01     163\n",
       "1951-05-01     172\n",
       "1951-06-01     178\n",
       "              ... \n",
       "1970-07-01    1593\n",
       "1970-08-01    1586\n",
       "1970-09-01    1327\n",
       "1970-10-01    1182\n",
       "1970-11-01    1022\n",
       "1970-12-01    1135\n",
       "1971-01-01    1179\n",
       "1971-02-01    1115\n",
       "1971-03-01    1254\n",
       "1971-04-01    1289\n",
       "1971-05-01    1333\n",
       "1971-06-01    1527\n",
       "1971-07-01    1754\n",
       "1971-08-01    1747\n",
       "1971-09-01    1461\n",
       "1971-10-01    1302\n",
       "1971-11-01    1125\n",
       "1971-12-01    1250\n",
       "1972-01-01    1298\n",
       "1972-02-01    1227\n",
       "1972-03-01    1381\n",
       "1972-04-01    1419\n",
       "1972-05-01    1467\n",
       "1972-06-01    1682\n",
       "1972-07-01    1931\n",
       "1972-08-01    1923\n",
       "1972-09-01    1609\n",
       "1972-10-01    1433\n",
       "1972-11-01    1239\n",
       "1972-12-01    1376\n",
       "Name: AIR, Length: 288, dtype: int64"
      ]
     },
     "execution_count": 165,
     "metadata": {},
     "output_type": "execute_result"
    }
   ],
   "source": [
    "def parser(x):\n",
    "    return datetime.strptime(x, '%Y-%m-%d')\n",
    "\n",
    "series288 = read_csv('out288.csv', header=0, parse_dates=[0], index_col=0, squeeze=True,date_parser=parser)\n",
    "series"
   ]
  },
  {
   "cell_type": "code",
   "execution_count": 167,
   "metadata": {},
   "outputs": [
    {
     "data": {
      "text/plain": [
       "484.55554008483887"
      ]
     },
     "execution_count": 167,
     "metadata": {},
     "output_type": "execute_result"
    }
   ],
   "source": [
    "%matplotlib inline\n",
    "import numpy as np\n",
    "import pandas as pd\n",
    "from scipy.stats import norm\n",
    "import statsmodels.api as sm\n",
    "import matplotlib.pyplot as plt\n",
    "from datetime import datetime\n",
    "import requests\n",
    "from io import BytesIO\n",
    "\n",
    "\n",
    "# SARIMA model test\n",
    "# 12/03/2018\n",
    "data= series\n",
    "df = np.log(data)\n",
    "df1=df.diff(periods=1)\n",
    "df1_12=df1.diff(periods=12)\n",
    "data= df1_12\n",
    "my_order = (0, 1, 1)\n",
    "my_seasonal_order = (0, 1, 1, 12)\n",
    "\n",
    "start_time = time.time()\n",
    "for i in range(0,1000):\n",
    "    sm.tsa.statespace.SARIMAX(df, order=my_order, seasonal_order=my_seasonal_order).fit().aic\n",
    "    i=i+1\n",
    "\n",
    "\n",
    "time.time() - start_time"
   ]
  },
  {
   "cell_type": "code",
   "execution_count": 168,
   "metadata": {},
   "outputs": [],
   "source": [
    "series864 = read_csv('new_864_data.csv', header=0, parse_dates=['DATE'], index_col=0, squeeze=True, usecols=['DATE','AIR'])\n",
    "series864\n",
    "series864.to_csv('out864.csv')"
   ]
  },
  {
   "cell_type": "code",
   "execution_count": 170,
   "metadata": {},
   "outputs": [
    {
     "data": {
      "text/plain": [
       "1949-01-01\n",
       "1949-02-01       118\n",
       "1949-03-01       132\n",
       "1949-04-01       129\n",
       "1949-05-01       121\n",
       "1949-06-01       135\n",
       "1949-07-01       148\n",
       "1949-08-01       148\n",
       "1949-09-01       136\n",
       "1949-10-01       119\n",
       "1949-11-01       104\n",
       "1949-12-01       118\n",
       "1950-01-01       115\n",
       "1950-02-01       126\n",
       "1950-03-01       141\n",
       "1950-04-01       135\n",
       "1950-05-01       125\n",
       "1950-06-01       149\n",
       "1950-07-01       170\n",
       "1950-08-01       170\n",
       "1950-09-01       158\n",
       "1950-10-01       133\n",
       "1950-11-01       114\n",
       "1950-12-01       140\n",
       "1951-01-01       145\n",
       "1951-02-01       150\n",
       "1951-03-01       178\n",
       "1951-04-01       163\n",
       "1951-05-01       172\n",
       "1951-06-01       178\n",
       "1951-07-01       199\n",
       "               ...  \n",
       "2018-07-01    161700\n",
       "2018-08-01    160993\n",
       "2018-09-01    134713\n",
       "2018-10-01    119996\n",
       "2018-11-01    103745\n",
       "2018-12-01    115178\n",
       "2019-01-01    119688\n",
       "2019-02-01    113123\n",
       "2019-03-01    127283\n",
       "2019-04-01    130843\n",
       "2019-05-01    135268\n",
       "2019-06-01    155008\n",
       "2019-07-01    178038\n",
       "2019-08-01    177258\n",
       "2019-09-01    148324\n",
       "2019-10-01    132120\n",
       "2019-11-01    114227\n",
       "2019-12-01    126815\n",
       "2020-01-01    131780\n",
       "2020-02-01    124552\n",
       "2020-03-01    140143\n",
       "2020-04-01    144063\n",
       "2020-05-01    148934\n",
       "2020-06-01    170670\n",
       "2020-07-01    196025\n",
       "2020-08-01    195167\n",
       "2020-09-01    163310\n",
       "2020-10-01    145468\n",
       "2020-11-01    125768\n",
       "2020-12-01    139627\n",
       "Name: 112, Length: 863, dtype: int64"
      ]
     },
     "execution_count": 170,
     "metadata": {},
     "output_type": "execute_result"
    }
   ],
   "source": [
    "def parser(x):\n",
    "    return datetime.strptime(x, '%Y-%m-%d')\n",
    "\n",
    "series = read_csv('out864.csv', header=0, parse_dates=[0], index_col=0, squeeze=True,date_parser=parser)\n",
    "series"
   ]
  },
  {
   "cell_type": "code",
   "execution_count": 171,
   "metadata": {},
   "outputs": [
    {
     "data": {
      "text/plain": [
       "1498.2334208488464"
      ]
     },
     "execution_count": 171,
     "metadata": {},
     "output_type": "execute_result"
    }
   ],
   "source": [
    "%matplotlib inline\n",
    "import numpy as np\n",
    "import pandas as pd\n",
    "from scipy.stats import norm\n",
    "import statsmodels.api as sm\n",
    "import matplotlib.pyplot as plt\n",
    "from datetime import datetime\n",
    "import requests\n",
    "from io import BytesIO\n",
    "\n",
    "\n",
    "# SARIMA model test\n",
    "# 12/03/2018\n",
    "data= series\n",
    "df = np.log(data)\n",
    "df1=df.diff(periods=1)\n",
    "df1_12=df1.diff(periods=12)\n",
    "data= df1_12\n",
    "my_order = (0, 1, 1)\n",
    "my_seasonal_order = (0, 1, 1, 12)\n",
    "\n",
    "start_time = time.time()\n",
    "for i in range(0,100):\n",
    "    sm.tsa.statespace.SARIMAX(df, order=my_order, seasonal_order=my_seasonal_order).fit().aic\n",
    "    i=i+1\n",
    "\n",
    "\n",
    "time.time() - start_time"
   ]
  },
  {
   "cell_type": "code",
   "execution_count": 172,
   "metadata": {},
   "outputs": [
    {
     "data": {
      "text/plain": [
       "146.09043979644775"
      ]
     },
     "execution_count": 172,
     "metadata": {},
     "output_type": "execute_result"
    }
   ],
   "source": [
    "start_time = time.time()\n",
    "for i in range(0,100):\n",
    "    sm.tsa.statespace.SARIMAX(df, order=my_order, seasonal_order=my_seasonal_order).fit().aic\n",
    "    i=i+1\n",
    "\n",
    "\n",
    "time.time() - start_time"
   ]
  },
  {
   "cell_type": "code",
   "execution_count": null,
   "metadata": {},
   "outputs": [],
   "source": [
    "###############################\n",
    "## ESM                       ##\n",
    "###############################"
   ]
  },
  {
   "cell_type": "code",
   "execution_count": 3,
   "metadata": {},
   "outputs": [
    {
     "data": {
      "text/plain": [
       "month\n",
       "1949-01-01    112.0\n",
       "1949-02-01    118.0\n",
       "1949-03-01    132.0\n",
       "1949-04-01    129.0\n",
       "1949-05-01    121.0\n",
       "Name: sales, dtype: float64"
      ]
     },
     "execution_count": 3,
     "metadata": {},
     "output_type": "execute_result"
    }
   ],
   "source": [
    "series = read_csv('air1.csv', header=0, parse_dates=[0], index_col=0, squeeze=True, date_parser=parser)\n",
    "series.head()"
   ]
  },
  {
   "cell_type": "code",
   "execution_count": 3,
   "metadata": {},
   "outputs": [],
   "source": [
    "from statsmodels.tsa.holtwinters import ExponentialSmoothing, SimpleExpSmoothing, Holt"
   ]
  },
  {
   "cell_type": "code",
   "execution_count": 19,
   "metadata": {},
   "outputs": [
    {
     "data": {
      "text/plain": [
       "pandas.core.series.Series"
      ]
     },
     "execution_count": 19,
     "metadata": {},
     "output_type": "execute_result"
    }
   ],
   "source": [
    "saledata=series;\n"
   ]
  },
  {
   "cell_type": "code",
   "execution_count": 23,
   "metadata": {},
   "outputs": [
    {
     "ename": "AttributeError",
     "evalue": "'SimpleExpSmoothing' object has no attribute '_index'",
     "output_type": "error",
     "traceback": [
      "\u001b[1;31m---------------------------------------------------------------------------\u001b[0m",
      "\u001b[1;31mAttributeError\u001b[0m                            Traceback (most recent call last)",
      "\u001b[1;32m<ipython-input-23-d9a732fedd87>\u001b[0m in \u001b[0;36m<module>\u001b[1;34m()\u001b[0m\n\u001b[0;32m      1\u001b[0m \u001b[1;31m# Simple Exponential Smoothing\u001b[0m\u001b[1;33m\u001b[0m\u001b[1;33m\u001b[0m\u001b[0m\n\u001b[0;32m      2\u001b[0m \u001b[0mfit1\u001b[0m \u001b[1;33m=\u001b[0m \u001b[0mSimpleExpSmoothing\u001b[0m\u001b[1;33m(\u001b[0m\u001b[0msaledata\u001b[0m\u001b[1;33m)\u001b[0m\u001b[1;33m.\u001b[0m\u001b[0mfit\u001b[0m\u001b[1;33m(\u001b[0m\u001b[0msmoothing_level\u001b[0m\u001b[1;33m=\u001b[0m\u001b[1;36m0.2\u001b[0m\u001b[1;33m,\u001b[0m\u001b[0moptimized\u001b[0m\u001b[1;33m=\u001b[0m\u001b[1;32mFalse\u001b[0m\u001b[1;33m)\u001b[0m\u001b[1;33m\u001b[0m\u001b[0m\n\u001b[1;32m----> 3\u001b[1;33m \u001b[0mfcast1\u001b[0m \u001b[1;33m=\u001b[0m \u001b[0mfit1\u001b[0m\u001b[1;33m.\u001b[0m\u001b[0mforecast\u001b[0m\u001b[1;33m(\u001b[0m\u001b[1;36m12\u001b[0m\u001b[1;33m)\u001b[0m\u001b[1;33m.\u001b[0m\u001b[0mrename\u001b[0m\u001b[1;33m(\u001b[0m\u001b[1;34mr'$\\alpha=0.2$'\u001b[0m\u001b[1;33m)\u001b[0m\u001b[1;33m\u001b[0m\u001b[0m\n\u001b[0m\u001b[0;32m      4\u001b[0m \u001b[1;31m# plot\u001b[0m\u001b[1;33m\u001b[0m\u001b[1;33m\u001b[0m\u001b[0m\n\u001b[0;32m      5\u001b[0m \u001b[0mfcast1\u001b[0m\u001b[1;33m.\u001b[0m\u001b[0mplot\u001b[0m\u001b[1;33m(\u001b[0m\u001b[0mmarker\u001b[0m\u001b[1;33m=\u001b[0m\u001b[1;34m'o'\u001b[0m\u001b[1;33m,\u001b[0m \u001b[0mcolor\u001b[0m\u001b[1;33m=\u001b[0m\u001b[1;34m'blue'\u001b[0m\u001b[1;33m,\u001b[0m \u001b[0mlegend\u001b[0m\u001b[1;33m=\u001b[0m\u001b[1;32mTrue\u001b[0m\u001b[1;33m)\u001b[0m\u001b[1;33m\u001b[0m\u001b[0m\n",
      "\u001b[1;32m~\\AppData\\Local\\Continuum\\anaconda3\\lib\\site-packages\\statsmodels\\base\\wrapper.py\u001b[0m in \u001b[0;36mwrapper\u001b[1;34m(self, *args, **kwargs)\u001b[0m\n\u001b[0;32m     93\u001b[0m             \u001b[0mobj\u001b[0m \u001b[1;33m=\u001b[0m \u001b[0mdata\u001b[0m\u001b[1;33m.\u001b[0m\u001b[0mwrap_output\u001b[0m\u001b[1;33m(\u001b[0m\u001b[0mfunc\u001b[0m\u001b[1;33m(\u001b[0m\u001b[0mresults\u001b[0m\u001b[1;33m,\u001b[0m \u001b[1;33m*\u001b[0m\u001b[0margs\u001b[0m\u001b[1;33m,\u001b[0m \u001b[1;33m**\u001b[0m\u001b[0mkwargs\u001b[0m\u001b[1;33m)\u001b[0m\u001b[1;33m,\u001b[0m \u001b[0mhow\u001b[0m\u001b[1;33m[\u001b[0m\u001b[1;36m0\u001b[0m\u001b[1;33m]\u001b[0m\u001b[1;33m,\u001b[0m \u001b[0mhow\u001b[0m\u001b[1;33m[\u001b[0m\u001b[1;36m1\u001b[0m\u001b[1;33m:\u001b[0m\u001b[1;33m]\u001b[0m\u001b[1;33m)\u001b[0m\u001b[1;33m\u001b[0m\u001b[0m\n\u001b[0;32m     94\u001b[0m         \u001b[1;32melif\u001b[0m \u001b[0mhow\u001b[0m\u001b[1;33m:\u001b[0m\u001b[1;33m\u001b[0m\u001b[0m\n\u001b[1;32m---> 95\u001b[1;33m             \u001b[0mobj\u001b[0m \u001b[1;33m=\u001b[0m \u001b[0mdata\u001b[0m\u001b[1;33m.\u001b[0m\u001b[0mwrap_output\u001b[0m\u001b[1;33m(\u001b[0m\u001b[0mfunc\u001b[0m\u001b[1;33m(\u001b[0m\u001b[0mresults\u001b[0m\u001b[1;33m,\u001b[0m \u001b[1;33m*\u001b[0m\u001b[0margs\u001b[0m\u001b[1;33m,\u001b[0m \u001b[1;33m**\u001b[0m\u001b[0mkwargs\u001b[0m\u001b[1;33m)\u001b[0m\u001b[1;33m,\u001b[0m \u001b[0mhow\u001b[0m\u001b[1;33m)\u001b[0m\u001b[1;33m\u001b[0m\u001b[0m\n\u001b[0m\u001b[0;32m     96\u001b[0m         \u001b[1;32mreturn\u001b[0m \u001b[0mobj\u001b[0m\u001b[1;33m\u001b[0m\u001b[0m\n\u001b[0;32m     97\u001b[0m \u001b[1;33m\u001b[0m\u001b[0m\n",
      "\u001b[1;32m~\\AppData\\Local\\Continuum\\anaconda3\\lib\\site-packages\\statsmodels\\tsa\\holtwinters.py\u001b[0m in \u001b[0;36mforecast\u001b[1;34m(self, steps)\u001b[0m\n\u001b[0;32m    320\u001b[0m         \"\"\"\n\u001b[0;32m    321\u001b[0m         \u001b[1;32mtry\u001b[0m\u001b[1;33m:\u001b[0m\u001b[1;33m\u001b[0m\u001b[0m\n\u001b[1;32m--> 322\u001b[1;33m             \u001b[0mstart\u001b[0m \u001b[1;33m=\u001b[0m \u001b[0mself\u001b[0m\u001b[1;33m.\u001b[0m\u001b[0mmodel\u001b[0m\u001b[1;33m.\u001b[0m\u001b[0m_index\u001b[0m\u001b[1;33m[\u001b[0m\u001b[1;33m-\u001b[0m\u001b[1;36m1\u001b[0m\u001b[1;33m]\u001b[0m \u001b[1;33m+\u001b[0m \u001b[1;36m1\u001b[0m\u001b[1;33m\u001b[0m\u001b[0m\n\u001b[0m\u001b[0;32m    323\u001b[0m             \u001b[0mend\u001b[0m \u001b[1;33m=\u001b[0m \u001b[0mself\u001b[0m\u001b[1;33m.\u001b[0m\u001b[0mmodel\u001b[0m\u001b[1;33m.\u001b[0m\u001b[0m_index\u001b[0m\u001b[1;33m[\u001b[0m\u001b[1;33m-\u001b[0m\u001b[1;36m1\u001b[0m\u001b[1;33m]\u001b[0m \u001b[1;33m+\u001b[0m \u001b[0msteps\u001b[0m\u001b[1;33m\u001b[0m\u001b[0m\n\u001b[0;32m    324\u001b[0m             \u001b[1;32mreturn\u001b[0m \u001b[0mself\u001b[0m\u001b[1;33m.\u001b[0m\u001b[0mmodel\u001b[0m\u001b[1;33m.\u001b[0m\u001b[0mpredict\u001b[0m\u001b[1;33m(\u001b[0m\u001b[0mself\u001b[0m\u001b[1;33m.\u001b[0m\u001b[0mparams\u001b[0m\u001b[1;33m,\u001b[0m \u001b[0mstart\u001b[0m\u001b[1;33m=\u001b[0m\u001b[0mstart\u001b[0m\u001b[1;33m,\u001b[0m \u001b[0mend\u001b[0m\u001b[1;33m=\u001b[0m\u001b[0mend\u001b[0m\u001b[1;33m)\u001b[0m\u001b[1;33m\u001b[0m\u001b[0m\n",
      "\u001b[1;31mAttributeError\u001b[0m: 'SimpleExpSmoothing' object has no attribute '_index'"
     ]
    }
   ],
   "source": []
  },
  {
   "cell_type": "code",
   "execution_count": 20,
   "metadata": {},
   "outputs": [
    {
     "name": "stderr",
     "output_type": "stream",
     "text": [
      "C:\\Users\\ranbix\\AppData\\Local\\Continuum\\anaconda3\\lib\\site-packages\\statsmodels\\tsa\\base\\tsa_model.py:171: ValueWarning: No frequency information was provided, so inferred frequency MS will be used.\n",
      "  % freq, ValueWarning)\n",
      "C:\\Users\\ranbix\\AppData\\Local\\Continuum\\anaconda3\\lib\\site-packages\\statsmodels\\tsa\\base\\tsa_model.py:191: FutureWarning: Creating a DatetimeIndex by passing range endpoints is deprecated.  Use `pandas.date_range` instead.\n",
      "  start=index[0], end=index[-1], freq=freq)\n"
     ]
    },
    {
     "data": {
      "text/plain": [
       "<statsmodels.tsa.holtwinters.HoltWintersResultsWrapper at 0x18142ec0d68>"
      ]
     },
     "execution_count": 20,
     "metadata": {},
     "output_type": "execute_result"
    }
   ],
   "source": [
    "SimpleExpSmoothing(cc).fit(smoothing_level=0.2,optimized=False)"
   ]
  },
  {
   "cell_type": "code",
   "execution_count": 11,
   "metadata": {},
   "outputs": [
    {
     "ename": "NameError",
     "evalue": "name 'index' is not defined",
     "output_type": "error",
     "traceback": [
      "\u001b[1;31m---------------------------------------------------------------------------\u001b[0m",
      "\u001b[1;31mNameError\u001b[0m                                 Traceback (most recent call last)",
      "\u001b[1;32m<ipython-input-11-5653060c01bd>\u001b[0m in \u001b[0;36m<module>\u001b[1;34m()\u001b[0m\n\u001b[1;32m----> 1\u001b[1;33m \u001b[0mpandas\u001b[0m\u001b[1;33m.\u001b[0m\u001b[0mdate_range\u001b[0m\u001b[1;33m(\u001b[0m\u001b[0mseries\u001b[0m\u001b[1;33m,\u001b[0m\u001b[0mstart\u001b[0m\u001b[1;33m=\u001b[0m\u001b[0mindex\u001b[0m\u001b[1;33m[\u001b[0m\u001b[1;36m0\u001b[0m\u001b[1;33m]\u001b[0m\u001b[1;33m,\u001b[0m \u001b[0mend\u001b[0m\u001b[1;33m=\u001b[0m\u001b[0mindex\u001b[0m\u001b[1;33m[\u001b[0m\u001b[1;33m-\u001b[0m\u001b[1;36m1\u001b[0m\u001b[1;33m]\u001b[0m\u001b[1;33m,\u001b[0m \u001b[0mfreq\u001b[0m\u001b[1;33m=\u001b[0m\u001b[1;36m12\u001b[0m\u001b[1;33m)\u001b[0m\u001b[1;33m\u001b[0m\u001b[0m\n\u001b[0m",
      "\u001b[1;31mNameError\u001b[0m: name 'index' is not defined"
     ]
    }
   ],
   "source": [
    "pandas.date_range(series,start=index[0], end=index[-1], freq=12)"
   ]
  },
  {
   "cell_type": "code",
   "execution_count": 18,
   "metadata": {},
   "outputs": [],
   "source": [
    "cc=series.to_frame()"
   ]
  },
  {
   "cell_type": "code",
   "execution_count": 19,
   "metadata": {},
   "outputs": [
    {
     "data": {
      "text/plain": [
       "pandas.core.frame.DataFrame"
      ]
     },
     "execution_count": 19,
     "metadata": {},
     "output_type": "execute_result"
    }
   ],
   "source": [
    "type(cc)"
   ]
  },
  {
   "cell_type": "code",
   "execution_count": 27,
   "metadata": {},
   "outputs": [
    {
     "data": {
      "text/html": [
       "<div>\n",
       "<style scoped>\n",
       "    .dataframe tbody tr th:only-of-type {\n",
       "        vertical-align: middle;\n",
       "    }\n",
       "\n",
       "    .dataframe tbody tr th {\n",
       "        vertical-align: top;\n",
       "    }\n",
       "\n",
       "    .dataframe thead th {\n",
       "        text-align: right;\n",
       "    }\n",
       "</style>\n",
       "<table border=\"1\" class=\"dataframe\">\n",
       "  <thead>\n",
       "    <tr style=\"text-align: right;\">\n",
       "      <th></th>\n",
       "      <th>sales</th>\n",
       "    </tr>\n",
       "    <tr>\n",
       "      <th>month</th>\n",
       "      <th></th>\n",
       "    </tr>\n",
       "  </thead>\n",
       "  <tbody>\n",
       "    <tr>\n",
       "      <th>1949-01-01</th>\n",
       "      <td>112.0</td>\n",
       "    </tr>\n",
       "    <tr>\n",
       "      <th>1949-02-01</th>\n",
       "      <td>118.0</td>\n",
       "    </tr>\n",
       "    <tr>\n",
       "      <th>1949-03-01</th>\n",
       "      <td>132.0</td>\n",
       "    </tr>\n",
       "    <tr>\n",
       "      <th>1949-04-01</th>\n",
       "      <td>129.0</td>\n",
       "    </tr>\n",
       "    <tr>\n",
       "      <th>1949-05-01</th>\n",
       "      <td>121.0</td>\n",
       "    </tr>\n",
       "  </tbody>\n",
       "</table>\n",
       "</div>"
      ],
      "text/plain": [
       "            sales\n",
       "month            \n",
       "1949-01-01  112.0\n",
       "1949-02-01  118.0\n",
       "1949-03-01  132.0\n",
       "1949-04-01  129.0\n",
       "1949-05-01  121.0"
      ]
     },
     "execution_count": 27,
     "metadata": {},
     "output_type": "execute_result"
    }
   ],
   "source": [
    "cc.head()"
   ]
  },
  {
   "cell_type": "code",
   "execution_count": 28,
   "metadata": {},
   "outputs": [
    {
     "name": "stderr",
     "output_type": "stream",
     "text": [
      "C:\\Users\\ranbix\\AppData\\Local\\Continuum\\anaconda3\\lib\\site-packages\\statsmodels\\tsa\\base\\tsa_model.py:171: ValueWarning: No frequency information was provided, so inferred frequency MS will be used.\n",
      "  % freq, ValueWarning)\n",
      "C:\\Users\\ranbix\\AppData\\Local\\Continuum\\anaconda3\\lib\\site-packages\\statsmodels\\tsa\\base\\tsa_model.py:191: FutureWarning: Creating a DatetimeIndex by passing range endpoints is deprecated.  Use `pandas.date_range` instead.\n",
      "  start=index[0], end=index[-1], freq=freq)\n",
      "C:\\Users\\ranbix\\AppData\\Local\\Continuum\\anaconda3\\lib\\site-packages\\statsmodels\\tsa\\holtwinters.py:322: FutureWarning: Addition/subtraction of integers and integer-arrays to Timestamp is deprecated, will be removed in a future version.  Instead of adding/subtracting `n`, use `n * self.freq`\n",
      "  start = self.model._index[-1] + 1\n",
      "C:\\Users\\ranbix\\AppData\\Local\\Continuum\\anaconda3\\lib\\site-packages\\statsmodels\\tsa\\holtwinters.py:323: FutureWarning: Addition/subtraction of integers and integer-arrays to Timestamp is deprecated, will be removed in a future version.  Instead of adding/subtracting `n`, use `n * self.freq`\n",
      "  end = self.model._index[-1] + steps\n",
      "C:\\Users\\ranbix\\AppData\\Local\\Continuum\\anaconda3\\lib\\site-packages\\statsmodels\\tsa\\base\\tsa_model.py:336: FutureWarning: Creating a DatetimeIndex by passing range endpoints is deprecated.  Use `pandas.date_range` instead.\n",
      "  freq=base_index.freq)\n",
      "C:\\Users\\ranbix\\AppData\\Local\\Continuum\\anaconda3\\lib\\site-packages\\statsmodels\\tsa\\base\\tsa_model.py:171: ValueWarning: No frequency information was provided, so inferred frequency MS will be used.\n",
      "  % freq, ValueWarning)\n",
      "C:\\Users\\ranbix\\AppData\\Local\\Continuum\\anaconda3\\lib\\site-packages\\statsmodels\\tsa\\base\\tsa_model.py:171: ValueWarning: No frequency information was provided, so inferred frequency MS will be used.\n",
      "  % freq, ValueWarning)\n"
     ]
    },
    {
     "data": {
      "image/png": "[encoded data removed]",
      "text/plain": [
       "<matplotlib.figure.Figure at 0x181435a7358>"
      ]
     },
     "metadata": {},
     "output_type": "display_data"
    }
   ],
   "source": [
    "# Simple Exponential Smoothing\n",
    "fit1 = SimpleExpSmoothing(cc).fit(smoothing_level=0.2,optimized=False)\n",
    "fcast1 = fit1.forecast(12).rename(r'$\\alpha=0.2$')\n",
    "# plot\n",
    "fcast1.plot(marker='o', color='blue', legend=True)\n",
    "fit1.fittedvalues.plot(marker='o',  color='blue')\n",
    "\n",
    "\n",
    "\n",
    "fit2 = SimpleExpSmoothing(cc).fit(smoothing_level=0.6,optimized=False)\n",
    "fcast2 = fit2.forecast(12).rename(r'$\\alpha=0.6$')\n",
    "# plot\n",
    "fcast2.plot(marker='o', color='red', legend=True)\n",
    "fit2.fittedvalues.plot(marker='o', color='red')\n",
    "\n",
    "\n",
    "fit3 = SimpleExpSmoothing(cc).fit()\n",
    "fcast3 = fit3.forecast(12).rename(r'$\\alpha=%s$'%fit3.model.params['smoothing_level'])\n",
    "# plot\n",
    "fcast3.plot(marker='o', color='green', legend=True)\n",
    "fit3.fittedvalues.plot(marker='o', color='green')\n",
    "\n",
    "pyplot.show()"
   ]
  },
  {
   "cell_type": "code",
   "execution_count": 29,
   "metadata": {},
   "outputs": [
    {
     "name": "stderr",
     "output_type": "stream",
     "text": [
      "C:\\Users\\ranbix\\AppData\\Local\\Continuum\\anaconda3\\lib\\site-packages\\statsmodels\\tsa\\base\\tsa_model.py:171: ValueWarning: No frequency information was provided, so inferred frequency MS will be used.\n",
      "  % freq, ValueWarning)\n",
      "C:\\Users\\ranbix\\AppData\\Local\\Continuum\\anaconda3\\lib\\site-packages\\statsmodels\\tsa\\base\\tsa_model.py:191: FutureWarning: Creating a DatetimeIndex by passing range endpoints is deprecated.  Use `pandas.date_range` instead.\n",
      "  start=index[0], end=index[-1], freq=freq)\n",
      "C:\\Users\\ranbix\\AppData\\Local\\Continuum\\anaconda3\\lib\\site-packages\\statsmodels\\tsa\\holtwinters.py:322: FutureWarning: Addition/subtraction of integers and integer-arrays to Timestamp is deprecated, will be removed in a future version.  Instead of adding/subtracting `n`, use `n * self.freq`\n",
      "  start = self.model._index[-1] + 1\n",
      "C:\\Users\\ranbix\\AppData\\Local\\Continuum\\anaconda3\\lib\\site-packages\\statsmodels\\tsa\\holtwinters.py:323: FutureWarning: Addition/subtraction of integers and integer-arrays to Timestamp is deprecated, will be removed in a future version.  Instead of adding/subtracting `n`, use `n * self.freq`\n",
      "  end = self.model._index[-1] + steps\n",
      "C:\\Users\\ranbix\\AppData\\Local\\Continuum\\anaconda3\\lib\\site-packages\\statsmodels\\tsa\\base\\tsa_model.py:336: FutureWarning: Creating a DatetimeIndex by passing range endpoints is deprecated.  Use `pandas.date_range` instead.\n",
      "  freq=base_index.freq)\n",
      "C:\\Users\\ranbix\\AppData\\Local\\Continuum\\anaconda3\\lib\\site-packages\\statsmodels\\tsa\\base\\tsa_model.py:171: ValueWarning: No frequency information was provided, so inferred frequency MS will be used.\n",
      "  % freq, ValueWarning)\n"
     ]
    },
    {
     "ename": "ValueError",
     "evalue": "The truth value of a Series is ambiguous. Use a.empty, a.bool(), a.item(), a.any() or a.all().",
     "output_type": "error",
     "traceback": [
      "\u001b[1;31m---------------------------------------------------------------------------\u001b[0m",
      "\u001b[1;31mValueError\u001b[0m                                Traceback (most recent call last)",
      "\u001b[1;32m<ipython-input-29-6b7eb4fce632>\u001b[0m in \u001b[0;36m<module>\u001b[1;34m()\u001b[0m\n\u001b[0;32m      3\u001b[0m \u001b[0mfcast1\u001b[0m \u001b[1;33m=\u001b[0m \u001b[0mfit1\u001b[0m\u001b[1;33m.\u001b[0m\u001b[0mforecast\u001b[0m\u001b[1;33m(\u001b[0m\u001b[1;36m12\u001b[0m\u001b[1;33m)\u001b[0m\u001b[1;33m.\u001b[0m\u001b[0mrename\u001b[0m\u001b[1;33m(\u001b[0m\u001b[1;34m\"Holt's linear trend\"\u001b[0m\u001b[1;33m)\u001b[0m\u001b[1;33m\u001b[0m\u001b[0m\n\u001b[0;32m      4\u001b[0m \u001b[1;33m\u001b[0m\u001b[0m\n\u001b[1;32m----> 5\u001b[1;33m \u001b[0mfit2\u001b[0m \u001b[1;33m=\u001b[0m \u001b[0mHolt\u001b[0m\u001b[1;33m(\u001b[0m\u001b[0mcc\u001b[0m\u001b[1;33m,\u001b[0m \u001b[0mexponential\u001b[0m\u001b[1;33m=\u001b[0m\u001b[1;32mTrue\u001b[0m\u001b[1;33m)\u001b[0m\u001b[1;33m.\u001b[0m\u001b[0mfit\u001b[0m\u001b[1;33m(\u001b[0m\u001b[0msmoothing_level\u001b[0m\u001b[1;33m=\u001b[0m\u001b[1;36m0.8\u001b[0m\u001b[1;33m,\u001b[0m \u001b[0msmoothing_slope\u001b[0m\u001b[1;33m=\u001b[0m\u001b[1;36m0.2\u001b[0m\u001b[1;33m,\u001b[0m \u001b[0moptimized\u001b[0m\u001b[1;33m=\u001b[0m\u001b[1;32mFalse\u001b[0m\u001b[1;33m)\u001b[0m\u001b[1;33m\u001b[0m\u001b[0m\n\u001b[0m\u001b[0;32m      6\u001b[0m \u001b[0mfcast2\u001b[0m \u001b[1;33m=\u001b[0m \u001b[0mfit2\u001b[0m\u001b[1;33m.\u001b[0m\u001b[0mforecast\u001b[0m\u001b[1;33m(\u001b[0m\u001b[1;36m12\u001b[0m\u001b[1;33m)\u001b[0m\u001b[1;33m.\u001b[0m\u001b[0mrename\u001b[0m\u001b[1;33m(\u001b[0m\u001b[1;34m\"Exponential trend\"\u001b[0m\u001b[1;33m)\u001b[0m\u001b[1;33m\u001b[0m\u001b[0m\n\u001b[0;32m      7\u001b[0m \u001b[1;33m\u001b[0m\u001b[0m\n",
      "\u001b[1;32m~\\AppData\\Local\\Continuum\\anaconda3\\lib\\site-packages\\statsmodels\\tsa\\holtwinters.py\u001b[0m in \u001b[0;36m__init__\u001b[1;34m(self, endog, exponential, damped)\u001b[0m\n\u001b[0;32m    851\u001b[0m     \u001b[1;32mdef\u001b[0m \u001b[0m__init__\u001b[0m\u001b[1;33m(\u001b[0m\u001b[0mself\u001b[0m\u001b[1;33m,\u001b[0m \u001b[0mendog\u001b[0m\u001b[1;33m,\u001b[0m \u001b[0mexponential\u001b[0m\u001b[1;33m=\u001b[0m\u001b[1;32mFalse\u001b[0m\u001b[1;33m,\u001b[0m \u001b[0mdamped\u001b[0m\u001b[1;33m=\u001b[0m\u001b[1;32mFalse\u001b[0m\u001b[1;33m)\u001b[0m\u001b[1;33m:\u001b[0m\u001b[1;33m\u001b[0m\u001b[0m\n\u001b[0;32m    852\u001b[0m         \u001b[0mtrend\u001b[0m \u001b[1;33m=\u001b[0m \u001b[1;34m'mul'\u001b[0m \u001b[1;32mif\u001b[0m \u001b[0mexponential\u001b[0m \u001b[1;32melse\u001b[0m \u001b[1;34m'add'\u001b[0m\u001b[1;33m\u001b[0m\u001b[0m\n\u001b[1;32m--> 853\u001b[1;33m         \u001b[0msuper\u001b[0m\u001b[1;33m(\u001b[0m\u001b[0mHolt\u001b[0m\u001b[1;33m,\u001b[0m \u001b[0mself\u001b[0m\u001b[1;33m)\u001b[0m\u001b[1;33m.\u001b[0m\u001b[0m__init__\u001b[0m\u001b[1;33m(\u001b[0m\u001b[0mendog\u001b[0m\u001b[1;33m,\u001b[0m \u001b[0mtrend\u001b[0m\u001b[1;33m=\u001b[0m\u001b[0mtrend\u001b[0m\u001b[1;33m,\u001b[0m \u001b[0mdamped\u001b[0m\u001b[1;33m=\u001b[0m\u001b[0mdamped\u001b[0m\u001b[1;33m)\u001b[0m\u001b[1;33m\u001b[0m\u001b[0m\n\u001b[0m\u001b[0;32m    854\u001b[0m \u001b[1;33m\u001b[0m\u001b[0m\n\u001b[0;32m    855\u001b[0m     \u001b[1;32mdef\u001b[0m \u001b[0mfit\u001b[0m\u001b[1;33m(\u001b[0m\u001b[0mself\u001b[0m\u001b[1;33m,\u001b[0m \u001b[0msmoothing_level\u001b[0m\u001b[1;33m=\u001b[0m\u001b[1;32mNone\u001b[0m\u001b[1;33m,\u001b[0m \u001b[0msmoothing_slope\u001b[0m\u001b[1;33m=\u001b[0m\u001b[1;32mNone\u001b[0m\u001b[1;33m,\u001b[0m \u001b[0mdamping_slope\u001b[0m\u001b[1;33m=\u001b[0m\u001b[1;32mNone\u001b[0m\u001b[1;33m,\u001b[0m \u001b[0moptimized\u001b[0m\u001b[1;33m=\u001b[0m\u001b[1;32mTrue\u001b[0m\u001b[1;33m)\u001b[0m\u001b[1;33m:\u001b[0m\u001b[1;33m\u001b[0m\u001b[0m\n",
      "\u001b[1;32m~\\AppData\\Local\\Continuum\\anaconda3\\lib\\site-packages\\statsmodels\\tsa\\holtwinters.py\u001b[0m in \u001b[0;36m__init__\u001b[1;34m(self, endog, trend, damped, seasonal, seasonal_periods, dates, freq, missing)\u001b[0m\n\u001b[0;32m    389\u001b[0m         \u001b[0mself\u001b[0m\u001b[1;33m.\u001b[0m\u001b[0mtrending\u001b[0m \u001b[1;33m=\u001b[0m \u001b[0mtrend\u001b[0m \u001b[1;32min\u001b[0m \u001b[1;33m[\u001b[0m\u001b[1;34m'mul'\u001b[0m\u001b[1;33m,\u001b[0m \u001b[1;34m'add'\u001b[0m\u001b[1;33m]\u001b[0m\u001b[1;33m\u001b[0m\u001b[0m\n\u001b[0;32m    390\u001b[0m         \u001b[0mself\u001b[0m\u001b[1;33m.\u001b[0m\u001b[0mseasoning\u001b[0m \u001b[1;33m=\u001b[0m \u001b[0mseasonal\u001b[0m \u001b[1;32min\u001b[0m \u001b[1;33m[\u001b[0m\u001b[1;34m'mul'\u001b[0m\u001b[1;33m,\u001b[0m \u001b[1;34m'add'\u001b[0m\u001b[1;33m]\u001b[0m\u001b[1;33m\u001b[0m\u001b[0m\n\u001b[1;32m--> 391\u001b[1;33m         \u001b[1;32mif\u001b[0m \u001b[1;33m(\u001b[0m\u001b[0mself\u001b[0m\u001b[1;33m.\u001b[0m\u001b[0mtrend\u001b[0m \u001b[1;33m==\u001b[0m \u001b[1;34m'mul'\u001b[0m \u001b[1;32mor\u001b[0m \u001b[0mself\u001b[0m\u001b[1;33m.\u001b[0m\u001b[0mseasonal\u001b[0m \u001b[1;33m==\u001b[0m \u001b[1;34m'mul'\u001b[0m\u001b[1;33m)\u001b[0m \u001b[1;32mand\u001b[0m \u001b[1;33m(\u001b[0m\u001b[0mendog\u001b[0m \u001b[1;33m<=\u001b[0m \u001b[1;36m0.0\u001b[0m\u001b[1;33m)\u001b[0m\u001b[1;33m.\u001b[0m\u001b[0many\u001b[0m\u001b[1;33m(\u001b[0m\u001b[1;33m)\u001b[0m\u001b[1;33m:\u001b[0m\u001b[1;33m\u001b[0m\u001b[0m\n\u001b[0m\u001b[0;32m    392\u001b[0m             raise NotImplementedError(\n\u001b[0;32m    393\u001b[0m                 'Unable to correct for negative or zero values')\n",
      "\u001b[1;32m~\\AppData\\Local\\Continuum\\anaconda3\\lib\\site-packages\\pandas\\core\\generic.py\u001b[0m in \u001b[0;36m__nonzero__\u001b[1;34m(self)\u001b[0m\n\u001b[0;32m   1467\u001b[0m         raise ValueError(\"The truth value of a {0} is ambiguous. \"\n\u001b[0;32m   1468\u001b[0m                          \u001b[1;34m\"Use a.empty, a.bool(), a.item(), a.any() or a.all().\"\u001b[0m\u001b[1;33m\u001b[0m\u001b[0m\n\u001b[1;32m-> 1469\u001b[1;33m                          .format(self.__class__.__name__))\n\u001b[0m\u001b[0;32m   1470\u001b[0m \u001b[1;33m\u001b[0m\u001b[0m\n\u001b[0;32m   1471\u001b[0m     \u001b[0m__bool__\u001b[0m \u001b[1;33m=\u001b[0m \u001b[0m__nonzero__\u001b[0m\u001b[1;33m\u001b[0m\u001b[0m\n",
      "\u001b[1;31mValueError\u001b[0m: The truth value of a Series is ambiguous. Use a.empty, a.bool(), a.item(), a.any() or a.all()."
     ]
    }
   ],
   "source": [
    "# Holt’s Method Exponential Smoothing\n",
    "fit1 = Holt(cc).fit(smoothing_level=0.8, smoothing_slope=0.2, optimized=False)\n",
    "fcast1 = fit1.forecast(12).rename(\"Holt's linear trend\")\n",
    "\n",
    "fit2 = Holt(cc, exponential=True).fit(smoothing_level=0.8, smoothing_slope=0.2, optimized=False)\n",
    "fcast2 = fit2.forecast(12).rename(\"Exponential trend\")\n",
    "\n",
    "fit3 = Holt(cc, damped=True).fit(smoothing_level=0.8, smoothing_slope=0.2)\n",
    "fcast3 = fit3.forecast(12).rename(\"Additive damped trend\")\n",
    "\n",
    "\n",
    "fit1.fittedvalues.plot(marker=\"o\", color='blue')\n",
    "fcast1.plot(color='blue', marker=\"o\", legend=True)\n",
    "fit2.fittedvalues.plot(marker=\"o\", color='red')\n",
    "fcast2.plot(color='red', marker=\"o\", legend=True)\n",
    "fit3.fittedvalues.plot(marker=\"o\", color='green')\n",
    "fcast3.plot(color='green', marker=\"o\", legend=True)\n",
    "\n",
    "pyplot.show()"
   ]
  },
  {
   "cell_type": "code",
   "execution_count": 46,
   "metadata": {},
   "outputs": [
    {
     "name": "stderr",
     "output_type": "stream",
     "text": [
      "C:\\Users\\ranbix\\AppData\\Local\\Continuum\\anaconda3\\lib\\site-packages\\statsmodels\\tsa\\base\\tsa_model.py:171: ValueWarning: No frequency information was provided, so inferred frequency MS will be used.\n",
      "  % freq, ValueWarning)\n",
      "C:\\Users\\ranbix\\AppData\\Local\\Continuum\\anaconda3\\lib\\site-packages\\statsmodels\\tsa\\base\\tsa_model.py:191: FutureWarning: Creating a DatetimeIndex by passing range endpoints is deprecated.  Use `pandas.date_range` instead.\n",
      "  start=index[0], end=index[-1], freq=freq)\n",
      "C:\\Users\\ranbix\\AppData\\Local\\Continuum\\anaconda3\\lib\\site-packages\\statsmodels\\tsa\\base\\tsa_model.py:171: ValueWarning: No frequency information was provided, so inferred frequency MS will be used.\n",
      "  % freq, ValueWarning)\n",
      "C:\\Users\\ranbix\\AppData\\Local\\Continuum\\anaconda3\\lib\\site-packages\\statsmodels\\tsa\\base\\tsa_model.py:171: ValueWarning: No frequency information was provided, so inferred frequency MS will be used.\n",
      "  % freq, ValueWarning)\n",
      "C:\\Users\\ranbix\\AppData\\Local\\Continuum\\anaconda3\\lib\\site-packages\\statsmodels\\tsa\\base\\tsa_model.py:171: ValueWarning: No frequency information was provided, so inferred frequency MS will be used.\n",
      "  % freq, ValueWarning)\n",
      "C:\\Users\\ranbix\\AppData\\Local\\Continuum\\anaconda3\\lib\\site-packages\\statsmodels\\tsa\\holtwinters.py:322: FutureWarning: Addition/subtraction of integers and integer-arrays to Timestamp is deprecated, will be removed in a future version.  Instead of adding/subtracting `n`, use `n * self.freq`\n",
      "  start = self.model._index[-1] + 1\n",
      "C:\\Users\\ranbix\\AppData\\Local\\Continuum\\anaconda3\\lib\\site-packages\\statsmodels\\tsa\\holtwinters.py:323: FutureWarning: Addition/subtraction of integers and integer-arrays to Timestamp is deprecated, will be removed in a future version.  Instead of adding/subtracting `n`, use `n * self.freq`\n",
      "  end = self.model._index[-1] + steps\n",
      "C:\\Users\\ranbix\\AppData\\Local\\Continuum\\anaconda3\\lib\\site-packages\\statsmodels\\tsa\\base\\tsa_model.py:336: FutureWarning: Creating a DatetimeIndex by passing range endpoints is deprecated.  Use `pandas.date_range` instead.\n",
      "  freq=base_index.freq)\n"
     ]
    },
    {
     "data": {
      "image/png": "[encoded data removed]",
      "text/plain": [
       "<matplotlib.figure.Figure at 0x1814352d4a8>"
      ]
     },
     "metadata": {},
     "output_type": "display_data"
    },
    {
     "name": "stdout",
     "output_type": "stream",
     "text": [
      "Forecasting sales of properties using Holt-Winters method with both additive and multiplicative seasonality.\n"
     ]
    }
   ],
   "source": [
    "fit1 = ExponentialSmoothing(series, seasonal_periods=4, trend='add', seasonal='add').fit(use_boxcox=True)\n",
    "fit2 = ExponentialSmoothing(series, seasonal_periods=4, trend='add', seasonal='mul').fit(use_boxcox=True)\n",
    "fit3 = ExponentialSmoothing(series, seasonal_periods=4, trend='add', seasonal='add', damped=True).fit(use_boxcox=True)\n",
    "fit4 = ExponentialSmoothing(series, seasonal_periods=4, trend='add', seasonal='mul', damped=True).fit(use_boxcox=True)\n",
    "fit1.fittedvalues.plot(style='--', color='red')\n",
    "fit2.fittedvalues.plot(style='--', color='green')\n",
    "\n",
    "fit1.forecast(12).plot(style='--', marker='o', color='red', legend=True)\n",
    "fit2.forecast(12).plot(style='--', marker='o', color='green', legend=True)\n",
    "\n",
    "pyplot.show()\n",
    "print(\"Forecasting sales of properties using Holt-Winters method with both additive and multiplicative seasonality.\")\n"
   ]
  },
  {
   "cell_type": "code",
   "execution_count": 54,
   "metadata": {},
   "outputs": [
    {
     "name": "stderr",
     "output_type": "stream",
     "text": [
      "C:\\Users\\ranbix\\AppData\\Local\\Continuum\\anaconda3\\lib\\site-packages\\statsmodels\\tsa\\base\\tsa_model.py:171: ValueWarning: No frequency information was provided, so inferred frequency MS will be used.\n",
      "  % freq, ValueWarning)\n",
      "C:\\Users\\ranbix\\AppData\\Local\\Continuum\\anaconda3\\lib\\site-packages\\statsmodels\\tsa\\base\\tsa_model.py:191: FutureWarning: Creating a DatetimeIndex by passing range endpoints is deprecated.  Use `pandas.date_range` instead.\n",
      "  start=index[0], end=index[-1], freq=freq)\n",
      "C:\\Users\\ranbix\\AppData\\Local\\Continuum\\anaconda3\\lib\\site-packages\\statsmodels\\tsa\\holtwinters.py:322: FutureWarning: Addition/subtraction of integers and integer-arrays to Timestamp is deprecated, will be removed in a future version.  Instead of adding/subtracting `n`, use `n * self.freq`\n",
      "  start = self.model._index[-1] + 1\n",
      "C:\\Users\\ranbix\\AppData\\Local\\Continuum\\anaconda3\\lib\\site-packages\\statsmodels\\tsa\\holtwinters.py:323: FutureWarning: Addition/subtraction of integers and integer-arrays to Timestamp is deprecated, will be removed in a future version.  Instead of adding/subtracting `n`, use `n * self.freq`\n",
      "  end = self.model._index[-1] + steps\n",
      "C:\\Users\\ranbix\\AppData\\Local\\Continuum\\anaconda3\\lib\\site-packages\\statsmodels\\tsa\\base\\tsa_model.py:336: FutureWarning: Creating a DatetimeIndex by passing range endpoints is deprecated.  Use `pandas.date_range` instead.\n",
      "  freq=base_index.freq)\n"
     ]
    },
    {
     "data": {
      "image/png": "[encoded data removed]",
      "text/plain": [
       "<matplotlib.figure.Figure at 0x18143afaa90>"
      ]
     },
     "metadata": {},
     "output_type": "display_data"
    },
    {
     "name": "stdout",
     "output_type": "stream",
     "text": [
      "Forecasting sales of properties using Holt-Winters method with both additive and multiplicative seasonality.\n"
     ]
    }
   ],
   "source": [
    "fit2 = ExponentialSmoothing(series, seasonal_periods=12, trend='add', seasonal='mul').fit(use_boxcox=True)\n",
    "fit2.fittedvalues.plot(style='--', color='green')\n",
    "fit2.forecast(12).plot(style='--', marker='o', color='green', legend=True)\n",
    "\n",
    "pyplot.show()\n",
    "print(\"Forecasting sales of properties using Holt-Winters method with both additive and multiplicative seasonality.\")"
   ]
  },
  {
   "cell_type": "code",
   "execution_count": null,
   "metadata": {},
   "outputs": [],
   "source": []
  }
 ],
 "metadata": {
  "kernelspec": {
   "display_name": "Python 3",
   "language": "python",
   "name": "python3"
  },
  "language_info": {
   "codemirror_mode": {
    "name": "ipython",
    "version": 3
   },
   "file_extension": ".py",
   "mimetype": "text/x-python",
   "name": "python",
   "nbconvert_exporter": "python",
   "pygments_lexer": "ipython3",
   "version": "3.6.4"
  }
 },
 "nbformat": 4,
 "nbformat_minor": 2
}
